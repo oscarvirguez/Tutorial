{
 "cells": [
  {
   "cell_type": "code",
   "execution_count": 1,
   "metadata": {
    "collapsed": false
   },
   "outputs": [],
   "source": [
    "import numpy as np\n",
    "import matplotlib.pyplot as plt\n",
    "import time\n",
    "import sys\n",
    "from optparse import OptionParser\n",
    "from math import ceil, log\n",
    "\n",
    "%matplotlib inline"
   ]
  },
  {
   "cell_type": "code",
   "execution_count": 2,
   "metadata": {
    "collapsed": false
   },
   "outputs": [],
   "source": [
    "class Counter:\n",
    "    '''\n",
    "    Class Counter\n",
    "    Implements a step counter, which is used to compute the number of basic operations performed in\n",
    "    a particular call to a function.\n",
    "    '''\n",
    "    def __init__(self):\n",
    "        self.steps = 0\n",
    "\n",
    "    def reset(self):\n",
    "        self.steps = 0\n",
    "\n",
    "    def count(self):\n",
    "        self.steps += 1\n",
    "\n",
    "    def print_steps(self):\n",
    "        print \"Number of steps =\", self.steps"
   ]
  },
  {
   "cell_type": "markdown",
   "metadata": {},
   "source": [
    "<h3>1. Multiplicación de matrices</h3>"
   ]
  },
  {
   "cell_type": "code",
   "execution_count": 3,
   "metadata": {
    "collapsed": false
   },
   "outputs": [],
   "source": [
    "def multiplication(A, B, acct):\n",
    "    C = np.zeros(((len(A), len(B))), dtype=np.int); acct.count()\n",
    "    for i in range(0, len(A)):\n",
    "        acct.count()\n",
    "        for j in range(0, A[i].size):\n",
    "            acct.count()\n",
    "            for k in range(0, len(B)):\n",
    "                acct.count()\n",
    "                C[i,j] += A[i,k] * B[k,j]; acct.count()\n",
    "    return C"
   ]
  },
  {
   "cell_type": "markdown",
   "metadata": {},
   "source": [
    "<h3>2. Multiplicacion de matrices método Divide-Conquer</h3>"
   ]
  },
  {
   "cell_type": "code",
   "execution_count": 4,
   "metadata": {
    "collapsed": false
   },
   "outputs": [],
   "source": [
    "def multiplyMatrixDQ(A, B, acct):\n",
    "    try:\n",
    "        assert A.shape == B.shape\n",
    "        zero = False; acct.count()\n",
    "        if(len(A)%2 != 0 != len(B)%2):\n",
    "            acct.count()\n",
    "            A = np.append(A, np.zeros((1, len(A)), dtype=np.int), axis=0); acct.count()\n",
    "            A = np.append(A, np.zeros((len(A), 1), dtype=np.int), axis=1); acct.count()\n",
    "            B = np.append(B, np.zeros((1, len(B)), dtype=np.int), axis=0); acct.count()\n",
    "            B = np.append(B, np.zeros((len(B), 1), dtype=np.int), axis=1); acct.count()\n",
    "            zero = True; acct.count()\n",
    "\n",
    "        if(len(A) == 2): \n",
    "            acct.count()\n",
    "            return multiplication(A, B, acct)\n",
    "        else:\n",
    "            acct.count()\n",
    "            fq = (multiplyMatrixDQ((A[:len(A)/2, :A[len(A)/2].size/2]), (B[:len(B)/2, :B[len(B)/2].size/2]), acct) + (multiplyMatrixDQ((A[:len(A)/2, A[len(A)/2].size/2:]), (B[len(B)/2:, 0:B[len(B)/2].size/2]), acct))); acct.count()\n",
    "            sq = (multiplyMatrixDQ((A[:len(A)/2, :A[len(A)/2].size/2]), (B[:len(B)/2, B[len(B)/2].size/2:]), acct) + (multiplyMatrixDQ((A[:len(A)/2, A[len(A)/2].size/2:]), (B[len(B)/2:, B[len(B)/2].size/2:]), acct))); acct.count()\n",
    "            fq_sq = np.concatenate((fq, sq), axis=1); acct.count()\n",
    "            tq = (multiplyMatrixDQ((A[len(A)/2:, 0:A[len(A)/2].size/2]), (B[:len(B)/2, :B[len(B)/2].size/2]), acct) + (multiplyMatrixDQ((A[len(A)/2:, A[len(A)/2].size/2:]), (B[len(B)/2:, 0:B[len(B)/2].size/2]), acct))); acct.count()\n",
    "            qq = (multiplyMatrixDQ((A[len(A)/2:, 0:A[len(A)/2].size/2]), (B[:len(B)/2, B[len(B)/2].size/2:]), acct) + (multiplyMatrixDQ((A[len(A)/2:, A[len(A)/2].size/2:]), (B[len(B)/2:, B[len(B)/2].size/2:]), acct))); acct.count()\n",
    "            tq_qq = np.concatenate((tq, qq), axis=1); acct.count()\n",
    "            C = np.concatenate((fq_sq, tq_qq), axis=0); acct.count()\n",
    "            if(zero):\n",
    "                acct.count()\n",
    "                C = np.delete(C, len(C)-1, 0); acct.count()\n",
    "                C = np.delete(C, len(C), 1); acct.count()\n",
    "                \n",
    "            return C\n",
    "    except  AssertionError:\n",
    "        print \"Error ambas matrices deben ser cuadradas y del mismo tamaño\"\n",
    "        sys.exit()"
   ]
  },
  {
   "cell_type": "markdown",
   "metadata": {},
   "source": [
    "<h3>3. Multiplicacion de matrices Algoritmo de Strassen</h3>"
   ]
  },
  {
   "cell_type": "code",
   "execution_count": 5,
   "metadata": {
    "collapsed": true
   },
   "outputs": [],
   "source": [
    "def add(A, B, acct):\n",
    "    n = len(A); acct.count()\n",
    "    C = np.zeros(shape=(n,n), dtype=np.int); acct.count()\n",
    "    for i in xrange(0, n):\n",
    "        acct.count()\n",
    "        for j in xrange(0, n):\n",
    "            acct.count()\n",
    "            C[i,j] = A[i,j] + B[i,j]; acct.count()\n",
    "    return C"
   ]
  },
  {
   "cell_type": "code",
   "execution_count": 6,
   "metadata": {
    "collapsed": true
   },
   "outputs": [],
   "source": [
    "def subtract(A, B, acct):\n",
    "    n = len(A); acct.count()\n",
    "    C = np.zeros(shape=(n,n), dtype=np.int); acct.count()\n",
    "    for i in xrange(0, n):\n",
    "        acct.count()\n",
    "        for j in xrange(0, n):\n",
    "            acct.count()\n",
    "            C[i,j] = A[i,j] - B[i,j]; acct.count()\n",
    "    return C"
   ]
  },
  {
   "cell_type": "code",
   "execution_count": 7,
   "metadata": {
    "collapsed": false
   },
   "outputs": [],
   "source": [
    "def strassenR(A, B, acct):\n",
    "    n = len(A); acct.count()\n",
    "\n",
    "    if n <= 2:\n",
    "        acct.count()\n",
    "        return multiplication(A, B, acct)\n",
    "    else:\n",
    "        acct.count()\n",
    "        a11 = A[:n/2, :A[n/2].size/2]; acct.count()     # Arriba-izq\n",
    "        a12 = A[:n/2, A[n/2].size/2:]; acct.count()     # Arriba-Der\n",
    "        a21 = A[n/2:, 0:A[n/2].size/2]; acct.count()    # Abajo-Izq\n",
    "        a22 = A[n/2:, A[n/2].size/2:]; acct.count()     # Abajo-Der\n",
    "\n",
    "        b11 = B[:n/2, :B[n/2].size/2]; acct.count()     # Arriba-izq\n",
    "        b12 = B[:n/2, B[n/2].size/2:]; acct.count()     # Arriba-Der\n",
    "        b21 = B[n/2:, 0:B[n/2].size/2]; acct.count()    # Abajo-Izq\n",
    "        b22 = B[n/2:, B[n/2].size/2:]; acct.count()     # Abajo-Der\n",
    "\n",
    "        # Calculando p1 to p7:\n",
    "        aResult = add(a11, a22, acct); acct.count()\n",
    "        bResult = add(b11, b22, acct); acct.count()\n",
    "        p1 = strassenR(aResult, bResult, acct); acct.count() # p1 = (a11+a22) * (b11+b22)\n",
    "\n",
    "        aResult = add(a21, a22, acct); acct.count()      # a21 + a22\n",
    "        p2 = strassenR(aResult, b11, acct); acct.count()  # p2 = (a21+a22) * (b11)\n",
    "\n",
    "        bResult = subtract(b12, b22, acct); acct.count() # b12 - b22\n",
    "        p3 = strassenR(a11, bResult, acct); acct.count()  # p3 = (a11) * (b12 - b22)\n",
    "\n",
    "        bResult = subtract(b21, b11, acct); acct.count() # b21 - b11\n",
    "        p4 =strassenR(a22, bResult, acct); acct.count()   # p4 = (a22) * (b21 - b11)\n",
    "\n",
    "        aResult = add(a11, a12, acct); acct.count()      # a11 + a12\n",
    "        p5 = strassenR(aResult, b22, acct); acct.count()  # p5 = (a11+a12) * (b22)   \n",
    "\n",
    "        aResult = subtract(a21, a11, acct); acct.count() # a21 - a11\n",
    "        bResult = add(b11, b12, acct); acct.count()      # b11 + b12\n",
    "        p6 = strassenR(aResult, bResult, acct); acct.count() # p6 = (a21-a11) * (b11+b12)\n",
    "\n",
    "        aResult = subtract(a12, a22, acct); acct.count() # a12 - a22\n",
    "        bResult = add(b21, b22, acct); acct.count()      # b21 + b22\n",
    "        p7 = strassenR(aResult, bResult, acct); acct.count() # p7 = (a12-a22) * (b21+b22)\n",
    "\n",
    "        # calculando c21, c21, c11 e c22:\n",
    "        c12 = add(p3, p5, acct); acct.count() # c12 = p3 + p5\n",
    "        c21 = add(p2, p4, acct); acct.count()  # c21 = p2 + p4\n",
    "\n",
    "        aResult = add(p1, p4, acct); acct.count() # p1 + p4\n",
    "        bResult = add(aResult, p7, acct); acct.count() # p1 + p4 + p7\n",
    "        c11 = subtract(bResult, p5, acct); acct.count() # c11 = p1 + p4 - p5 + p7\n",
    "\n",
    "        aResult = add(p1, p3, acct); acct.count() # p1 + p3\n",
    "        bResult = add(aResult, p6, acct); acct.count() # p1 + p3 + p6\n",
    "        c22 = subtract(bResult, p2, acct); acct.count() # c22 = p1 + p3 - p2 + p6\n",
    "\n",
    "        # Agupacion de resultados:\n",
    "        C = np.zeros(shape=(n,n), dtype=np.int); acct.count()\n",
    "        \n",
    "        C[:n/2, :A[n/2].size/2] = c11[:n/2, :B[n/2].size/2]; acct.count()\n",
    "        C[:n/2, A[n/2].size/2:] = c12[:n/2, :A[n/2].size/2]; acct.count()\n",
    "        C[n/2:, 0:A[n/2].size/2] = c21[:n/2, :A[n/2].size/2]; acct.count()\n",
    "        C[n/2:, A[n/2].size/2:] = c22[:n/2, :A[n/2].size/2]; acct.count()\n",
    "        return C"
   ]
  },
  {
   "cell_type": "code",
   "execution_count": 8,
   "metadata": {
    "collapsed": true
   },
   "outputs": [],
   "source": [
    "def strassen(A, B, acct):\n",
    "    try:\n",
    "        assert A.shape == B.shape\n",
    "        nextPowerOfTwo = lambda n: 2**int(ceil(log(n,2))); acct.count()\n",
    "        n = len(A); acct.count()\n",
    "        m = nextPowerOfTwo(n); acct.count()\n",
    "        APrep = np.zeros(shape=(m,m), dtype=np.int);\n",
    "        BPrep = np.zeros(shape=(m,m), dtype=np.int);\n",
    "        for i in xrange(n):\n",
    "            acct.count()\n",
    "            for j in xrange(n):\n",
    "                acct.count()\n",
    "                APrep[i,j] = A[i,j]; acct.count()\n",
    "                BPrep[i,j] = B[i,j]; acct.count()\n",
    "        CPrep = strassenR(APrep, BPrep, acct); acct.count()\n",
    "        C = np.zeros(shape=(n,n), dtype=np.int); acct.count()\n",
    "        for i in xrange(n):\n",
    "            acct.count()\n",
    "            for j in xrange(n):\n",
    "                acct.count()\n",
    "                C[i,j] = CPrep[i,j]; acct.count()\n",
    "                \n",
    "        return C\n",
    "    except  AssertionError:\n",
    "        print \"Error ambas matrices deben ser cuadradas y del mismo tamaño\"\n",
    "        sys.exit()"
   ]
  },
  {
   "cell_type": "code",
   "execution_count": 9,
   "metadata": {
    "collapsed": false
   },
   "outputs": [],
   "source": [
    "def exper_analysis(n):\n",
    "    steps1 = []\n",
    "    steps2 = []\n",
    "    steps3 = []\n",
    "    timeP1 = []\n",
    "    timeP2 = []\n",
    "    timeP3 = []\n",
    "    acct1 = Counter()\n",
    "    acct2 = Counter()\n",
    "    acct3 = Counter()\n",
    "    for i in range(2, n):\n",
    "        A1 = np.random.randint(100, size=(i, i))\n",
    "        B1 = np.random.randint(100, size=(i, i))\n",
    "        A2 = A1\n",
    "        B2 = B1\n",
    "        A3 = A1\n",
    "        B3 = B1\n",
    "        acct1.reset()\n",
    "        acct2.reset()\n",
    "        acct3.reset()\n",
    "        \n",
    "        tic1 = time.clock()\n",
    "        multiplication(A1, B1, acct1)\n",
    "        toc1 = time.clock()\n",
    "        \n",
    "        tic2 = time.clock()\n",
    "        multiplyMatrixDQ(A2, B2, acct2)\n",
    "        toc2 = time.clock()\n",
    "        \n",
    "        tic3 = time.clock()\n",
    "        strassen(A3, B3, acct3)\n",
    "        toc3 = time.clock()\n",
    "        \n",
    "        timeP1.append(toc1 - tic1)\n",
    "        timeP2.append(toc2 - tic2)\n",
    "        timeP3.append(toc3 - tic3)\n",
    "        \n",
    "        steps1.append(acct1.steps)\n",
    "        steps2.append(acct2.steps)\n",
    "        steps3.append(acct3.steps)\n",
    "    \n",
    "    steps = np.concatenate((np.asmatrix(steps1), np.asmatrix(steps2), np.asmatrix(steps3)), axis=0)\n",
    "    timeP = np.concatenate((np.asmatrix(timeP1), np.asmatrix(timeP2), np.asmatrix(timeP3)), axis=0)\n",
    "    \n",
    "    results = [steps, timeP]\n",
    "    return results"
   ]
  },
  {
   "cell_type": "markdown",
   "metadata": {},
   "source": [
    "<h3>3. Grafica de cantidad de Operaciones y Tiempos Respectivamente</h3>"
   ]
  },
  {
   "cell_type": "code",
   "execution_count": 10,
   "metadata": {
    "collapsed": false
   },
   "outputs": [
    {
     "data": {
      "image/png": "[encoded data removed]",
      "text/plain": [
       "<matplotlib.figure.Figure at 0x7754080>"
      ]
     },
     "metadata": {},
     "output_type": "display_data"
    }
   ],
   "source": [
    "plt.figure(1)\n",
    "x = np.arange(100)\n",
    "res = exper_analysis(102)\n",
    "s = np.matrix(res[0])           #-> Arreglo con la cantidad de procesos realizados para cada algoritmo (Negro-Tradiciona, Rojo-Divide and Conquer, Azul-Strassen)\n",
    "t = np.matrix(res[1])           #-> Arreglo de tiempos de ejecucion en cada algoritmo (Negro-Tradiciona, Rojo-Divide and Conquer, Azul-Strassen)\n",
    "plt.subplot(211)\n",
    "plt.plot(x, s[0,:].T, 'k.', s[1,:].T , 'r.', s[2,:].T, '.')\n",
    "plt.subplot(212)\n",
    "plt.plot(x, t[0,:].T, 'k', t[1,:].T , 'r', t[2,:].T, '')\n",
    "plt.show()"
   ]
  }
 ],
 "metadata": {
  "anaconda-cloud": {},
  "kernelspec": {
   "display_name": "Python 2",
   "language": "python",
   "name": "python2"
  },
  "language_info": {
   "codemirror_mode": {
    "name": "ipython",
    "version": 2
   },
   "file_extension": ".py",
   "mimetype": "text/x-python",
   "name": "python",
   "nbconvert_exporter": "python",
   "pygments_lexer": "ipython2",
   "version": "2.7.13"
  }
 },
 "nbformat": 4,
 "nbformat_minor": 1
}
