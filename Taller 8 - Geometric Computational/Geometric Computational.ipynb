{
 "cells": [
  {
   "cell_type": "markdown",
   "metadata": {},
   "source": [
    "<h1>Geometrical algorithms</h1>"
   ]
  },
  {
   "cell_type": "markdown",
   "metadata": {},
   "source": [
    "<h1> Basics </h1>\n",
    "\n",
    "<ul>\n",
    "\n",
    "<li>Point: $(x,y)$</li>\n",
    "\n",
    "<li>Line: $ax + b =y$</li>\n",
    "\n",
    "<li>Line segment: Two points</li>\n",
    "\n",
    "<li>Polygon: Sequence of points.</li>\n",
    "</ul>"
   ]
  },
  {
   "cell_type": "markdown",
   "metadata": {},
   "source": [
    "<h2> Points and Line Segments</h2>"
   ]
  },
  {
   "cell_type": "markdown",
   "metadata": {},
   "source": [
    "What is the length of a line segment $S_i$?"
   ]
  },
  {
   "cell_type": "code",
   "execution_count": 9,
   "metadata": {
    "collapsed": true
   },
   "outputs": [],
   "source": [
    "import numpy as np\n",
    "import math\n",
    "%matplotlib inline\n",
    "from matplotlib import pyplot as plt\n",
    "from matplotlib.path import Path\n",
    "from matplotlib.patches import PathPatch"
   ]
  },
  {
   "cell_type": "code",
   "execution_count": 28,
   "metadata": {
    "collapsed": false
   },
   "outputs": [
    {
     "name": "stdout",
     "output_type": "stream",
     "text": [
      "Length(P1,P2) =  5.0\n"
     ]
    }
   ],
   "source": [
    "def length_segment(p1,p2):\n",
    "    return ((p2[0]-p1[0])**2+(p2[1]-p1[1])**2)**.5\n",
    "\n",
    "P1 = [0.,0.]\n",
    "P2 = [3.,4.]\n",
    "print 'Length(P1,P2) = ', length_segment(P1, P2)\n",
    "#np.linalg.norm([P1, P2])"
   ]
  },
  {
   "cell_type": "markdown",
   "metadata": {},
   "source": [
    "What is the midpoint of a line segment $S_i$?"
   ]
  },
  {
   "cell_type": "code",
   "execution_count": 29,
   "metadata": {
    "collapsed": false
   },
   "outputs": [
    {
     "name": "stdout",
     "output_type": "stream",
     "text": [
      "Length(P1,P2) =  [0.5, 2.0]\n"
     ]
    }
   ],
   "source": [
    "def midpoint_segment(p1,p2):\n",
    "    return [(p1[0]+p2[0])/2, (p1[1]+p2[1])/2]\n",
    "\n",
    "P3 = [2.,-1.]\n",
    "P4 = [-1.,5.]\n",
    "print 'Length(P1,P2) = ', midpoint_segment(P3, P4)"
   ]
  },
  {
   "cell_type": "markdown",
   "metadata": {},
   "source": [
    "What is the intersection between two line segments $S_i$ and $S_j$?"
   ]
  },
  {
   "cell_type": "code",
   "execution_count": 6,
   "metadata": {
    "collapsed": false
   },
   "outputs": [],
   "source": [
    "def line(p1, p2):\n",
    "    A = (p1[1] - p2[1])\n",
    "    B = (p2[0] - p1[0])\n",
    "    C = (p1[0]*p2[1] - p2[0]*p1[1])\n",
    "    return A, B, -C\n",
    "\n",
    "def intersection(L1, L2):\n",
    "    D  = L1[0] * L2[1] - L1[1] * L2[0]\n",
    "    Dx = L1[2] * L2[1] - L1[1] * L2[2]\n",
    "    Dy = L1[0] * L2[2] - L1[2] * L2[0]\n",
    "    if D != 0:\n",
    "        x = Dx / D\n",
    "        y = Dy / D\n",
    "        return x,y\n",
    "    else:\n",
    "        return False\n",
    "\n",
    "def isIntersection(P1, P2, P3, P4):\n",
    "    L1 = line(P1, P2)\n",
    "    L2 = line(P3, P4)\n",
    "\n",
    "    R = intersection(L1, L2)\n",
    "    if R:\n",
    "        print \"Intersección en:\", R\n",
    "    else:\n",
    "        print \"INtersección no encontrada\""
   ]
  },
  {
   "cell_type": "code",
   "execution_count": 8,
   "metadata": {
    "collapsed": false
   },
   "outputs": [
    {
     "name": "stdout",
     "output_type": "stream",
     "text": [
      "Intersección en: (0, 0)\n"
     ]
    }
   ],
   "source": [
    "isIntersection((1,1), (2,2), (-1,1), (-2,2))"
   ]
  },
  {
   "cell_type": "markdown",
   "metadata": {},
   "source": [
    "Is a given point $P$ contained in the line segment $S$?"
   ]
  },
  {
   "cell_type": "code",
   "execution_count": 16,
   "metadata": {
    "collapsed": false
   },
   "outputs": [],
   "source": [
    "def isContained(x, y, z):\n",
    "    if((y[0]-x[0])*(z[1]-x[1]) - (y[1]-x[1])*(z[0]-x[0]) == 0):\n",
    "        return True\n",
    "    else:\n",
    "        return False"
   ]
  },
  {
   "cell_type": "code",
   "execution_count": 18,
   "metadata": {
    "collapsed": false
   },
   "outputs": [
    {
     "name": "stdout",
     "output_type": "stream",
     "text": [
      "True\n",
      "False\n"
     ]
    }
   ],
   "source": [
    "print isContained((1,1), (2,2), (3,3))\n",
    "print isContained((1,1), (2,2), (3,5))"
   ]
  },
  {
   "cell_type": "markdown",
   "metadata": {},
   "source": [
    "CCW. Given three points a, b, and c, are the segments $\\bar{ab}$, $\\bar{bc}$ a counterclockwise turn?"
   ]
  },
  {
   "cell_type": "markdown",
   "metadata": {},
   "source": [
    "<h3>Cross product</h3>\n",
    "\n",
    "Consider vectors $p_1$ and $p_2$, cross product can be interpreted as the area of the parallelogram formed by the points $(0,0)$, $p_1$, $p_2$, and $p_1 + p_2$. An equivalent defintion of cross product is a determinant:\n",
    "\n",
    "\\begin{align}\n",
    "p_1 \\times p2 & = &det(\\begin{matrix}x_1 & x_2\\\\ y_1 & y_2\\end{matrix})\\\\\n",
    "  & = &x_1y_2 - x_2y_1\\\\\n",
    "  & = &-p_2\\times p_1\n",
    "\\end{align}\n",
    "\n",
    "<ul>\n",
    "<li>If $p_1\\times p_2 > 0$, then $ p_1$ is clockwise from $p_2$ respect to the origin $(0,0)$</li>\n",
    "<li>If $p_1\\times p_2 < 0$, then $ p_1$ is counterclockwise from $p_2$ respect to the origin $(0,0)$</li>\n",
    "<li>If $p_1\\times p_2 = 0$, then $ p_1$ and $p_2$ are colinear</li>\n",
    "</ul>\n",
    "\n",
    "To determine if a directed segment $\\bar{p_0p_1}$ is closer to a directed segment $\\bar{p_0p2}$ in a clockwise direction we use $p_0$ as the origin. i.e. $p_1-p_0$, $p_2-p_0$, hence the cross product can be computed as\n",
    "\n",
    "$$ (p_1 - p_0) \\times (p_2 - p_0) = (x_1-x_0)(y_1-y0) \\times (x_2-x_0)(y_2-y0)$$\n",
    "\n",
    "To determine whether two consecutive line segments $\\bar{p_0 p_1}$ and $\\bar{p_1 p_2}$ turn counterclockwise at point $p_1$ or not, we simply check whether directed segment $\\bar{p_0 p_2}$ is clockwise or counterclockwise relative to directed segment $\\bar{p_0 p_1}$. To do so, we compute the cross product $\\bar{p_2 p_0} \\times \\bar{p_1 p_0}$. If the sign of this cross product is negative, then $\\bar{p_0p_2}$ is counterclockwise with respect to $\\bar{p_0 p_1}$ and thus we make a left turn at $p_1$. A positive cross product indicates a clockwise orientation and a right turn. A cross product of $0$ means that points $p_0$ , $p_1$ , and $p_2$ are colinear.\n"
   ]
  },
  {
   "cell_type": "code",
   "execution_count": 5,
   "metadata": {
    "collapsed": true
   },
   "outputs": [],
   "source": [
    "def ccw2(p0, p1, p2):\n",
    "    area = (p2[0]-p0[0])*(p1[1]-p0[1]) - (p1[0]-p0[0])*(p2[1]-p0[1])\n",
    "    if area < 0: return -1 #counterclockwise\n",
    "    elif area > 0: return 1 #clockwise\n",
    "    elif area == 0:  return  0 #collinear"
   ]
  },
  {
   "cell_type": "code",
   "execution_count": 6,
   "metadata": {
    "collapsed": false
   },
   "outputs": [
    {
     "name": "stdout",
     "output_type": "stream",
     "text": [
      "-1 1 0\n"
     ]
    }
   ],
   "source": [
    "P1 = [0.,0.]\n",
    "P2 = [3.,4.]\n",
    "P3 = [2.,-1.]\n",
    "P4 = [-1.,5.]\n",
    "print ccw2(P1,P2,P4), ccw2(P1,P2,P3), ccw2([0,0],[1,1],[2,2])"
   ]
  },
  {
   "cell_type": "code",
   "execution_count": 2,
   "metadata": {
    "collapsed": false
   },
   "outputs": [],
   "source": [
    "def ccw(p0, p1, p2):\n",
    "    area = (p1[0]-p0[0])*(p2[1]-p0[1]) - (p1[1]-p0[1])*(p2[0]-p0[0])\n",
    "    if area < 0: return -1 #clockwise\n",
    "    elif area > 0: return 1 #counterclockwise\n",
    "    elif area == 0:  return  0 #collinear"
   ]
  },
  {
   "cell_type": "code",
   "execution_count": 4,
   "metadata": {
    "collapsed": false
   },
   "outputs": [
    {
     "name": "stdout",
     "output_type": "stream",
     "text": [
      "1 -1 0\n"
     ]
    }
   ],
   "source": [
    "P1 = [0.,0.]\n",
    "P2 = [3.,4.]\n",
    "P3 = [2.,-1.]\n",
    "P4 = [-1.,5.]\n",
    "print ccw(P1,P2,P4), ccw(P1,P2,P3), ccw([0,0],[1,1],[2,2])"
   ]
  },
  {
   "cell_type": "code",
   "execution_count": 45,
   "metadata": {
    "collapsed": false
   },
   "outputs": [
    {
     "name": "stdout",
     "output_type": "stream",
     "text": [
      "[0.0, 0.0] [3.0, 4.0]\n",
      "(30,)\n",
      "(40,)\n"
     ]
    }
   ],
   "source": [
    "print P1,P2\n",
    "print np.arange(P1[0],P2[0],.1).shape\n",
    "print np.arange(P1[1],P2[1],.1).shape"
   ]
  },
  {
   "cell_type": "code",
   "execution_count": 50,
   "metadata": {
    "collapsed": false
   },
   "outputs": [
    {
     "data": {
      "text/plain": [
       "(-2.0, 6)"
      ]
     },
     "execution_count": 50,
     "metadata": {},
     "output_type": "execute_result"
    },
    {
     "data": {
      "image/png": "[encoded data removed]",
      "text/plain": [
       "<matplotlib.figure.Figure at 0x7fe4fe73b710>"
      ]
     },
     "metadata": {},
     "output_type": "display_data"
    }
   ],
   "source": [
    "fig, ax = plt.subplots(figsize=(8, 8))\n",
    "plt.plot(P1[0],P1[1],'ro')\n",
    "plt.plot(P2[0],P2[1],'bo')\n",
    "plt.plot(P3[0],P3[1],'mo')\n",
    "plt.plot(P4[0],P4[1],'go')\n",
    "plt.xlim(-2., 6)\n",
    "plt.ylim(-2., 6)"
   ]
  },
  {
   "cell_type": "code",
   "execution_count": 51,
   "metadata": {
    "collapsed": true
   },
   "outputs": [],
   "source": [
    "from sympy.geometry import *"
   ]
  },
  {
   "cell_type": "code",
   "execution_count": 52,
   "metadata": {
    "collapsed": false
   },
   "outputs": [],
   "source": [
    "P1 = Point(0, 0)\n",
    "P2 = Point(3, 4)\n",
    "P3 = Point(2, -1)\n",
    "P4 = Point(-1, 5)\n",
    "S1 = Segment(P1, P2)\n",
    "S2 = Segment(P3, P4)"
   ]
  },
  {
   "cell_type": "code",
   "execution_count": 26,
   "metadata": {
    "collapsed": false
   },
   "outputs": [
    {
     "name": "stdout",
     "output_type": "stream",
     "text": [
      "False\n",
      "5\n",
      "Point(1/2, 2)\n",
      "4/3\n",
      "[Point(9/10, 6/5)]\n",
      "acos(-sqrt(5)/5)\n",
      "False\n"
     ]
    }
   ],
   "source": [
    "print Point.is_collinear(P1, P2, P3)\n",
    "print S1.length\n",
    "print S2.midpoint\n",
    "print S1.slope\n",
    "print S1.intersection(S2)\n",
    "print Segment.angle_between(S1, S2)\n",
    "print S1.contains(P3)"
   ]
  },
  {
   "cell_type": "markdown",
   "metadata": {},
   "source": [
    "<h2>Lines</h2>"
   ]
  },
  {
   "cell_type": "markdown",
   "metadata": {},
   "source": [
    "What is the distance from a point $P$ to the line $L$?"
   ]
  },
  {
   "cell_type": "code",
   "execution_count": 23,
   "metadata": {
    "collapsed": false
   },
   "outputs": [],
   "source": [
    "from sympy import Point, Line\n",
    "\n",
    "def distancePointLine(line, point):\n",
    "    return line.distance(point)"
   ]
  },
  {
   "cell_type": "code",
   "execution_count": 28,
   "metadata": {
    "collapsed": false
   },
   "outputs": [
    {
     "name": "stdout",
     "output_type": "stream",
     "text": [
      "3*sqrt(2)\n"
     ]
    }
   ],
   "source": [
    "print distancePointLine(Line(Point(1, 1), Point(2, 2)), Point (-3, 3))"
   ]
  },
  {
   "cell_type": "markdown",
   "metadata": {},
   "source": [
    "What is an ortogonal line $L_i$ which intersect $L_j$ at an arbitrary point?"
   ]
  },
  {
   "cell_type": "code",
   "execution_count": 32,
   "metadata": {
    "collapsed": true
   },
   "outputs": [],
   "source": [
    "def ortogonal(line, point):\n",
    "    ortogonal = line.perpendicular_line(point)\n",
    "    return ortogonal.equation()"
   ]
  },
  {
   "cell_type": "code",
   "execution_count": 33,
   "metadata": {
    "collapsed": false
   },
   "outputs": [
    {
     "name": "stdout",
     "output_type": "stream",
     "text": [
      "x + y\n"
     ]
    }
   ],
   "source": [
    "print ortogonal(Line(Point(1, 1), Point(2, 2)), Point (-3, 3))"
   ]
  },
  {
   "cell_type": "markdown",
   "metadata": {},
   "source": [
    "What is a line $L_i$ parallel to $L_j$ with a distance $d$?"
   ]
  },
  {
   "cell_type": "code",
   "execution_count": 37,
   "metadata": {
    "collapsed": true
   },
   "outputs": [],
   "source": [
    "def parallel(x,y,z):\n",
    "    return Line(x, y).parallel_line(z).equation()"
   ]
  },
  {
   "cell_type": "code",
   "execution_count": 38,
   "metadata": {
    "collapsed": false
   },
   "outputs": [
    {
     "name": "stdout",
     "output_type": "stream",
     "text": [
      "x - y + 6\n"
     ]
    }
   ],
   "source": [
    "print parallel(Point(1, 1), Point(2, 2), Point (-3, 3))"
   ]
  },
  {
   "cell_type": "code",
   "execution_count": 27,
   "metadata": {
    "collapsed": false
   },
   "outputs": [
    {
     "name": "stdout",
     "output_type": "stream",
     "text": [
      "Point(4*t + 2, -3*t - 1)\n",
      "3*x + 4*y - 2\n",
      "False\n",
      "3\n",
      "False\n"
     ]
    }
   ],
   "source": [
    "L1 = Line(P1, P2)\n",
    "L2 = L1.perpendicular_line(P3)        # perpendicular line to L1\n",
    "print L2.arbitrary_point()            # parametric equation of L2\n",
    "print L2.equation()                   # algebraic equation of L2\n",
    "print L2.contains(P4)                 # is P4 in L2?\n",
    "print L2.distance(P4)                 # distance from P4 to L2\n",
    "print L1.is_parallel(S2)              # is S2 parallel to L1?\n"
   ]
  },
  {
   "cell_type": "markdown",
   "metadata": {
    "collapsed": false
   },
   "source": [
    "<h2>Polygons</h2>\n",
    "\n",
    "Jordan curve theorem (Veblen, 1905): Any continous simple closed curve cuts the plane in exactly two pieces: the inside and the outside."
   ]
  },
  {
   "cell_type": "markdown",
   "metadata": {},
   "source": [
    "Activities:\n",
    "1. Draw polygons.\n",
    "2. Is a point inside a polygon?"
   ]
  },
  {
   "cell_type": "markdown",
   "metadata": {
    "collapsed": true
   },
   "source": [
    "<h1>Convex Hull</h1>"
   ]
  },
  {
   "cell_type": "code",
   "execution_count": 69,
   "metadata": {
    "collapsed": false
   },
   "outputs": [
    {
     "data": {
      "image/png": "[encoded data removed]",
      "text/plain": [
       "<matplotlib.figure.Figure at 0x7f8bd102c490>"
      ]
     },
     "metadata": {},
     "output_type": "display_data"
    }
   ],
   "source": [
    "import numpy as np\n",
    "\n",
    "import matplotlib.pyplot as plt\n",
    "import matplotlib\n",
    "from matplotlib.patches import Polygon\n",
    "from matplotlib.collections import PatchCollection\n",
    "\n",
    "fig, ax = plt.subplots()\n",
    "patches = []\n",
    "\n",
    "polygon = Polygon([[0.1,0.9],[0.1,0.3],[0.3,0.4],[0.3,0.5]], True)\n",
    "patches.append(polygon)\n",
    "polygon = Polygon([[0.5,0.1],[0.5,0.3],[0.52,0.3],[0.54,0.4],[0.3,0.4]], True)\n",
    "patches.append(polygon)\n",
    "polygon = Polygon([[0.5,0.6],[0.5,0.7],[0.7,0.8],[0.66,0.5],[0.8,0.4],[0.65,0.4],[0.6,0.2]], True)\n",
    "patches.append(polygon)\n",
    "\n",
    "p = PatchCollection(patches, cmap=matplotlib.cm.jet, alpha=0.4)\n",
    "\n",
    "colors = 100*np.random.rand(len(patches))\n",
    "p.set_array(np.array(colors))\n",
    "\n",
    "ax.add_collection(p)\n",
    "\n",
    "plt.show()"
   ]
  },
  {
   "cell_type": "markdown",
   "metadata": {
    "slideshow": {
     "slide_type": "slide"
    }
   },
   "source": [
    "A set of points $P\\subseteq Q$ is convex hull if for any two points $p_0$ and $q_0 \\in Q$ in the set, the line segment $\\overline{p_0p_1}$ is completely in the polygon defined by $P$. We implicitly assume that all points in the set $Q$ are unique and that $Q$ contains at least three points which are not colinear."
   ]
  },
  {
   "cell_type": "markdown",
   "metadata": {
    "slideshow": {
     "slide_type": "slide"
    }
   },
   "source": [
    "<b>The mechanical approach:</b> Using a rubber band around the points"
   ]
  },
  {
   "cell_type": "markdown",
   "metadata": {},
   "source": [
    "<h2>A naïve approach</h2>\n",
    "\n",
    "Hit 1: Edges of convex hull of $Q$ connect pairs of points in $Q$.\n",
    "\n",
    "Hit 2: $p_i,p_j$ is on convex hull if all other points are counterclockwise of $\\overline{p_ip_j}$\n",
    "\n",
    "$\\forall \\: p_i, p_j \\in Q: p_i \\neq p_j$\n",
    "1. Compute ccw2($p_i$, $p_j$, $p_k$) $\\forall \\: p_k \\in Q$, $p_k \\neq p_i$\n",
    "2. $p_i$, $p_j$ is on $P$ if all values in step 1. are negative"
   ]
  },
  {
   "cell_type": "markdown",
   "metadata": {},
   "source": [
    "Analysis:"
   ]
  },
  {
   "cell_type": "code",
   "execution_count": 101,
   "metadata": {
    "collapsed": true
   },
   "outputs": [],
   "source": [
    "# Q: Matrix n x 2 (n points)\n",
    "def convexhull_bf(Q):\n",
    "    P = []\n",
    "    for i in range(len(Q)):\n",
    "        for j in range(len(Q)):\n",
    "            if i == j:\n",
    "                continue\n",
    "            ij_P = True\n",
    "            for k in range(len(Q)):\n",
    "                if i== k or j == k :\n",
    "                    continue\n",
    "                #print Q[i],Q[j],Q[k], ccw2(Q[i],Q[j],Q[k])\n",
    "                if not(ccw2(Q[i],Q[j],Q[k])<0):\n",
    "                    ij_P = False\n",
    "                    break\n",
    "            if ij_P:\n",
    "                P.append(Q[i])\n",
    "                P.append(Q[j])\n",
    "    return P"
   ]
  },
  {
   "cell_type": "code",
   "execution_count": 102,
   "metadata": {
    "collapsed": false
   },
   "outputs": [
    {
     "name": "stdout",
     "output_type": "stream",
     "text": [
      "[[0.5, 0.6], [0.6, 0.2], [0.5, 0.7], [0.5, 0.6], [0.7, 0.8], [0.5, 0.7], [0.8, 0.4], [0.7, 0.8], [0.6, 0.2], [0.8, 0.4]]\n"
     ]
    }
   ],
   "source": [
    "print convexhull_bf([[0.5,0.6],[0.5,0.7],[0.7,0.8],[0.66,0.5],[0.8,0.4],[0.65,0.4],[0.6,0.2]])"
   ]
  },
  {
   "cell_type": "code",
   "execution_count": 83,
   "metadata": {
    "collapsed": false
   },
   "outputs": [
    {
     "name": "stdout",
     "output_type": "stream",
     "text": [
      "-1\n"
     ]
    }
   ],
   "source": [
    "print convexhull_bf([[0.1,0.9],[0.1,0.3],[0.3,0.4],[0.3,0.5]])"
   ]
  },
  {
   "cell_type": "markdown",
   "metadata": {},
   "source": [
    "<h2>Graham Scan</h2>"
   ]
  },
  {
   "cell_type": "markdown",
   "metadata": {
    "collapsed": true
   },
   "source": [
    "<ul>\n",
    "<li>Choose point p with smallest y-coordinate.</li>\n",
    "<li>Sort points by polar angle with p to get simple polygon.</li>\n",
    "<li>Consider points in order, and discard those that would create a clockwise turn.</li>\n",
    "</ul>"
   ]
  },
  {
   "cell_type": "markdown",
   "metadata": {
    "collapsed": true
   },
   "source": [
    "<h3>Implementation</h3>\n",
    "\n",
    "GRAHAM-SCAN(Q)\n",
    "1. let $p_0$ be the point in $Q$ with the minimum $y$-coordinate, or the leftmost such point in case of a tie\n",
    "2. let $\\langle p_1, p_2, \\ldots, p_m\\rangle$ be the remaining points in $Q$, sorted by polar angle in counterclockwise order around $p_0$ (if more than one point has the same angle, remove all but the one that is farthest from $p_0$ )\n",
    "3. let $S$ be an empty stack\n",
    "4. PUSH($p_0$,$S$)\n",
    "5. PUSH($p_1$,$S$)\n",
    "6. PUSH($p_2$,$S$)\n",
    "7. for $i = 3$ to $m$\n",
    "8. &nbsp;&nbsp;&nbsp;     while the angle formed by points NEXT-TO-TOP($S$), TOP(S), and $p_i$ makes a nonleft turn\n",
    "9. &nbsp;&nbsp;&nbsp;&nbsp;&nbsp;&nbsp; POP(S)\n",
    "10. PUSH($p_i$,$S$)\n",
    "11. return $S$\n"
   ]
  },
  {
   "cell_type": "markdown",
   "metadata": {},
   "source": [
    "<h3>Analysis</h3>"
   ]
  },
  {
   "cell_type": "code",
   "execution_count": 107,
   "metadata": {
    "collapsed": true
   },
   "outputs": [],
   "source": [
    "COUNTERCLOCKWISE, CLOCKWISE, COLINEAR = (1, -1, 0)\n",
    "\n",
    "def _keep_left(hull, r):\n",
    "    while len(hull) > 1 and ccw(hull[-2], hull[-1], r) != COUNTERCLOCKWISE:\n",
    "            hull.pop()\n",
    "    if not len(hull) or hull[-1] != r:\n",
    "        hull.append(r)\n",
    "    return hull\n",
    "\n",
    "def convex_hull(points):\n",
    "    \"\"\"Returns points on convex hull of an array of points in CCW order.\"\"\"\n",
    "    points = sorted(points)\n",
    "    # Function reduce takes starting value ([]) and first elements of array \"points\" and passes to function\n",
    "    #_keep_left. Then it takes result of function _take_left and passes it again to the function _take_left\n",
    "    # with the next element of array \"points\" and so on.\n",
    "\n",
    "    l = reduce(_keep_left, points, [])\n",
    "    u = reduce(_keep_left, reversed(points), [])\n",
    "    # Extend l (lower hull) with all elements of u(upper hull) excluding its first and last elements\n",
    "    # it reads from left to right, if first element is true it returns it\n",
    "    return l.extend(u[i] for i in xrange(1, len(u) - 1)) or l\n"
   ]
  },
  {
   "cell_type": "code",
   "execution_count": 112,
   "metadata": {
    "collapsed": false
   },
   "outputs": [
    {
     "data": {
      "image/png": "[encoded data removed]",
      "text/plain": [
       "<matplotlib.figure.Figure at 0x7f8bd10ea250>"
      ]
     },
     "metadata": {},
     "output_type": "display_data"
    }
   ],
   "source": [
    "n = 100\n",
    "x_coord = np.random.random([n])\n",
    "y_coord = np.random.random([n])\n",
    "# Make pairs\n",
    "points = zip(x_coord,y_coord)\n",
    "\n",
    "ch = (convex_hull(points))\n",
    "# Divide list into separate tuples\n",
    "ch_unzip= zip(*ch)\n",
    "\n",
    "# Add a single element into tuple\n",
    "ch_unzip[0]= ch_unzip[0] + (ch_unzip[0][0],)\n",
    "ch_unzip[1]= ch_unzip[1]+ (ch_unzip[1][0],)\n",
    "\n",
    "# Plot points and convex hull\n",
    "plt.plot(x_coord, y_coord,'go')\n",
    "plt.plot(ch_unzip[0],ch_unzip[1],'r')\n",
    "plt.axis([-0.5, 1.5, -0.5, 1.5])\n",
    "plt.show()"
   ]
  },
  {
   "cell_type": "code",
   "execution_count": null,
   "metadata": {
    "collapsed": true
   },
   "outputs": [],
   "source": []
  },
  {
   "cell_type": "markdown",
   "metadata": {
    "collapsed": true
   },
   "source": [
    "<h2>Package wrap or Jarvi's march algorithm</h2>\n",
    "\n",
    "\n",
    "<ul>\n",
    "<li>Start with point with smallest y-coordinate.</li>\n",
    "<li>Rotate sweep line around current point in ccw direction.</li>\n",
    "<li>First point hit is on the hull.</li>\n",
    "<li>Repeat.</li>\n",
    "</ul>\n",
    "\n",
    "\n",
    "<h3>Implementation</h3>\n",
    "\n",
    "<ul>\n",
    "<li>Compute angle between current point and all remaining points.</li>\n",
    "<li>Pick smallest angle larger than current angle.</li>\n",
    "<li> $\\Theta(n)$ per iteration.</li>\n",
    "<ul>"
   ]
  },
  {
   "cell_type": "markdown",
   "metadata": {},
   "source": [
    "<h3>Running Time Analysis</h3>\n",
    "\n",
    "\n"
   ]
  },
  {
   "cell_type": "markdown",
   "metadata": {},
   "source": [
    "<h3>How many points on hull?</h3>\n",
    "\n",
    "<ul>\n",
    "<li>Worst case:  $h = ?$.</li>\n",
    "<li>Average case:  difficult problems in stochastic geometry.\n",
    "<ul>\n",
    "<li>in a disc:  $h = N^{1/3}$.</li>\n",
    "<li>in a convex polygon with $O(1)$ edges:  $h = \\log n$.</li>\n",
    "</ul>\n",
    "</li>\n",
    "</ul>"
   ]
  },
  {
   "cell_type": "code",
   "execution_count": 109,
   "metadata": {
    "collapsed": true
   },
   "outputs": [],
   "source": [
    "# Jarvis March O(nh) - Tom Switzer <thomas.switzer@gmail.com>\n",
    " \n",
    "TURN_LEFT, TURN_RIGHT, TURN_NONE = (1, -1, 0)\n",
    " \n",
    "def turn(p, q, r):\n",
    "    \"\"\"Returns -1, 0, 1 if p,q,r forms a right, straight, or left turn.\"\"\"\n",
    "    return cmp((q[0] - p[0])*(r[1] - p[1]) - (r[0] - p[0])*(q[1] - p[1]), 0)\n",
    " \n",
    "def _dist(p, q):\n",
    "    \"\"\"Returns the squared Euclidean distance between p and q.\"\"\"\n",
    "    dx, dy = q[0] - p[0], q[1] - p[1]\n",
    "    return dx * dx + dy * dy\n",
    " \n",
    "def _next_hull_pt(points, p):\n",
    "    \"\"\"Returns the next point on the convex hull in CCW from p.\"\"\"\n",
    "    q = p\n",
    "    for r in points:\n",
    "        t = turn(p, q, r)\n",
    "        if t == TURN_RIGHT or t == TURN_NONE and _dist(p, r) > _dist(p, q):\n",
    "            q = r\n",
    "    return q\n",
    " \n",
    "def convexhull_jarvis_march(points):\n",
    "    \"\"\"Returns the points on the convex hull of points in CCW order.\"\"\"\n",
    "    hull = [min(points)]\n",
    "    for p in hull:\n",
    "        q = _next_hull_pt(points, p)\n",
    "        if q != hull[0]:\n",
    "            hull.append(q)\n",
    "    return hull"
   ]
  },
  {
   "cell_type": "code",
   "execution_count": 111,
   "metadata": {
    "collapsed": false
   },
   "outputs": [
    {
     "data": {
      "image/png": "[encoded data removed]",
      "text/plain": [
       "<matplotlib.figure.Figure at 0x7f8bd10eaa90>"
      ]
     },
     "metadata": {},
     "output_type": "display_data"
    }
   ],
   "source": [
    "n = 100\n",
    "x_coord = np.random.random([n])\n",
    "y_coord = np.random.random([n])\n",
    "# Make pairs\n",
    "points = zip(x_coord,y_coord)\n",
    "\n",
    "ch = (convexhull_jarvis_march(points))\n",
    "# Divide list into separate tuples\n",
    "ch_unzip= zip(*ch)\n",
    "\n",
    "# Add a single element into tuple\n",
    "ch_unzip[0]= ch_unzip[0] + (ch_unzip[0][0],)\n",
    "ch_unzip[1]= ch_unzip[1]+ (ch_unzip[1][0],)\n",
    "\n",
    "# Plot points and convex hull\n",
    "plt.plot(x_coord, y_coord,'bo')\n",
    "plt.plot(ch_unzip[0],ch_unzip[1],'r')\n",
    "plt.axis([-0.5, 1.5, -0.5, 1.5])\n",
    "plt.show()"
   ]
  },
  {
   "cell_type": "markdown",
   "metadata": {},
   "source": [
    "Note: Clustering algorithms might be an interesting and advanced topic to review."
   ]
  },
  {
   "cell_type": "markdown",
   "metadata": {},
   "source": [
    "<h2>Find the closet pair of points</h2>\n",
    "\n",
    "Given a set of euclidean points $Q$ we must find the closet pair of points.\n",
    "\n",
    "\n",
    "<h3>Naive algorithm</h3>\n",
    "\n",
    "Compaire the distance for each pair of point in $Q$"
   ]
  },
  {
   "cell_type": "code",
   "execution_count": 114,
   "metadata": {
    "collapsed": true
   },
   "outputs": [],
   "source": [
    "def closetpair_bf(Q):\n",
    "    min_distance = float('Inf')    \n",
    "    min_pair = None\n",
    "    for i in Q:\n",
    "        for j in Q:\n",
    "            if length_segment(p1,p2) < min_distance:\n",
    "                min_pair = [i, j]\n",
    "    return min_pair"
   ]
  },
  {
   "cell_type": "markdown",
   "metadata": {},
   "source": [
    "How can we do it better?\n",
    "\n",
    "<h3>An divide-and-conquer algorithm</h3>\n",
    "\n",
    "[Cormen]\n",
    "<ul>\n",
    "<li>Each recursive invocation of the algorithm takes as input a subset $P \\subseteq Q$ and arrays $X$ and $Y$, each of which contains all the points of the input subset $P$. </li>\n",
    "<li>The points in array $X$ are sorted so that their $x$-coordinates are monotonically increasing. </li>\n",
    "<li>Similarly, array $Y$ is sorted by monotonically increasing $y$-coordinate.</li>\n",
    "<li>If $|P|<3$\n",
    "</ul>\n",
    "\n",
    "<b>Divide:</b> \n",
    "<ul>\n",
    "<li>Find a vertical line $l$ that bisects the point set $P$ into two sets $P_L$ and $P_R$ such that $|PL| = \\lceil|P|/2\\rceil$, $|P_R| = \\lfloor|P|/2\\rfloor$, all points in $P_L$ are on or to the left of line $l$, and all points in $P_R$ are on or to the right of $l$. </li>\n",
    "<li>Divide the array $X$ into arrays $X_L$ and $X_R$ , which contain the points of $P_L$ and $P_R$ respectively, sorted by monotonically increasing $x$-coordinate. </li>\n",
    "<li>Similarly, divide the array $Y$ into arrays $Y_L$ and $Y_R$ , which contain the points of $P_L$ and $P_R$ respectively, sorted by monotonically increasing $y$-coordinate.</li>\n",
    "</ul>\n",
    "\n",
    "<b>Conquer:</b> Having divided $P$ into $P_L$ and $P_R$, make two recursive calls, one to find\n",
    "the closest pair of points in $P_L$ and the other to find the closest pair of points\n",
    "in $P_R$ . The inputs to the first call are the subset $P_L$ and arrays $X_L$ and $Y_L$ ; the\n",
    "second call receives the inputs $P_R$, $X_R$ , and $Y_R$ . Let the closest-pair distances\n",
    "returned for $P_L$ and $P_R$ be $\\delta_L$ and $\\delta_R$, respectively, and let $\\delta = \\min\\{\\delta_L, \\delta_R\\}$.\n",
    "\n",
    "\n",
    "<b>Combine:</b> The closest pair is either the pair with distance $\\delta$ found by one of the recursive calls, or it is a pair of points with one point in $P_L$ and the other in $P_R$. The algorithm determines whether there is a pair with one point in $P_L$ and the other point in $P_R$ and whose distance is less than $\\delta$. Observe that if a pair of\n",
    "points has distance less than $\\delta$, both points of the pair must be within $\\delta$ units\n",
    "of line $l$. To find such a pair, if one exists, we do the following:\n",
    "<ol>\n",
    "<li> Create an array $Y'$ , which is the array $Y$ with all points not in the $2\\delta$-wide vertical strip removed. The array $Y'$ is sorted by $y$-coordinate, just as $Y$ is.</li>\n",
    "<li>. For each point $p$ in the array $Y'$, try to find points in $Y'$ that are within $\\delta$ units of $p$. As we shall see shortly, only the $12$ points in $Y'$ that follow $p$ need be considered. Compute the distance from $p$ to each of these 12 points, and keep track of the closest-pair distance $\\delta'$ found over all pairs of points in $Y'$.\n",
    "<li> If $\\delta' < \\delta$, then the vertical strip does indeed contain a closer pair than the recursive calls found. Return this pair and its distance $\\delta'$ . Otherwise, return the closest pair and its distance $\\delta$ found by the recursive calls.\n",
    "</ol>\n",
    "\n",
    "Note: Apply for 7 instead of 12"
   ]
  },
  {
   "cell_type": "markdown",
   "metadata": {},
   "source": [
    "<h2>Voronoi Diagrams</h2>"
   ]
  },
  {
   "cell_type": "code",
   "execution_count": 118,
   "metadata": {
    "collapsed": false
   },
   "outputs": [
    {
     "data": {
      "image/png": "[encoded data removed]",
      "text/plain": [
       "<matplotlib.figure.Figure at 0x7f8bd0d55cd0>"
      ]
     },
     "metadata": {},
     "output_type": "display_data"
    }
   ],
   "source": [
    "from scipy.spatial import Voronoi, voronoi_plot_2d\n",
    "\n",
    "points = np.array([[0, 0], [0, 1], [0, 2], [1, 0], [1, 1], [1, 2],[2, 0], [2, 1], [2, 2]])\n",
    "\n",
    "vor = Voronoi(points)\n",
    "voronoi_plot_2d(vor)\n",
    "plt.show()"
   ]
  },
  {
   "cell_type": "markdown",
   "metadata": {},
   "source": [
    "<a https://upload.wikimedia.org/wikipedia/commons/0/0c/Fortunes-algorithm-slowed.gif>Fortune algorithm</a>"
   ]
  },
  {
   "cell_type": "markdown",
   "metadata": {
    "collapsed": true
   },
   "source": [
    "Assignment\n",
    "\n",
    "\n",
    "1. Implement an divide-and-coquer algorithm which run in time $O(n\\lg n)$\n",
    "2. Research about algorithms to compute Voronoi diagrams. Describe and discuss the algorithms reviewed."
   ]
  },
  {
   "cell_type": "markdown",
   "metadata": {},
   "source": [
    "###Coloring a Voronoi diagram"
   ]
  },
  {
   "cell_type": "code",
   "execution_count": 48,
   "metadata": {
    "collapsed": false
   },
   "outputs": [],
   "source": [
    "import numpy as np\n",
    "import matplotlib.pyplot as plt\n",
    "from scipy.spatial import Voronoi\n",
    "\n",
    "def voronoi(vor, radius=None):\n",
    "    \n",
    "    if vor.points.shape[1] != 2:\n",
    "        raise ValueError(\"Requires 2D input\")\n",
    "\n",
    "    new_regions = []\n",
    "    new_vertices = vor.vertices.tolist()\n",
    "\n",
    "    center = vor.points.mean(axis=0)\n",
    "    if radius is None:\n",
    "        radius = vor.points.ptp().max()\n",
    "\n",
    "    all_ridges = {}\n",
    "    for (p1, p2), (v1, v2) in zip(vor.ridge_points, vor.ridge_vertices):\n",
    "        all_ridges.setdefault(p1, []).append((p2, v1, v2))\n",
    "        all_ridges.setdefault(p2, []).append((p1, v1, v2))\n",
    "\n",
    "    for p1, region in enumerate(vor.point_region):\n",
    "        vertices = vor.regions[region]\n",
    "\n",
    "        if all(v >= 0 for v in vertices):\n",
    "            new_regions.append(vertices)\n",
    "            continue\n",
    "\n",
    "        ridges = all_ridges[p1]\n",
    "        new_region = [v for v in vertices if v >= 0]\n",
    "\n",
    "        for p2, v1, v2 in ridges:\n",
    "            if v2 < 0:\n",
    "                v1, v2 = v2, v1\n",
    "            if v1 >= 0:\n",
    "                continue\n",
    "\n",
    "            t = vor.points[p2] - vor.points[p1]\n",
    "            t /= np.linalg.norm(t)\n",
    "            n = np.array([-t[1], t[0]])\n",
    "\n",
    "            midpoint = vor.points[[p1, p2]].mean(axis=0)\n",
    "            direction = np.sign(np.dot(midpoint - center, n)) * n\n",
    "            far_point = vor.vertices[v2] + direction * radius\n",
    "\n",
    "            new_region.append(len(new_vertices))\n",
    "            new_vertices.append(far_point.tolist())\n",
    "\n",
    "        vs = np.asarray([new_vertices[v] for v in new_region])\n",
    "        c = vs.mean(axis=0)\n",
    "        angles = np.arctan2(vs[:,1] - c[1], vs[:,0] - c[0])\n",
    "        new_region = np.array(new_region)[np.argsort(angles)]\n",
    "\n",
    "        new_regions.append(new_region.tolist())\n",
    "\n",
    "    return new_regions, np.asarray(new_vertices)\n",
    "\n",
    "def graph(regions, points):\n",
    "    for region in regions:\n",
    "        polygon = vertices[region]\n",
    "        plt.fill(*zip(*polygon), alpha=0.4)\n",
    "\n",
    "    plt.plot(points[:,0], points[:,1], 'ko')\n",
    "    plt.xlim(vor.min_bound[0] - 0.1, vor.max_bound[0] + 0.1)\n",
    "    plt.ylim(vor.min_bound[1] - 0.1, vor.max_bound[1] + 0.1)\n",
    "\n",
    "    plt.show()"
   ]
  },
  {
   "cell_type": "code",
   "execution_count": 57,
   "metadata": {
    "collapsed": false
   },
   "outputs": [
    {
     "data": {
      "image/png": "[encoded data removed]",
      "text/plain": [
       "<matplotlib.figure.Figure at 0xa6d90f0>"
      ]
     },
     "metadata": {},
     "output_type": "display_data"
    },
    {
     "data": {
      "image/png": "[encoded data removed]",
      "text/plain": [
       "<matplotlib.figure.Figure at 0xa8450b8>"
      ]
     },
     "metadata": {},
     "output_type": "display_data"
    }
   ],
   "source": [
    "points = np.array([[0, 0], [0, 1], [0, 2], [1, 0], [1, 1], [1, 2],[2, 0], [2, 1], [2, 2]])\n",
    "vor = Voronoi(points)\n",
    "regions, vertices = voronoiD(vor)\n",
    "graph(regions, points)\n",
    "\n",
    "points = np.random.rand(15,2)\n",
    "vor = Voronoi(points)\n",
    "regions, vertices = voronoiD(vor)\n",
    "graph(regions, points)"
   ]
  },
  {
   "cell_type": "markdown",
   "metadata": {},
   "source": [
    "<b>Dividir y Conquistar</b>\n",
    "\n",
    "Es un algoritmo un poco complejo de implementar, pero debido al formato de trabajo que es divide y vencerás su complejidad es óptima siento $O(n log n)$, el algoritmo trabaja generalmente en 6 pasos:\n",
    "1. Se divide el conjunto de puntos en 2 mitades aproximadamente del mismo tamaño\n",
    "2. Se calcula el diagrama de Voronoi de la parte izquierda\n",
    "3. Se calcula el diagrama de Voronoi de la parte derecha\n",
    "4. Se calcula la cadena divisoria\n",
    "5. Se eliminan todas las lineas de cada diagrama que esten por fuera de la cadena divisoria\n",
    "\n",
    "<b>Algoritmo incremental</b>\n",
    "\n",
    "Es un algoritmo con un tiempo de ejecución total de $O(n^2)$, pero $O(n)$ en la inserción de cada punto del diagrama.\n",
    "Se basa en construir un diagrama para k+1 puntos, suponiendo construido uno de k puntos, era el algoritmo más popular hasta los años 80's para la creación de diagramas de Voronoi a pesar de su gran costo de ejecución, debido a su simplicidad de implementación.\n",
    "\n",
    "<b>Algoritmo de Fortune</b>\n",
    "\n",
    "Es un algoritmo tan simple de implementar como el algoritmo incremental pero con un tiempo de ejcucion de $O(n log n)$, basado en la técnica de barrido de recta, el nucleo de este algoritmo se basa en suponer que existe una recta entre dos puntos opuestos y que a lo largo de su recorrido se cruza con los puntos a tratar, normalmente este algoritmo usa dos tipos de estructuras, una cola de prioridades, en donde se guardan los puntos donde la recta debe detenerse y un arbol binario de busqueda donde se guardan los elementos geométricos que se han intersectado con la recta y serán necesarios para cálculos posteriores.\n",
    "\n",
    "<b>Intersección de semiplanos</b>\n",
    "\n",
    "También se puede construir cada región de Voronoi por separado mediante la intersección de n-1 semiplanos. La construcción de n semiplanos puede construirse en tiempo $O(n log n)$ mediante un algoritmo de divide y vencerás. Hacer esto para cada generador costaría un tiempo total de  $O(n2 log n)$."
   ]
  },
  {
   "cell_type": "markdown",
   "metadata": {},
   "source": [
    "<h1>References</h1>\n",
    "\n",
    "https://www.cs.princeton.edu/~rs/AlgsDS07/16Geometric.pdf\n",
    "\n",
    "http://blancosilva.github.io/post/2014/10/28/Computational-Geometry-in-Python.html\n",
    "\n",
    "http://people.inf.elte.hu/fekete/algoritmusok_msc/terinfo_geom/konyvek/Computational%20Geometry%20-%20Algorithms%20and%20Applications,%203rd%20Ed.pdf"
   ]
  }
 ],
 "metadata": {
  "kernelspec": {
   "display_name": "Python 2",
   "language": "python",
   "name": "python2"
  },
  "language_info": {
   "codemirror_mode": {
    "name": "ipython",
    "version": 2
   },
   "file_extension": ".py",
   "mimetype": "text/x-python",
   "name": "python",
   "nbconvert_exporter": "python",
   "pygments_lexer": "ipython2",
   "version": "2.7.13"
  }
 },
 "nbformat": 4,
 "nbformat_minor": 0
}
