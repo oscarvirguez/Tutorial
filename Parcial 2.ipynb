{
 "cells": [
  {
   "cell_type": "markdown",
   "metadata": {},
   "source": [
    "# 1\n",
    "<h3>Es posible transformar algorithm en analysis sin usar operaciones “izquierda”. Escriba una secuencia de operaciones (de la misma forma que la tabla de ejemplo) que tenga el mismo costo que el mostrado en el ejemplo pero sin usar operaciones “izquierda”.</h3>"
   ]
  },
  {
   "cell_type": "raw",
   "metadata": {},
   "source": [
    "    Operacion\t    z\t\t\tCosto\tTotal\n",
    "    Inicio\t \talgorithm\t\t0\t\t0\n",
    "    Insert n\tanlgorithm\t\t3\t\t3\n",
    "    Insert a\tanalgorithm\t\t3\t\t6\n",
    "    Derecha\t\tanalgorithm\t\t0\t\t6\n",
    "    Derecha\t\tanalgorithm\t\t0\t\t6\n",
    "    Reem g-y\tanalyorithm\t\t4\t\t10\n",
    "    Reem o-s\tanalysrithm\t\t4\t\t14\n",
    "    Reem r-i\tanalysiithm\t\t4\t\t18\n",
    "    Reem i-s\tanalysisthm\t\t4\t\t22\n",
    "    Eliminar t\tanalysishm\t\t2\t\t24\n",
    "    Eliminar h\tanalysism\t\t2\t\t26\n",
    "    Eliminar m\tanalysis\t\t2\t\t28"
   ]
  },
  {
   "cell_type": "markdown",
   "metadata": {},
   "source": [
    "# 2\n",
    "<h3>Muestre que para dos cadenas $x$ y $y$ con distancia de edicion $d(x, y)$, existe una secuencia $S$ de operaciones que transforman $x$ en y con costo $d(x, y)$ donde $S$ no contiene operaciones “izquierda”.</h3>\n",
    "\n",
    "La distancia entre las dos palabras puede ser calculada sin saltos a la izquierda (Asumiendo que la funcion de insertar se hace en la posicion anterior a la actual) \n",
    "\n",
    "1) Igualar $z = x$<br>\n",
    "2) Se empieza a recorrer $z$ comparando con $y$ su posicion actual, $z[i] == y[i]$<br>\n",
    "3) Si el caracter actual de $z$, $z[i]$ se encuentra en $y$ en una posicion mayor, entonces se inserta en $z$ la posicion actual de $y$, $z[i] = y[i]$, se corre lo demás a la derecha y se mueve el cursor una vez a la derecha<br>\n",
    "4) Si se encuentra en la misma posicion se mueve el cursor una vez a la derecha<br>\n",
    "5) Si el caracter actual de $z$ no se encuentra en $y$ y la posicion actual es menor a $len(y)$ se debe realizar un reemplazo de la letra por la de la misma posicion en $y$, $z[i] = y[i]$ y se mueve el cursor una vez a la derecha<br>\n",
    "6) Finalmente si la posicion actual es mayor a $len(y)$, se debe eliminar hasta terminar."
   ]
  },
  {
   "cell_type": "markdown",
   "metadata": {},
   "source": [
    "# 3\n",
    "<h3>Muestre que el problema de calcular la distancia de edicion $d(x, y)$ presenta una subestructura óptima. (Considere todos los sufijos de $x$ y $y$)</h3>\n",
    "\n",
    "En ambos codigos presentados, se encuentran subestructuras optimas, en la recursiva podemos encontrar un poco de bottom-up en el momento en que los llamados retornan sus casos base hasta su primer llamado y a su vez up-bottom cuando se retorna el mínimo una vez se tienen los 3 tipos de costo. En el metodo no recursivo, se usa solamente bottom-up, debido a que se va llenando una matriz hasta su ultima iteracion, teniendo en cuenta el registro de solo el anterior resultado y una vez se completa de llenar la matriz, se retorna su valor final."
   ]
  },
  {
   "cell_type": "markdown",
   "metadata": {},
   "source": [
    "# 4\n",
    "<h3>Recursivamente defina el valor de la distancia de edición $d(x, y)$ en terminos de los sufijos de las cadenas $x$ y $y$. Señale como la distancia de edicion contiene sobrelapamiento de los subproblemas.</h3>\n",
    "\n",
    "En la forma recursiva, se empieza analizando la palabra de atras para adelante, simulando las acciones de eliminacion, insercion o sustitucion con sus respectivos costos, una vez se llega al caso base, dicho resultado se retorna hasta su primer llamado, es alli donde se produce el sobrelapamiento de los problemas, ya que el valor de las tres situaciones es almacenado en 3 variables las cuales son comparadas extrayendo el minimo costo."
   ]
  },
  {
   "cell_type": "code",
   "execution_count": 1,
   "metadata": {
    "collapsed": true
   },
   "outputs": [],
   "source": [
    "import math\n",
    "import numpy as np\n",
    "import matplotlib.pyplot as pl\n",
    "import time\n",
    "import random as rnd\n",
    "import string\n",
    "%matplotlib inline"
   ]
  },
  {
   "cell_type": "code",
   "execution_count": 2,
   "metadata": {
    "collapsed": false
   },
   "outputs": [
    {
     "name": "stdout",
     "output_type": "stream",
     "text": [
      "20\n"
     ]
    }
   ],
   "source": [
    "def distanceRecursive(s1, s2, n, m):\n",
    "    if(n == 0 == m):\n",
    "        return 0\n",
    "    if(n == 0):\n",
    "        return m\n",
    "    if(m == 0):       \n",
    "        return n\n",
    "     \n",
    "    replace = distanceRecursive(s1, s2, n-1, m-1) + ((s1[n-1] != s2[m-1])*4)\n",
    "    delete = distanceRecursive(s1, s2, n-1, m)+2\n",
    "    add = distanceRecursive(s1, s2, n, m-1)+3\n",
    "\n",
    "    return  min(replace, delete, add)\n",
    "\n",
    "\n",
    "pal1 = \"algorithm\"\n",
    "pal2 = \"analysis\"\n",
    "print distanceRecursive(pal1, pal2, len(pal1), len(pal2))"
   ]
  },
  {
   "cell_type": "markdown",
   "metadata": {},
   "source": [
    "# 5\n",
    "<h3>Describa un algoritmo de programación dinámica que calcule la distancia de edición de $x$ y $y$. (Usando memorización) Analice el tiempo de ejecución y el espacio requeridos por su algoritmo.</h3>\n",
    "\n",
    "El siguiente algoritmo se basa en evaluar las dos palabras iniciando desde su ultimo caracter y una vez se llega al caso base se retorna el respectivo valor asociado a su costo, el tiempo de ejecucion de este algoritmo al igual que su espacio requerido es de $O(nxm)$ ya que siempre se crea una matriz para guardar un registro de los datos siendo $n$ y $m$ la longitud de ambas palabras."
   ]
  },
  {
   "cell_type": "code",
   "execution_count": 3,
   "metadata": {
    "collapsed": false
   },
   "outputs": [],
   "source": [
    "class Counter:\n",
    "    '''\n",
    "    Class Counter\n",
    "    Implements a step counter, which is used to compute the number of basic operations performed in\n",
    "    a particular call to a function.\n",
    "    '''\n",
    "    def __init__(self):\n",
    "        self.steps = 0\n",
    "\n",
    "    def reset(self):\n",
    "        self.steps = 0\n",
    "\n",
    "    def count(self):\n",
    "        self.steps += 1\n",
    "\n",
    "    def print_steps(self):\n",
    "        print \"Number of steps =\", self.steps"
   ]
  },
  {
   "cell_type": "code",
   "execution_count": 4,
   "metadata": {
    "collapsed": true
   },
   "outputs": [],
   "source": [
    "def distancePDExp(s1, s2, acct):\n",
    "    mat = np.zeros((len(s1)+1, len(s2)+1), dtype=np.int); acct.count()\n",
    "    for i in range(len(s1)+1):\n",
    "        acct.count()\n",
    "        mat[i,0]=i; acct.count()\n",
    "    for i in range(len(s2)+1):\n",
    "        acct.count()\n",
    "        mat[0,i] = i; acct.count()\n",
    "        \n",
    "    for i in range(1, len(s1)+1):\n",
    "        acct.count()\n",
    "        for j in range(1, len(s2)+1):\n",
    "            acct.count()\n",
    "            cost = min(mat[i,j-1]+3, mat[i-1,j]+2, mat[i-1,j-1]+(s1[i-1] != s2[j-1])*4); acct.count()\n",
    "            mat[i,j] = cost; acct.count()\n",
    "            \n",
    "    return mat"
   ]
  },
  {
   "cell_type": "code",
   "execution_count": 5,
   "metadata": {
    "collapsed": false
   },
   "outputs": [],
   "source": [
    "def exper_distancePDExp(n):\n",
    "    steps = []\n",
    "    timeP = []\n",
    "    acct = Counter()\n",
    "    for i in range(1, n):\n",
    "        l1 = \"\".join(rnd.choice(string.ascii_uppercase) for _ in range(i))\n",
    "        l2 = \"\".join(rnd.choice(string.ascii_uppercase) for _ in range(i))\n",
    "        acct.reset()\n",
    "        tic = time.clock()\n",
    "        distancePDExp(l1, l2, acct)\n",
    "        toc = time.clock()\n",
    "        timeP.append(toc - tic)\n",
    "        steps.append(acct.steps)\n",
    "        \n",
    "    results = [steps, timeP]\n",
    "    return results"
   ]
  },
  {
   "cell_type": "code",
   "execution_count": 6,
   "metadata": {
    "collapsed": false
   },
   "outputs": [
    {
     "data": {
      "text/plain": [
       "[<matplotlib.lines.Line2D at 0x7818d68>,\n",
       " <matplotlib.lines.Line2D at 0x79bf940>]"
      ]
     },
     "execution_count": 6,
     "metadata": {},
     "output_type": "execute_result"
    },
    {
     "data": {
      "image/png": "[encoded data removed]",
      "text/plain": [
       "<matplotlib.figure.Figure at 0x7897208>"
      ]
     },
     "metadata": {},
     "output_type": "display_data"
    }
   ],
   "source": [
    "pl.figure(1)\n",
    "x = np.arange(99)\n",
    "res = exper_distancePDExp(100)\n",
    "p = np.array(res[0])           #-> Arreglo con la cantidad de procesos realizados para cada arreglo (Negro)\n",
    "t = np.array(res[1])*1e6          #-> Arreglo de tiempos de ejecucion en el ordenamiento de cada arreglo (Rojo)\n",
    "\n",
    "pl.plot(x, p, 'k.', t, 'r.')"
   ]
  },
  {
   "cell_type": "markdown",
   "metadata": {},
   "source": [
    "# 6\n",
    "<h3>Implemente su algoritmo en Python, y publiquelo en un NoteBook donde lo pruebe para las cadenas:\n",
    "$x = software$ $engineering$, $y = computer$ $science$</h3>"
   ]
  },
  {
   "cell_type": "code",
   "execution_count": 7,
   "metadata": {
    "collapsed": false
   },
   "outputs": [
    {
     "name": "stdout",
     "output_type": "stream",
     "text": [
      "44\n"
     ]
    }
   ],
   "source": [
    "import numpy as np\n",
    "\n",
    "def distancePD(s1, s2, n, m):\n",
    "    mat = np.zeros((n+1, m+1), dtype=np.int)\n",
    "    for i in range(n+1):\n",
    "        mat[i,0]=i\n",
    "    for i in range(m+1):\n",
    "        mat[0,i] = i\n",
    "        \n",
    "    for i in range(1, n+1):\n",
    "        for j in range(1, m+1):\n",
    "            cost = min(mat[i,j-1]+3, mat[i-1,j]+2, mat[i-1,j-1]+(s1[i-1] != s2[j-1])*4)\n",
    "            mat[i,j] = cost\n",
    "            \n",
    "    return mat[n,m]\n",
    "\n",
    "pal1 = \"software engineering\"\n",
    "pal2 = \"computer science\"\n",
    "print distancePD(pal1, pal2, len(pal1), len(pal2))"
   ]
  },
  {
   "cell_type": "markdown",
   "metadata": {},
   "source": [
    "# 7\n",
    "<h3>Ejecute su programa para las tres instancias proveidas en 3 archivos de texto plano, donde cada archivo contiene las siguientes cuatro líneas:<br>\n",
    "(a) El número de caracteres m en la cadena x.<br>\n",
    "(b) La cadena x<br>\n",
    "(c) El número de caracteres n en la cadena y.<br>\n",
    "(d) La cadena y</h3>"
   ]
  },
  {
   "cell_type": "code",
   "execution_count": 14,
   "metadata": {
    "collapsed": false,
    "scrolled": true
   },
   "outputs": [
    {
     "name": "stdout",
     "output_type": "stream",
     "text": [
      "Distancia:  1601\n"
     ]
    }
   ],
   "source": [
    "infile = open('ps7_input1.txt')\n",
    "par = []\n",
    "for line in infile:\n",
    "    par.append(line)\n",
    "infile.close()\n",
    "\n",
    "print \"Distancia: \", distancePD(par[1], par[3], int(par[0]), int(par[2]))"
   ]
  },
  {
   "cell_type": "code",
   "execution_count": 15,
   "metadata": {
    "collapsed": false
   },
   "outputs": [
    {
     "name": "stdout",
     "output_type": "stream",
     "text": [
      "Distancia:  1687\n"
     ]
    }
   ],
   "source": [
    "infile = open('ps7_input2.txt')\n",
    "par = []\n",
    "for line in infile:\n",
    "    par.append(line)\n",
    "infile.close()\n",
    "\n",
    "print \"Distancia: \", distancePD(par[1], par[3], int(par[0]), int(par[2]))"
   ]
  },
  {
   "cell_type": "code",
   "execution_count": 16,
   "metadata": {
    "collapsed": false
   },
   "outputs": [
    {
     "name": "stdout",
     "output_type": "stream",
     "text": [
      "Distancia:  1431\n"
     ]
    }
   ],
   "source": [
    "infile = open('ps7_input3.txt')\n",
    "par = []\n",
    "for line in infile:\n",
    "    par.append(line)\n",
    "infile.close()\n",
    "\n",
    "print \"Distancia: \", distancePD(par[1], par[3], int(par[0]), int(par[2]))"
   ]
  }
 ],
 "metadata": {
  "anaconda-cloud": {},
  "kernelspec": {
   "display_name": "Python [default]",
   "language": "python",
   "name": "python2"
  },
  "language_info": {
   "codemirror_mode": {
    "name": "ipython",
    "version": 2
   },
   "file_extension": ".py",
   "mimetype": "text/x-python",
   "name": "python",
   "nbconvert_exporter": "python",
   "pygments_lexer": "ipython2",
   "version": "2.7.12"
  }
 },
 "nbformat": 4,
 "nbformat_minor": 2
}
