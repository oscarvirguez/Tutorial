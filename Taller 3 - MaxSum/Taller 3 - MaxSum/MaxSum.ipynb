{
 "cells": [
  {
   "cell_type": "markdown",
   "metadata": {},
   "source": [
    "secuenciaLa subsecuencia de suma máxima\n",
    "Dados n enteros a_1,a_2,...,a_n, necesitamos encontrar el valor de la expresión:\n",
    "\n",
    "$max_{1≤ i≤ j ≤n}{\\sum_{k=i}^ja_k}$\n",
    "que calcula el máximo de las sumas parciales de elementos consecutivos. e.g, dados los 6 enteros (–2,11,–4,13,–5,–2) la solución al problema es 20 (suma de a_2 hasta a_4)."
   ]
  },
  {
   "cell_type": "markdown",
   "metadata": {},
   "source": [
    "1) Implemente un algoritmo trivial para solucionar el problema en tiempo $O(n$<sup>$2$</sup>$)$</h3>"
   ]
  },
  {
   "cell_type": "code",
   "execution_count": 1,
   "metadata": {
    "collapsed": false
   },
   "outputs": [],
   "source": [
    "def SumaParMax(a, prim, ult):\n",
    "    sumaMayor = -9e17\n",
    "    for i in range(ult):\n",
    "        temp = a[i]\n",
    "        for j in range(i+1, ult+1):\n",
    "            temp += a[j]\n",
    "            if(temp > sumaMayor):\n",
    "                sumaMayor = temp\n",
    "                x_i = i\n",
    "                x_j = j\n",
    "    return sumaMayor"
   ]
  },
  {
   "cell_type": "markdown",
   "metadata": {},
   "source": [
    "2) Implemente un algoritmo dividir y conquistar para solucionar el problema en tiempo $O(nlogn)$</h3>"
   ]
  },
  {
   "cell_type": "code",
   "execution_count": 2,
   "metadata": {
    "collapsed": false
   },
   "outputs": [],
   "source": [
    "def SumaParMaxDC(a, prim, ult):\n",
    "    if (prim == ult):\n",
    "        return a[prim]\n",
    "    \n",
    "    mit = (prim + ult)//2\n",
    "    \n",
    "    izq = SumaParMaxDC(a, prim, mit)\n",
    "    der = SumaParMaxDC(a, mit+1, ult)\n",
    "    \n",
    "    max_izq = 0\n",
    "    temp_izq = -9e17\n",
    "    for i in range(mit, prim-1, -1):\n",
    "        max_izq += a[i]\n",
    "        if (max_izq > temp_izq):\n",
    "            temp_izq = max_izq\n",
    "\n",
    "    max_der = 0\n",
    "    temp_der = -9e17\n",
    "    for  i in range (mit+1, ult+1):\n",
    "        max_der += a[i]\n",
    "        if (max_der > temp_der):\n",
    "            temp_der = max_der\n",
    "            \n",
    "    mitad = temp_izq + temp_der\n",
    "\n",
    "    return max(izq, der, mitad);"
   ]
  },
  {
   "cell_type": "markdown",
   "metadata": {},
   "source": [
    "3) Implemente el siguiente algoritmo (J.L. Bentley, 1989.)"
   ]
  },
  {
   "cell_type": "code",
   "execution_count": 3,
   "metadata": {
    "collapsed": false
   },
   "outputs": [],
   "source": [
    "def Sumamax3(a, prim, ult):\n",
    "    if(prim > ult):\n",
    "        return 0\n",
    "    if(prim == ult):\n",
    "        return max(0, a[prim])\n",
    "    \n",
    "    mitad = (prim+ult)/2\n",
    "    \n",
    "    max_aux = max(Sumamax3(a, prim, mitad), Sumamax3(a, mitad+1, ult))\n",
    "    \n",
    "    max_izq = 0\n",
    "    suma = 0\n",
    "    \n",
    "    for i in range(mitad, prim-1, -1):\n",
    "        suma += a[i]\n",
    "        max_izq = max(max_izq, suma)\n",
    "                                           \n",
    "    max_der = 0\n",
    "    suma = 0\n",
    "    \n",
    "    for i in range(mitad+1, ult+1):\n",
    "        suma += a[i]\n",
    "        max_der = max(max_der, suma)\n",
    "        \n",
    "    return max(max_der + max_izq, max_aux)"
   ]
  },
  {
   "cell_type": "markdown",
   "metadata": {},
   "source": [
    "Resultados"
   ]
  },
  {
   "cell_type": "code",
   "execution_count": 4,
   "metadata": {
    "collapsed": false
   },
   "outputs": [
    {
     "name": "stdout",
     "output_type": "stream",
     "text": [
      "O(n^2):\t\t20\n",
      "O(nlogn):\t20\n",
      "Bentley:\t20\n"
     ]
    }
   ],
   "source": [
    "a = [-2, 11, -4, 13, -5, -2]\n",
    "\n",
    "print \"O(n^2):\\t\\t\", SumaParMax(a, 0, len(a)-1)\n",
    "\n",
    "print \"O(nlogn):\\t\", Sumamax3(a, 0, len(a)-1)\n",
    "\n",
    "print \"Bentley:\\t\", SumaParMaxDC(a, 0, len(a)-1)"
   ]
  }
 ],
 "metadata": {
  "kernelspec": {
   "display_name": "Python 2",
   "language": "python",
   "name": "python2"
  },
  "language_info": {
   "codemirror_mode": {
    "name": "ipython",
    "version": 2
   },
   "file_extension": ".py",
   "mimetype": "text/x-python",
   "name": "python",
   "nbconvert_exporter": "python",
   "pygments_lexer": "ipython2",
   "version": "2.7.13"
  }
 },
 "nbformat": 4,
 "nbformat_minor": 2
}
