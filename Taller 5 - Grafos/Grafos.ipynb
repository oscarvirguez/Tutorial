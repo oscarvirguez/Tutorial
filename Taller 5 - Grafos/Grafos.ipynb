{
 "cells": [
  {
   "cell_type": "markdown",
   "metadata": {},
   "source": [
    "# Taller 5"
   ]
  },
  {
   "cell_type": "markdown",
   "metadata": {},
   "source": [
    "1 ) Implemente el algoritmo de búsqueda en profundidad (DFS) y pruebelo para recorrer el grafo del laberinto de pacman.\n"
   ]
  },
  {
   "cell_type": "code",
   "execution_count": 6,
   "metadata": {
    "collapsed": true
   },
   "outputs": [],
   "source": [
    "import math\n",
    "import time\n",
    "import random as rnd\n",
    "import numpy as np\n",
    "import matplotlib.pyplot as pl\n",
    "%matplotlib inline"
   ]
  },
  {
   "cell_type": "code",
   "execution_count": 7,
   "metadata": {
    "collapsed": true
   },
   "outputs": [],
   "source": [
    "def dfs(graph, start):\n",
    "    visited, stack = set(), [start]\n",
    "    while stack:\n",
    "        vertex = stack.pop()\n",
    "        if vertex not in visited:\n",
    "            visited.add(vertex)\n",
    "            stack.extend(graph[vertex] - visited)\n",
    "    return visited"
   ]
  },
  {
   "cell_type": "code",
   "execution_count": 8,
   "metadata": {
    "collapsed": false
   },
   "outputs": [
    {
     "ename": "IOError",
     "evalue": "[Errno 2] No such file or directory: u'Pacman_Graph.png'",
     "output_type": "error",
     "traceback": [
      "\u001b[0;31m---------------------------------------------------------------------------\u001b[0m",
      "\u001b[0;31mIOError\u001b[0m                                   Traceback (most recent call last)",
      "\u001b[0;32m<ipython-input-8-57e876984e59>\u001b[0m in \u001b[0;36m<module>\u001b[0;34m()\u001b[0m\n\u001b[1;32m      1\u001b[0m \u001b[1;32mfrom\u001b[0m \u001b[0mIPython\u001b[0m\u001b[1;33m.\u001b[0m\u001b[0mdisplay\u001b[0m \u001b[1;32mimport\u001b[0m \u001b[0mImage\u001b[0m\u001b[1;33m\u001b[0m\u001b[0m\n\u001b[0;32m----> 2\u001b[0;31m \u001b[0mImage\u001b[0m\u001b[1;33m(\u001b[0m\u001b[0mfilename\u001b[0m\u001b[1;33m=\u001b[0m\u001b[1;34m'Pacman_Graph.png'\u001b[0m\u001b[1;33m)\u001b[0m\u001b[1;33m\u001b[0m\u001b[0m\n\u001b[0m",
      "\u001b[0;32mD:\\Users\\oscar\\Anaconda2\\lib\\site-packages\\IPython\\core\\display.pyc\u001b[0m in \u001b[0;36m__init__\u001b[0;34m(self, data, url, filename, format, embed, width, height, retina, unconfined, metadata)\u001b[0m\n\u001b[1;32m    755\u001b[0m         \u001b[0mself\u001b[0m\u001b[1;33m.\u001b[0m\u001b[0munconfined\u001b[0m \u001b[1;33m=\u001b[0m \u001b[0munconfined\u001b[0m\u001b[1;33m\u001b[0m\u001b[0m\n\u001b[1;32m    756\u001b[0m         \u001b[0mself\u001b[0m\u001b[1;33m.\u001b[0m\u001b[0mmetadata\u001b[0m \u001b[1;33m=\u001b[0m \u001b[0mmetadata\u001b[0m\u001b[1;33m\u001b[0m\u001b[0m\n\u001b[0;32m--> 757\u001b[0;31m         \u001b[0msuper\u001b[0m\u001b[1;33m(\u001b[0m\u001b[0mImage\u001b[0m\u001b[1;33m,\u001b[0m \u001b[0mself\u001b[0m\u001b[1;33m)\u001b[0m\u001b[1;33m.\u001b[0m\u001b[0m__init__\u001b[0m\u001b[1;33m(\u001b[0m\u001b[0mdata\u001b[0m\u001b[1;33m=\u001b[0m\u001b[0mdata\u001b[0m\u001b[1;33m,\u001b[0m \u001b[0murl\u001b[0m\u001b[1;33m=\u001b[0m\u001b[0murl\u001b[0m\u001b[1;33m,\u001b[0m \u001b[0mfilename\u001b[0m\u001b[1;33m=\u001b[0m\u001b[0mfilename\u001b[0m\u001b[1;33m)\u001b[0m\u001b[1;33m\u001b[0m\u001b[0m\n\u001b[0m\u001b[1;32m    758\u001b[0m \u001b[1;33m\u001b[0m\u001b[0m\n\u001b[1;32m    759\u001b[0m         \u001b[1;32mif\u001b[0m \u001b[0mretina\u001b[0m\u001b[1;33m:\u001b[0m\u001b[1;33m\u001b[0m\u001b[0m\n",
      "\u001b[0;32mD:\\Users\\oscar\\Anaconda2\\lib\\site-packages\\IPython\\core\\display.pyc\u001b[0m in \u001b[0;36m__init__\u001b[0;34m(self, data, url, filename)\u001b[0m\n\u001b[1;32m    392\u001b[0m         \u001b[0mself\u001b[0m\u001b[1;33m.\u001b[0m\u001b[0mfilename\u001b[0m \u001b[1;33m=\u001b[0m \u001b[0mNone\u001b[0m \u001b[1;32mif\u001b[0m \u001b[0mfilename\u001b[0m \u001b[1;32mis\u001b[0m \u001b[0mNone\u001b[0m \u001b[1;32melse\u001b[0m \u001b[0municode_type\u001b[0m\u001b[1;33m(\u001b[0m\u001b[0mfilename\u001b[0m\u001b[1;33m)\u001b[0m\u001b[1;33m\u001b[0m\u001b[0m\n\u001b[1;32m    393\u001b[0m \u001b[1;33m\u001b[0m\u001b[0m\n\u001b[0;32m--> 394\u001b[0;31m         \u001b[0mself\u001b[0m\u001b[1;33m.\u001b[0m\u001b[0mreload\u001b[0m\u001b[1;33m(\u001b[0m\u001b[1;33m)\u001b[0m\u001b[1;33m\u001b[0m\u001b[0m\n\u001b[0m\u001b[1;32m    395\u001b[0m         \u001b[0mself\u001b[0m\u001b[1;33m.\u001b[0m\u001b[0m_check_data\u001b[0m\u001b[1;33m(\u001b[0m\u001b[1;33m)\u001b[0m\u001b[1;33m\u001b[0m\u001b[0m\n\u001b[1;32m    396\u001b[0m \u001b[1;33m\u001b[0m\u001b[0m\n",
      "\u001b[0;32mD:\\Users\\oscar\\Anaconda2\\lib\\site-packages\\IPython\\core\\display.pyc\u001b[0m in \u001b[0;36mreload\u001b[0;34m(self)\u001b[0m\n\u001b[1;32m    777\u001b[0m         \u001b[1;34m\"\"\"Reload the raw data from file or URL.\"\"\"\u001b[0m\u001b[1;33m\u001b[0m\u001b[0m\n\u001b[1;32m    778\u001b[0m         \u001b[1;32mif\u001b[0m \u001b[0mself\u001b[0m\u001b[1;33m.\u001b[0m\u001b[0membed\u001b[0m\u001b[1;33m:\u001b[0m\u001b[1;33m\u001b[0m\u001b[0m\n\u001b[0;32m--> 779\u001b[0;31m             \u001b[0msuper\u001b[0m\u001b[1;33m(\u001b[0m\u001b[0mImage\u001b[0m\u001b[1;33m,\u001b[0m\u001b[0mself\u001b[0m\u001b[1;33m)\u001b[0m\u001b[1;33m.\u001b[0m\u001b[0mreload\u001b[0m\u001b[1;33m(\u001b[0m\u001b[1;33m)\u001b[0m\u001b[1;33m\u001b[0m\u001b[0m\n\u001b[0m\u001b[1;32m    780\u001b[0m             \u001b[1;32mif\u001b[0m \u001b[0mself\u001b[0m\u001b[1;33m.\u001b[0m\u001b[0mretina\u001b[0m\u001b[1;33m:\u001b[0m\u001b[1;33m\u001b[0m\u001b[0m\n\u001b[1;32m    781\u001b[0m                 \u001b[0mself\u001b[0m\u001b[1;33m.\u001b[0m\u001b[0m_retina_shape\u001b[0m\u001b[1;33m(\u001b[0m\u001b[1;33m)\u001b[0m\u001b[1;33m\u001b[0m\u001b[0m\n",
      "\u001b[0;32mD:\\Users\\oscar\\Anaconda2\\lib\\site-packages\\IPython\\core\\display.pyc\u001b[0m in \u001b[0;36mreload\u001b[0;34m(self)\u001b[0m\n\u001b[1;32m    410\u001b[0m         \u001b[1;34m\"\"\"Reload the raw data from file or URL.\"\"\"\u001b[0m\u001b[1;33m\u001b[0m\u001b[0m\n\u001b[1;32m    411\u001b[0m         \u001b[1;32mif\u001b[0m \u001b[0mself\u001b[0m\u001b[1;33m.\u001b[0m\u001b[0mfilename\u001b[0m \u001b[1;32mis\u001b[0m \u001b[1;32mnot\u001b[0m \u001b[0mNone\u001b[0m\u001b[1;33m:\u001b[0m\u001b[1;33m\u001b[0m\u001b[0m\n\u001b[0;32m--> 412\u001b[0;31m             \u001b[1;32mwith\u001b[0m \u001b[0mopen\u001b[0m\u001b[1;33m(\u001b[0m\u001b[0mself\u001b[0m\u001b[1;33m.\u001b[0m\u001b[0mfilename\u001b[0m\u001b[1;33m,\u001b[0m \u001b[0mself\u001b[0m\u001b[1;33m.\u001b[0m\u001b[0m_read_flags\u001b[0m\u001b[1;33m)\u001b[0m \u001b[1;32mas\u001b[0m \u001b[0mf\u001b[0m\u001b[1;33m:\u001b[0m\u001b[1;33m\u001b[0m\u001b[0m\n\u001b[0m\u001b[1;32m    413\u001b[0m                 \u001b[0mself\u001b[0m\u001b[1;33m.\u001b[0m\u001b[0mdata\u001b[0m \u001b[1;33m=\u001b[0m \u001b[0mf\u001b[0m\u001b[1;33m.\u001b[0m\u001b[0mread\u001b[0m\u001b[1;33m(\u001b[0m\u001b[1;33m)\u001b[0m\u001b[1;33m\u001b[0m\u001b[0m\n\u001b[1;32m    414\u001b[0m         \u001b[1;32melif\u001b[0m \u001b[0mself\u001b[0m\u001b[1;33m.\u001b[0m\u001b[0murl\u001b[0m \u001b[1;32mis\u001b[0m \u001b[1;32mnot\u001b[0m \u001b[0mNone\u001b[0m\u001b[1;33m:\u001b[0m\u001b[1;33m\u001b[0m\u001b[0m\n",
      "\u001b[0;31mIOError\u001b[0m: [Errno 2] No such file or directory: u'Pacman_Graph.png'"
     ]
    }
   ],
   "source": [
    "from IPython.display import Image\n",
    "Image(filename='Pacman_Graph.png')"
   ]
  },
  {
   "cell_type": "code",
   "execution_count": 9,
   "metadata": {
    "collapsed": false
   },
   "outputs": [
    {
     "name": "stdout",
     "output_type": "stream",
     "text": [
      "set(['A', 'C', 'B', 'E', 'D', 'G', 'F', 'I', 'H', 'K', 'J', 'M', 'L', 'O', 'N', 'Q', 'P', 'S', 'R', 'U', 'T', 'W', 'V', 'X'])\n"
     ]
    }
   ],
   "source": [
    "g ={'A': set(['C', 'D', 'F']),\n",
    "    'B': set(['G', 'I', 'J']),\n",
    "    'C': set(['A', 'D', 'K']),\n",
    "    'D': set(['A', 'C', 'E', 'K']),\n",
    "    'E': set(['D', 'F', 'L']),\n",
    "    'F': set(['A', 'E', 'G']),\n",
    "    'G': set(['B', 'F', 'H']),\n",
    "    'H': set(['G', 'I', 'M']),\n",
    "    'I': set(['B', 'H', 'J', 'N']),\n",
    "    'J': set(['B', 'I', 'N']),\n",
    "    'K': set(['C', 'D', 'O']),\n",
    "    'L': set(['E']),\n",
    "    'M': set(['H']),\n",
    "    'N': set(['I', 'J', 'P']),\n",
    "    'O': set(['K', 'Q', 'R', 'U']),\n",
    "    'P': set(['N', 'S', 'T', 'V']),\n",
    "    'Q': set(['O', 'R', 'U']),\n",
    "    'R': set(['O', 'Q', 'W']),\n",
    "    'S': set(['P', 'T', 'X']),\n",
    "    'T': set(['P', 'S', 'V']),\n",
    "    'U': set(['O', 'Q', 'W']),\n",
    "    'V': set(['P', 'T', 'X']),\n",
    "    'W': set(['R', 'U', 'X']),\n",
    "    'X': set(['S', 'V', 'W']),}\n",
    "\n",
    "print dfs(g, 'A')"
   ]
  },
  {
   "cell_type": "markdown",
   "metadata": {
    "collapsed": true
   },
   "source": [
    "2 ) Realice el análisis del tiempo de ejecución del algoritmo DFS, justifiquelo."
   ]
  },
  {
   "cell_type": "code",
   "execution_count": 10,
   "metadata": {
    "collapsed": true
   },
   "outputs": [],
   "source": [
    "class Counter:\n",
    "    '''\n",
    "    Class Counter\n",
    "    Implements a step counter, which is used to compute the number of basic operations performed in\n",
    "    a particular call to a function.\n",
    "    '''\n",
    "    def __init__(self):\n",
    "        self.steps = 0\n",
    "\n",
    "    def reset(self):\n",
    "        self.steps = 0\n",
    "\n",
    "    def count(self):\n",
    "        self.steps += 1\n",
    "\n",
    "    def print_steps(self):\n",
    "        print \"Number of steps =\", self.steps"
   ]
  },
  {
   "cell_type": "code",
   "execution_count": 11,
   "metadata": {
    "collapsed": false
   },
   "outputs": [],
   "source": [
    "def randomGraph(n):\n",
    "    if n>26:\n",
    "        n = 26\n",
    "    if n<1:\n",
    "        n=1\n",
    "    for x in range(1,n+1):\n",
    "        l1 = [chr(n) for n in rnd.sample(range(65, 65+x), x)]\n",
    "        l2 = []\n",
    "    for y in range(x):\n",
    "        l2.append(set(rnd.sample(l1, rnd.randint(1,len(l1)))))\n",
    "    g = dict(zip( l1, l2))\n",
    "\n",
    "    return g"
   ]
  },
  {
   "cell_type": "code",
   "execution_count": 12,
   "metadata": {
    "collapsed": true
   },
   "outputs": [],
   "source": [
    "def acct_dfs(graph, start, acct):\n",
    "    visited, stack = set(), [start]; acct.count(); acct.count()\n",
    "    while stack:\n",
    "        acct.count()\n",
    "        vertex = stack.pop(); acct.count()\n",
    "        if vertex not in visited:\n",
    "            acct.count()\n",
    "            visited.add(vertex); acct.count()\n",
    "            stack.extend(graph[vertex] - visited); acct.count()\n",
    "    return visited"
   ]
  },
  {
   "cell_type": "code",
   "execution_count": 13,
   "metadata": {
    "collapsed": true
   },
   "outputs": [],
   "source": [
    "import random as rnd\n",
    "\n",
    "def exper_dfs(n):\n",
    "    steps = []\n",
    "    timeP = []\n",
    "    t_n = []\n",
    "    acct = Counter()\n",
    "    for i in range(1,n+1):\n",
    "        graph = randomGraph(i)\n",
    "        start = chr(rnd.randint(65,64+len(graph)))\n",
    "        acct.reset()\n",
    "        tic = time.clock()\n",
    "        acct_dfs(graph, start, acct)\n",
    "        toc = time.clock()\n",
    "        timeP.append(toc - tic)\n",
    "        steps.append(acct.steps)\n",
    "    results = [steps, timeP]\n",
    "    \n",
    "    return results"
   ]
  },
  {
   "cell_type": "code",
   "execution_count": 25,
   "metadata": {
    "collapsed": false
   },
   "outputs": [
    {
     "data": {
      "text/plain": [
       "[<matplotlib.lines.Line2D at 0x9dc4cf8>,\n",
       " <matplotlib.lines.Line2D at 0x9dc4dd8>]"
      ]
     },
     "execution_count": 25,
     "metadata": {},
     "output_type": "execute_result"
    },
    {
     "data": {
      "image/png": "[encoded data removed]",
      "text/plain": [
       "<matplotlib.figure.Figure at 0x9d8ab38>"
      ]
     },
     "metadata": {},
     "output_type": "display_data"
    }
   ],
   "source": [
    "pl.clf()\n",
    "x = np.arange(26)\n",
    "res = exper_dfs(26)\n",
    "p = np.array(res[0])            #-> Arreglo con la cantidad de procesos realizados para cada arreglo (Negro)\n",
    "t = np.array(res[1]) * 1e6      #-> Arreglo de tiempos de ejecucion en el ordenamiento de cada arreglo (Rojo)\n",
    "\n",
    "pl.plot(x, p, 'k.', t, 'r')"
   ]
  },
  {
   "cell_type": "markdown",
   "metadata": {
    "collapsed": false
   },
   "source": [
    "El algoritmo de DFS recorre todo el grafo pasando por cada uno de sus nodos de forma ordenada, esto lo hace por medio de una recursion que expande cada nodo, es un algoritmo basado en backtracking de forma similar a la que se hace en el problema del laberinto, en el que primero se va desplazando por los caminos no visitados y va marcando los sitios ya visitados con el fin de no repetir dichos desplazamientos, hasta encontrar la salida y empieza a devolverse, en el caso del grafo, cuando no quedan mas nodos por visitar regresa, repitiendo el proceso con los nodos adyacentes al nodo visitado.\n",
    "\n",
    "La complejidad de este algoritmo es de $O(V+E)$, en donde $V$ es la cantidad de vertices y $E$ la cantidad de aristas, debido a que debe hacer el recorrido total del grafo."
   ]
  },
  {
   "cell_type": "markdown",
   "metadata": {
    "collapsed": true
   },
   "source": [
    "3 ) Diseñe e implemente un algoritmo que identifique ciclos en un grafo."
   ]
  },
  {
   "cell_type": "code",
   "execution_count": 9,
   "metadata": {
    "collapsed": false
   },
   "outputs": [],
   "source": [
    "def dfs_Cycles(graph, start):\n",
    "    end = start\n",
    "    stack = [(start, [])]\n",
    "    while stack:\n",
    "        state, path = stack.pop()\n",
    "        if path and state == end:\n",
    "            yield path\n",
    "            continue\n",
    "        for next_state in graph[state]:\n",
    "            if next_state in path:\n",
    "                continue\n",
    "            stack.append((next_state, path+[next_state]))"
   ]
  },
  {
   "cell_type": "code",
   "execution_count": 10,
   "metadata": {
    "collapsed": false
   },
   "outputs": [
    {
     "data": {
      "image/png": "[encoded data removed]",
      "text/plain": [
       "<IPython.core.display.Image object>"
      ]
     },
     "execution_count": 10,
     "metadata": {},
     "output_type": "execute_result"
    }
   ],
   "source": [
    "from IPython.display import Image\n",
    "Image(filename='Cycle_Graph.png')"
   ]
  },
  {
   "cell_type": "code",
   "execution_count": 11,
   "metadata": {
    "collapsed": false
   },
   "outputs": [
    {
     "name": "stdout",
     "output_type": "stream",
     "text": [
      "[['A', 'B', 'A'], ['A', 'C', 'B', 'A'], ['A', 'C', 'A'], ['A', 'A'], ['C', 'B', 'A', 'C'], ['C', 'A', 'C'], ['B', 'A', 'B'], ['B', 'A', 'C', 'B']]\n"
     ]
    }
   ],
   "source": [
    "g ={'A': set(['A', 'B', 'C']),\n",
    "    'B': set(['A']),\n",
    "    'C': set(['A', 'B'])}\n",
    "\n",
    "cycles = [[node]+path  for node in g for path in dfs_Cycles(g, node)]\n",
    "\n",
    "print cycles"
   ]
  },
  {
   "cell_type": "markdown",
   "metadata": {},
   "source": [
    "4 ) Diseñe e implemente un algoritmo que verifique si un grafo es bipartito o no.\n",
    "\n",
    "*Un grafo es bipartito si y solo si sus ciclos tienen un numero par de vertices"
   ]
  },
  {
   "cell_type": "code",
   "execution_count": 12,
   "metadata": {
    "collapsed": false
   },
   "outputs": [
    {
     "data": {
      "image/png": "[encoded data removed]",
      "text/plain": [
       "<IPython.core.display.Image object>"
      ]
     },
     "execution_count": 12,
     "metadata": {},
     "output_type": "execute_result"
    }
   ],
   "source": [
    "from IPython.display import Image\n",
    "Image(filename='Bipartite_Graph.png')"
   ]
  },
  {
   "cell_type": "code",
   "execution_count": 13,
   "metadata": {
    "collapsed": false
   },
   "outputs": [],
   "source": [
    "def isBipartite(graph):\n",
    "    if len(graph)<2:\n",
    "        return \"No es bipartito\"\n",
    "    for node in graph:\n",
    "        l=[]\n",
    "        for path in dfs_Cycles(graph, node):\n",
    "            l = [node]+path\n",
    "            if ((len(l)-1)%2) != 0:\n",
    "                return \"No es bipartito\"\n",
    "    return \"Es bipartito\""
   ]
  },
  {
   "cell_type": "code",
   "execution_count": 14,
   "metadata": {
    "collapsed": false
   },
   "outputs": [
    {
     "name": "stdout",
     "output_type": "stream",
     "text": [
      "Es bipartito\n"
     ]
    }
   ],
   "source": [
    "g ={'A': set(['D','E']),\n",
    "    'B': set(['D','E']),\n",
    "    'C': set(['D','E']),\n",
    "    'D': set(['A','B','C']),\n",
    "    'E': set(['A','B','C'])}\n",
    "\n",
    "print isBipartite(g)"
   ]
  },
  {
   "cell_type": "markdown",
   "metadata": {},
   "source": [
    "5 ) Modifique el algoritmo de dijkstra para solucionar el problema de la ruta más corta en un grafo sin pesos, i.e. partiendo de un vertice inicial encontrar la ruta y su distancia a todos los demás vertices haciendo la menor cantidad de saltos (vertices en la ruta)"
   ]
  },
  {
   "cell_type": "code",
   "execution_count": 34,
   "metadata": {
    "collapsed": true
   },
   "outputs": [],
   "source": [
    "from heapq import heappush, heappop\n",
    "\n",
    "def updateheap(heap,d,v):\n",
    "    for i in range(len(heap)):\n",
    "        if heap[i][1] == v:\n",
    "            heap[i][0] = d\n",
    "            fix_minheap(heap,i) # heap=heapify(heap) ineficient      \n",
    "            break    \n",
    "\n",
    "def fix_minheap(heap, i):\n",
    "    if i == 0: return  \n",
    "    p = int(i/2) #parent  \n",
    "    if p >= 0 and heap[p][0] > heap[i][0]:\n",
    "        heap[i], heap[p] = heap[p], heap[i]\n",
    "        fix_minheap(heap,p)   \n",
    "            \n",
    "def Dijkstra(G,start):\n",
    "        \n",
    "    D = {} # dictionary of final distances\n",
    "    for v in G:\n",
    "        D[v] = float('inf')\n",
    "    D[start] = 0\n",
    "    \n",
    "    P = {} # dictionary of predecessors\n",
    "    \n",
    "    Q=[] #  priority queue est.dist. of non-final vert.\n",
    "    for v in G:\n",
    "        item = []\n",
    "        item.append(D[v])\n",
    "        item.append(v)\n",
    "        heappush(Q,item)\n",
    "    \n",
    "    \n",
    "    #S = []\n",
    "    while Q:\n",
    "        u = heappop(Q)[1]\n",
    "        #S.append(u)\n",
    "        for v in G[u]:\n",
    "            newDuv = D[u] + 1\n",
    "            if newDuv < D[v]:\n",
    "                P[v] = u\n",
    "                D[v] = newDuv\n",
    "                updateheap(Q,D[v],v)\n",
    "    return D,P"
   ]
  },
  {
   "cell_type": "code",
   "execution_count": 46,
   "metadata": {
    "collapsed": false
   },
   "outputs": [],
   "source": [
    "g = {'S': {'U', 'X'},\n",
    "    'U': {'V', 'X'},\n",
    "    'V': {'Y'},\n",
    "    'X':{'U','V','Y'},\n",
    "    'Y':{'S','V'}}"
   ]
  },
  {
   "cell_type": "code",
   "execution_count": 47,
   "metadata": {
    "collapsed": false
   },
   "outputs": [
    {
     "data": {
      "image/png": "[encoded data removed]",
      "text/plain": [
       "<IPython.core.display.Image object>"
      ]
     },
     "execution_count": 47,
     "metadata": {},
     "output_type": "execute_result"
    }
   ],
   "source": [
    "from IPython.display import Image\n",
    "Image(filename='Dijkstra_Graph.png')"
   ]
  },
  {
   "cell_type": "code",
   "execution_count": 54,
   "metadata": {
    "collapsed": false
   },
   "outputs": [
    {
     "name": "stdout",
     "output_type": "stream",
     "text": [
      "Saltos para cada par de Nodos desde el nodo S : {'Y': 2, 'X': 1, 'S': 0, 'U': 1, 'V': 2}\n",
      "Ruta para cada par de Nodos desde el nodo S : {'Y': 'X', 'X': 'S', 'U': 'S', 'V': 'X'}\n"
     ]
    }
   ],
   "source": [
    "start = 'S'\n",
    "D = Dijkstra(g, start)\n",
    "print \"Saltos para cada par de Nodos desde el nodo\", start, \":\", D[0]\n",
    "print \"Ruta para cada par de Nodos desde el nodo\", start, \":\", D[1]"
   ]
  }
 ],
 "metadata": {
  "anaconda-cloud": {},
  "kernelspec": {
   "display_name": "Python 2",
   "language": "python",
   "name": "python2"
  },
  "language_info": {
   "codemirror_mode": {
    "name": "ipython",
    "version": 2
   },
   "file_extension": ".py",
   "mimetype": "text/x-python",
   "name": "python",
   "nbconvert_exporter": "python",
   "pygments_lexer": "ipython2",
   "version": "2.7.13"
  }
 },
 "nbformat": 4,
 "nbformat_minor": 1
}
