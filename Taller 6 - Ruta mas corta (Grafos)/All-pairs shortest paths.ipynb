{
 "cells": [
  {
   "cell_type": "markdown",
   "metadata": {},
   "source": [
    "# Todos los pares de rutas más cortas\n",
    "\n",
    "Dado un grafo $G(V,E)$, con una función de peso $\\omega : E \\rightarrow \\mathbb{R}$"
   ]
  },
  {
   "cell_type": "markdown",
   "metadata": {},
   "source": [
    "$W$ es una matriz de $n\\times n$ ($|V|=n$) que representa los pesos de las aristas del grafo $G$. $W=(w_{ij})$, donde\n",
    "$$\n",
    "w_{ij}= \n",
    "\\begin{cases}\n",
    "    0 & \\text{si } i = j\\\\\n",
    "    \\omega(i,j) & \\text{si } i \\neq j \\text{ y }(i,j)\\in E\\\\\n",
    "    \\infty & \\text{si } i \\neq j \\text{ y }(i,j)\\in E\\\\\n",
    "\\end{cases}\n",
    "$$"
   ]
  },
  {
   "cell_type": "markdown",
   "metadata": {},
   "source": [
    "# Algoritmo de Floyd-Warshall"
   ]
  },
  {
   "cell_type": "code",
   "execution_count": 148,
   "metadata": {
    "collapsed": false
   },
   "outputs": [],
   "source": [
    "import numpy as np\n",
    "import networkx as nx\n",
    "import matplotlib.pyplot as plt\n",
    "import pylab\n",
    "import time\n",
    "%matplotlib inline"
   ]
  },
  {
   "cell_type": "code",
   "execution_count": 149,
   "metadata": {
    "collapsed": true
   },
   "outputs": [],
   "source": [
    "def FloydWarshall(W):\n",
    "    n = W.shape[0]\n",
    "    D_list = []#Save each D^{(k)} matrix\n",
    "    D_list.append(W[:,:])#D^{(0)}\n",
    "    for k in range(n):        \n",
    "        D_k = D_list[k][:,:]\n",
    "        for i in range(n):\n",
    "            for j in range(n):\n",
    "                D_k[i,j] = min(D_list[k][i,j], D_list[k][i,k]+D_list[k][k,j])        \n",
    "        D_list.append(np.copy(D_k))\n",
    "    return D_k, D_list"
   ]
  },
  {
   "cell_type": "code",
   "execution_count": 150,
   "metadata": {
    "collapsed": false
   },
   "outputs": [
    {
     "name": "stdout",
     "output_type": "stream",
     "text": [
      "[[  0.   3.   8.  inf  -4.]\n",
      " [ inf   0.  inf   1.   7.]\n",
      " [ inf   4.   0.  inf  inf]\n",
      " [  2.  inf  -5.   0.  inf]\n",
      " [ inf  inf  inf   6.   0.]]\n"
     ]
    }
   ],
   "source": [
    "W = np.matrix(\n",
    "    [[0., 3., 8., float('inf'), -4.],\n",
    "     [float('inf'), 0., float('inf'), 1., 7.],\n",
    "     [float('inf'), 4., 0., float('inf'), float('inf')],\n",
    "     [2, float('inf'), -5., 0., float('inf')],\n",
    "     [float('inf'), float('inf'), float('inf'), 6., 0.],\n",
    "    ]\n",
    ")\n",
    "print W"
   ]
  },
  {
   "cell_type": "code",
   "execution_count": 151,
   "metadata": {
    "collapsed": false
   },
   "outputs": [],
   "source": [
    "D_n, Ds = FloydWarshall(W)"
   ]
  },
  {
   "cell_type": "code",
   "execution_count": 152,
   "metadata": {
    "collapsed": false
   },
   "outputs": [
    {
     "name": "stdout",
     "output_type": "stream",
     "text": [
      "[[ 0.  1. -3.  2. -4.]\n",
      " [ 3.  0. -4.  1. -1.]\n",
      " [ 7.  4.  0.  5.  3.]\n",
      " [ 2. -1. -5.  0. -2.]\n",
      " [ 8.  5.  1.  6.  0.]]\n"
     ]
    }
   ],
   "source": [
    "print D_n"
   ]
  },
  {
   "cell_type": "code",
   "execution_count": 153,
   "metadata": {
    "collapsed": false
   },
   "outputs": [
    {
     "name": "stdout",
     "output_type": "stream",
     "text": [
      "[[  0.   3.   8.  inf  -4.]\n",
      " [ inf   0.  inf   1.   7.]\n",
      " [ inf   4.   0.  inf  inf]\n",
      " [  2.   5.  -5.   0.  -2.]\n",
      " [ inf  inf  inf   6.   0.]]\n",
      "[[  0.   3.   8.   4.  -4.]\n",
      " [ inf   0.  inf   1.   7.]\n",
      " [ inf   4.   0.   5.  11.]\n",
      " [  2.   5.  -5.   0.  -2.]\n",
      " [ inf  inf  inf   6.   0.]]\n",
      "[[  0.   3.   8.   4.  -4.]\n",
      " [ inf   0.  inf   1.   7.]\n",
      " [ inf   4.   0.   5.  11.]\n",
      " [  2.  -1.  -5.   0.  -2.]\n",
      " [ inf  inf  inf   6.   0.]]\n",
      "[[ 0.  3. -1.  4. -4.]\n",
      " [ 3.  0. -4.  1. -1.]\n",
      " [ 7.  4.  0.  5.  3.]\n",
      " [ 2. -1. -5.  0. -2.]\n",
      " [ 8.  5.  1.  6.  0.]]\n",
      "[[ 0.  1. -3.  2. -4.]\n",
      " [ 3.  0. -4.  1. -1.]\n",
      " [ 7.  4.  0.  5.  3.]\n",
      " [ 2. -1. -5.  0. -2.]\n",
      " [ 8.  5.  1.  6.  0.]]\n",
      "[[ 0.  1. -3.  2. -4.]\n",
      " [ 3.  0. -4.  1. -1.]\n",
      " [ 7.  4.  0.  5.  3.]\n",
      " [ 2. -1. -5.  0. -2.]\n",
      " [ 8.  5.  1.  6.  0.]]\n"
     ]
    }
   ],
   "source": [
    "for D in Ds:\n",
    "    print D"
   ]
  },
  {
   "cell_type": "markdown",
   "metadata": {},
   "source": [
    "## (SSP) Dijkstra"
   ]
  },
  {
   "cell_type": "code",
   "execution_count": 154,
   "metadata": {
    "collapsed": true
   },
   "outputs": [],
   "source": [
    "from heapq import heappush, heappop\n",
    "\n",
    "def updateheap(heap,d,v):\n",
    "    for i in range(len(heap)):\n",
    "        if heap[i][1] == v:\n",
    "            heap[i][0] = d\n",
    "            fix_minheap(heap,i) # heap=heapify(heap) ineficient      \n",
    "            break    \n",
    "\n",
    "def fix_minheap(heap, i):\n",
    "    if i == 0: return  \n",
    "    p = int(i/2) #parent  \n",
    "    if p >= 0 and heap[p][0] > heap[i][0]:\n",
    "        heap[i], heap[p] = heap[p], heap[i]\n",
    "        fix_minheap(heap,p)   \n",
    "            \n",
    "def Dijkstra(G,start):\n",
    "        \n",
    "    D = {} # dictionary of final distances\n",
    "    for v in G:\n",
    "        D[v] = float('inf')\n",
    "    D[start] = 0\n",
    "    \n",
    "    P = {} # dictionary of predecessors\n",
    "    \n",
    "    Q=[] #  priority queue est.dist. of non-final vert.\n",
    "    for v in G:\n",
    "        item = []\n",
    "        item.append(D[v])\n",
    "        item.append(v)\n",
    "        heappush(Q,item)\n",
    "    \n",
    "    \n",
    "    #S = []\n",
    "    while Q:\n",
    "        u = heappop(Q)[1]\n",
    "        #S.append(u)\n",
    "        for v in G[u]:\n",
    "            newDuv = D[u] + G[u][v]\n",
    "            if newDuv < D[v]:\n",
    "                P[v] = u\n",
    "                D[v] = newDuv\n",
    "                updateheap(Q,D[v],v)\n",
    "    return D,P"
   ]
  },
  {
   "cell_type": "code",
   "execution_count": 155,
   "metadata": {
    "collapsed": false
   },
   "outputs": [],
   "source": [
    "# From  http://www.ics.uci.edu/~eppstein/161/python/dijkstra.py\n",
    "# David Eppstein, UC Irvine, 4 April 2002\n",
    "def shortestPath(G,start,end,method):\n",
    "    \"\"\"\n",
    "    Find a single shortest path from the given start vertex to the given end vertex.\n",
    "    The input has the same conventions as Dijkstra().\n",
    "    The output is a list of the vertices in order along the shortest path.\n",
    "     \"\"\"\n",
    "    if method ==  'Dijkstra':\n",
    "        D,P = Dijkstra(G,start)\n",
    "    elif method == 'Bellman':\n",
    "        D,P = BellmanFord(G,start)\n",
    "    else:\n",
    "        D,P = Dijkstra(G,start)\n",
    "    \n",
    "    Path = []\n",
    "    while 1:\n",
    "        Path.append(end)\n",
    "        if end == start: break\n",
    "        end = P[end]\n",
    "    Path.reverse()\n",
    "    return Path\n"
   ]
  },
  {
   "cell_type": "code",
   "execution_count": 156,
   "metadata": {
    "collapsed": false
   },
   "outputs": [
    {
     "name": "stdout",
     "output_type": "stream",
     "text": [
      "({'y': 7, 'x': 5, 's': 0, 'u': 8, 'v': 9}, {'y': 'x', 'x': 's', 'u': 'x', 'v': 'u'})\n",
      "['s', 'x', 'u', 'v']\n"
     ]
    }
   ],
   "source": [
    "# example, CLR p.528\n",
    "G = {'s': {'u':10, 'x':5},\n",
    "    'u': {'v':1, 'x':2},\n",
    "    'v': {'y':4},\n",
    "    'x':{'u':3,'v':9,'y':2},\n",
    "    'y':{'s':7,'v':6}}\n",
    "\n",
    "print(Dijkstra(G,'s'))\n",
    "print(shortestPath(G,'s','v','Dijkstra'))"
   ]
  },
  {
   "cell_type": "markdown",
   "metadata": {},
   "source": [
    "# (SSP) - Bellman-Ford"
   ]
  },
  {
   "cell_type": "code",
   "execution_count": 157,
   "metadata": {
    "collapsed": true
   },
   "outputs": [],
   "source": [
    "def BellmanFord(G,start):\n",
    "    \n",
    "    D = {} # dictionary of final distances\n",
    "    for v in G:\n",
    "        D[v] = float('inf')\n",
    "    D[start] = 0\n",
    "    \n",
    "    P = {} # dictionary of predecessors\n",
    "    \n",
    "    for i in range(len(G)-1):\n",
    "        for u in G:\n",
    "            for v in G[u]:   \n",
    "                newDv = D[u] + G[u][v]\n",
    "                if newDv < D[v]:\n",
    "                    P[v] = u\n",
    "                    D[v] = newDv\n",
    "    \n",
    "    for u in G:\n",
    "        for v in G[u]:   \n",
    "            newDv = D[u] + G[u][v]\n",
    "            if newDv < D[v]: print(\"Negative cicle\",u,v)\n",
    "                \n",
    "    return D,P"
   ]
  },
  {
   "cell_type": "code",
   "execution_count": 158,
   "metadata": {
    "collapsed": false
   },
   "outputs": [
    {
     "name": "stdout",
     "output_type": "stream",
     "text": [
      "{'y': {'s': 7, 'v': 6}, 'x': {'y': 2, 'u': 3, 'v': 9}, 's': {'x': 5, 'u': 10}, 'u': {'x': 2, 'v': 1}, 'v': {'y': 4}}\n",
      "({'y': 7, 'x': 5, 's': 0, 'u': 8, 'v': 9}, {'y': 'x', 'x': 's', 'u': 'x', 'v': 'u'})\n",
      "['s', 'x', 'u', 'v']\n"
     ]
    }
   ],
   "source": [
    "# example, CLR p.528\n",
    "G = {'s': {'u':10, 'x':5},\n",
    "    'u': {'v':1, 'x':2},\n",
    "    'v': {'y':4},\n",
    "    'x':{'u':3,'v':9,'y':2},\n",
    "    'y':{'s':7,'v':6}}\n",
    "\n",
    "print G\n",
    "x = {'d':160}\n",
    "print(BellmanFord(G,'s'))\n",
    "print(shortestPath(G,'s','v','Bellman'))\n"
   ]
  },
  {
   "cell_type": "code",
   "execution_count": 159,
   "metadata": {
    "collapsed": false
   },
   "outputs": [
    {
     "name": "stdout",
     "output_type": "stream",
     "text": [
      "('Negative cicle', 'x', 'y')\n",
      "('Negative cicle', 'x', 'u')\n",
      "({'y': 1, 'x': -2, 's': 0, 'u': 2, 'v': 3}, {'y': 'x', 'x': 'u', 'u': 'x', 'v': 'u'})\n"
     ]
    }
   ],
   "source": [
    "#  modified negative cicle w(u,x) = -4\n",
    "G = {'s': {'u':10, 'x':1},\n",
    "    'u': {'v':1, 'x':-4},\n",
    "    'v': {'y':4},\n",
    "    'x':{'u':3,'v':9,'y':2},\n",
    "    'y':{'s':7,'v':6}}\n",
    "\n",
    "print(BellmanFord(G,'s'))"
   ]
  },
  {
   "cell_type": "markdown",
   "metadata": {},
   "source": [
    "<h1>Actividad</h1>\n",
    " <ol>\n",
    "  <li>Implemente un método para crear grafos aleatorios de $n$ vertices, donde con probabilidad $\\psi \\in [0,1]$ definira si exite una arista entre cada par de vertices $(i,j)$. El peso $\\omega(i,j) \\in [minw, maxw]$ se asignará de manera aleatoria uniformemente en el intervalo $[minw, maxw]$</li>\n",
    "  <li>Adapte el algoritmo de Dijkstra para calcular todos los pares de rutas más cortas</li>\n",
    "  <li>Adapte el algoritmo de Bellman-Ford para calcular todos los pares de rutas más cortas</li>\n",
    "  <li>Implemente el algoritmo de BFS para calcular todos los pares de rutas más cortas (asumiendo que la longitud de la ruta esta dada por la cantidad de aristas que interviene más no por su peso)</li>\n",
    "  <li>Compare experimentalmente los algoritmos incluyendo Floyd-Warshall para grafos aleatorios densos ($\\psi$ cercano a 0) variando linealmente los tamaños de $n$</li>\n",
    "  <li>Compare experimentalmente los algoritmos incluyendo Floyd-Warshall para grafos aleatorios dispersos ($\\psi$ cercano a 1) variando linealmente los tamaños de $n$</li>\n",
    "</ol> "
   ]
  },
  {
   "cell_type": "code",
   "execution_count": 160,
   "metadata": {
    "collapsed": false
   },
   "outputs": [],
   "source": [
    "def plotGraph(graph):\n",
    "    G = nx.DiGraph()\n",
    "    for node in graph:\n",
    "        G.add_nodes_from([node])\n",
    "        for neigh in graph[node]:\n",
    "            G.add_edges_from([(node, neigh)], weight=graph[node][neigh])\n",
    "\n",
    "    values = 'yellow'\n",
    "    edge_labels=dict([((u,v,),d['weight'])\n",
    "                     for u,v,d in G.edges(data=True)])\n",
    "    edge_colors = 'black'\n",
    "\n",
    "    pos=nx.spring_layout(G)\n",
    "    nx.draw_networkx_edge_labels(G,pos,edge_labels=edge_labels)\n",
    "    nx.draw(G,pos, node_color = values, node_size=750,edge_color=edge_colors,edge_cmap=plt.cm.Reds)\n",
    "    node_labels = {node:node for node in G.nodes()}; nx.draw_networkx_labels(G, pos, labels=node_labels)\n",
    "    pylab.show()"
   ]
  },
  {
   "cell_type": "code",
   "execution_count": 161,
   "metadata": {
    "collapsed": false
   },
   "outputs": [],
   "source": [
    "def convertBidirectional(graph):\n",
    "    for n in graph:\n",
    "        for n2 in graph:\n",
    "            if(n in graph[n2]):\n",
    "                graph[n][n2] = graph[n2][n]\n",
    "    return graph"
   ]
  },
  {
   "cell_type": "code",
   "execution_count": 162,
   "metadata": {
    "collapsed": false
   },
   "outputs": [],
   "source": [
    "def graphToText(dic):\n",
    "    for n in dic:\n",
    "        print \"Pesos Desde\", n, dic[n][0]\n",
    "        print \"Ruta desde\", n, dic[n][1]"
   ]
  },
  {
   "cell_type": "code",
   "execution_count": 163,
   "metadata": {
    "collapsed": false
   },
   "outputs": [],
   "source": [
    "def graphToMatrix(graph):\n",
    "    gMatx = np.ones((len(graph),len(graph)))*float('inf')\n",
    "\n",
    "    for node in graph:\n",
    "        gMatx[graph.keys().index(node),graph.keys().index(node)] = 0\n",
    "        for neigh in graph[node]:\n",
    "            gMatx[graph.keys().index(node), graph.keys().index(neigh)] = graph[node][neigh]\n",
    "\n",
    "    return gMatx"
   ]
  },
  {
   "cell_type": "markdown",
   "metadata": {},
   "source": [
    "# Punto 1"
   ]
  },
  {
   "cell_type": "code",
   "execution_count": 164,
   "metadata": {
    "collapsed": false
   },
   "outputs": [],
   "source": [
    "import random as rnd\n",
    "\n",
    "def randomGraph(n, e, wmin, wmax):\n",
    "    if n>26:\n",
    "        n = 26\n",
    "    if n<1:\n",
    "        n=1\n",
    "        \n",
    "    maxEdges = (n*(n-1))/2\n",
    "    if e > maxEdges:\n",
    "        e = maxEdges\n",
    "        \n",
    "    for x in range(1,n+1):\n",
    "        l1 = [chr(n) for n in rnd.sample(range(65, 65+x), x)]\n",
    "    l2 = []\n",
    "    rnd.shuffle(l1)\n",
    "\n",
    "    for y in range(len(l1)):\n",
    "        l1_c = []\n",
    "        l1_c = l1[y+1:len(l1)]\n",
    "        rnd.shuffle(l1_c)\n",
    "        l2.append(l1_c)\n",
    "        \n",
    "    neighbors = []\n",
    "    for y in range(len(l2)):\n",
    "        neighbors.append([])\n",
    "    \n",
    "    cont = e\n",
    "    while cont>0:\n",
    "        for y in range(len(l1)-1):\n",
    "            if len(l2[y]) > 0 and cont > 0:\n",
    "                neighbors[y].append(l2[y].pop())\n",
    "                cont -= 1\n",
    "    \n",
    "    final = []\n",
    "    for y in range(len(neighbors)):\n",
    "        cost = [rnd.randint(wmin, wmax) for r in xrange(len(neighbors[y]))]\n",
    "        final.append(dict(zip(neighbors[y], cost)))\n",
    "                    \n",
    "    g = dict(zip(l1, final))\n",
    "\n",
    "    return g"
   ]
  },
  {
   "cell_type": "code",
   "execution_count": 334,
   "metadata": {
    "collapsed": false
   },
   "outputs": [
    {
     "name": "stdout",
     "output_type": "stream",
     "text": [
      " {'A': {}, 'C': {'A': 4}, 'B': {'A': 5, 'C': 4}}\n"
     ]
    },
    {
     "data": {
      "image/png": "[encoded data removed]",
      "text/plain": [
       "<matplotlib.figure.Figure at 0xadc6390>"
      ]
     },
     "metadata": {},
     "output_type": "display_data"
    }
   ],
   "source": [
    "g = randomGraph(3, 3, 1, 5)\n",
    "print g\n",
    "plotGraph(g)"
   ]
  },
  {
   "cell_type": "code",
   "execution_count": 175,
   "metadata": {
    "collapsed": false
   },
   "outputs": [
    {
     "name": "stdout",
     "output_type": "stream",
     "text": [
      "{'A': {'E': 2, 'D': 5}, 'C': {'A': 4, 'E': 5}, 'B': {'E': 3, 'D': 2}, 'E': {'D': 5}, 'D': {}}\n"
     ]
    },
    {
     "data": {
      "image/png": "[encoded data removed]",
      "text/plain": [
       "<matplotlib.figure.Figure at 0x9ada5f8>"
      ]
     },
     "metadata": {},
     "output_type": "display_data"
    }
   ],
   "source": [
    "g = randomGraph(5, 7, 1, 5)\n",
    "print g\n",
    "plotGraph(g)"
   ]
  },
  {
   "cell_type": "markdown",
   "metadata": {},
   "source": [
    "# Punto 2"
   ]
  },
  {
   "cell_type": "code",
   "execution_count": 165,
   "metadata": {
    "collapsed": false
   },
   "outputs": [],
   "source": [
    "def AllDijkstra(graph):\n",
    "    resX = []\n",
    "    resPath = []\n",
    "    for x in graph:\n",
    "        path = Dijkstra(graph,x)\n",
    "        resX.append(x)\n",
    "        resPath.append(path)\n",
    "    return dict(zip(resX, resPath))"
   ]
  },
  {
   "cell_type": "code",
   "execution_count": 350,
   "metadata": {
    "collapsed": false
   },
   "outputs": [
    {
     "name": "stdout",
     "output_type": "stream",
     "text": [
      "Pesos Desde A {'A': 0, 'C': inf, 'B': inf, 'E': 4, 'D': inf}\n",
      "Ruta desde A {'E': 'A'}\n",
      "Pesos Desde C {'A': 4, 'C': 0, 'B': inf, 'E': 3, 'D': 1}\n",
      "Ruta desde C {'A': 'C', 'E': 'D', 'D': 'C'}\n",
      "Pesos Desde B {'A': inf, 'C': inf, 'B': 0, 'E': 1, 'D': inf}\n",
      "Ruta desde B {'E': 'B'}\n",
      "Pesos Desde E {'A': inf, 'C': inf, 'B': inf, 'E': 0, 'D': inf}\n",
      "Ruta desde E {}\n",
      "Pesos Desde D {'A': inf, 'C': inf, 'B': inf, 'E': 2, 'D': 0}\n",
      "Ruta desde D {'E': 'D'}\n"
     ]
    },
    {
     "data": {
      "image/png": "[encoded data removed]",
      "text/plain": [
       "<matplotlib.figure.Figure at 0x9c89be0>"
      ]
     },
     "metadata": {},
     "output_type": "display_data"
    }
   ],
   "source": [
    "g = randomGraph(5, 5, 1, 5)\n",
    "graphToText(AllDijkstra(g))\n",
    "plotGraph(g)"
   ]
  },
  {
   "cell_type": "markdown",
   "metadata": {},
   "source": [
    "# Punto 3"
   ]
  },
  {
   "cell_type": "code",
   "execution_count": 166,
   "metadata": {
    "collapsed": false
   },
   "outputs": [],
   "source": [
    "def AllBellamnFord(graph):\n",
    "    resX = []\n",
    "    resPath = []\n",
    "    for x in graph:\n",
    "        path = BellmanFord(graph,x)\n",
    "        resX.append(x)\n",
    "        resPath.append(path)\n",
    "    return dict(zip(resX, resPath))"
   ]
  },
  {
   "cell_type": "code",
   "execution_count": 361,
   "metadata": {
    "collapsed": false
   },
   "outputs": [
    {
     "name": "stdout",
     "output_type": "stream",
     "text": [
      "Pesos Desde A {'A': 0, 'C': inf, 'B': 4, 'E': 6, 'D': 4}\n",
      "Ruta desde A {'B': 'A', 'E': 'D', 'D': 'A'}\n",
      "Pesos Desde C {'A': 4, 'C': 0, 'B': 1, 'E': 6, 'D': 4}\n",
      "Ruta desde C {'A': 'C', 'B': 'C', 'E': 'B', 'D': 'B'}\n",
      "Pesos Desde B {'A': inf, 'C': inf, 'B': 0, 'E': 5, 'D': 3}\n",
      "Ruta desde B {'E': 'B', 'D': 'B'}\n",
      "Pesos Desde E {'A': inf, 'C': inf, 'B': inf, 'E': 0, 'D': inf}\n",
      "Ruta desde E {}\n",
      "Pesos Desde D {'A': inf, 'C': inf, 'B': inf, 'E': 2, 'D': 0}\n",
      "Ruta desde D {'E': 'D'}\n"
     ]
    },
    {
     "data": {
      "image/png": "[encoded data removed]",
      "text/plain": [
       "<matplotlib.figure.Figure at 0xa66d390>"
      ]
     },
     "metadata": {},
     "output_type": "display_data"
    }
   ],
   "source": [
    "g = randomGraph(5, 7, 1, 5)\n",
    "graphToText(AllBellamnFord(g))\n",
    "plotGraph(g)"
   ]
  },
  {
   "cell_type": "markdown",
   "metadata": {},
   "source": [
    "# Punto 4"
   ]
  },
  {
   "cell_type": "code",
   "execution_count": 167,
   "metadata": {
    "collapsed": false
   },
   "outputs": [],
   "source": [
    "def getPathBfs(parent, start, end):\n",
    "    path = [end]\n",
    "    while path[-1] != start:\n",
    "        path.append(parent[path[-1]])\n",
    "    path.reverse()\n",
    "    return path\n",
    "\n",
    "def bfs(graph, start, end):\n",
    "    queue = []\n",
    "    visited = {}\n",
    "    parent = {}\n",
    "    \n",
    "    for node in xrange(len(graph)):\n",
    "        visited[node] = False\n",
    "        parent[node] = None\n",
    "    \n",
    "    queue.append(start)\n",
    "    while len(queue) != 0:\n",
    "        current = queue.pop(0)\n",
    "        if current == end:\n",
    "            path = getPathBfs(parent, start, end)\n",
    "            print \"Desde\", start, \"a\", end, \"saltos:\", len(path)-1, \"-->\", path\n",
    "            break\n",
    "        for neighbor in graph[current]:\n",
    "            if neighbor not in visited:\n",
    "                visited[neighbor] = True\n",
    "                parent[neighbor] = current\n",
    "                queue.append(neighbor)\n",
    "                \n",
    "def bfsNP(graph, start, end):\n",
    "    queue = []\n",
    "    visited = {}\n",
    "    parent = {}\n",
    "    \n",
    "    for node in xrange(len(graph)):\n",
    "        visited[node] = False\n",
    "        parent[node] = None\n",
    "    \n",
    "    queue.append(start)\n",
    "    while len(queue) != 0:\n",
    "        current = queue.pop(0)\n",
    "        if current == end:\n",
    "            path = getPathBfs(parent, start, end)\n",
    "            break\n",
    "        for neighbor in graph[current]:\n",
    "            if neighbor not in visited:\n",
    "                visited[neighbor] = True\n",
    "                parent[neighbor] = current\n",
    "                queue.append(neighbor)"
   ]
  },
  {
   "cell_type": "code",
   "execution_count": 168,
   "metadata": {
    "collapsed": false
   },
   "outputs": [],
   "source": [
    "def AllBfsEdges(graph):\n",
    "    resX = []\n",
    "    resPath = []\n",
    "    cont = 0\n",
    "    for x in graph:\n",
    "        ends = graph.keys()[graph.keys().index(x):]\n",
    "        for y in ends:\n",
    "            bfs(graph,x,y)"
   ]
  },
  {
   "cell_type": "code",
   "execution_count": 173,
   "metadata": {
    "collapsed": false
   },
   "outputs": [],
   "source": [
    "def AllBfsNPEdges(graph):\n",
    "    resX = []\n",
    "    resPath = []\n",
    "    cont = 0\n",
    "    for x in graph:\n",
    "        ends = graph.keys()[graph.keys().index(x):]\n",
    "        for y in ends:\n",
    "            bfsNP(graph,x,y)"
   ]
  },
  {
   "cell_type": "code",
   "execution_count": 121,
   "metadata": {
    "collapsed": false
   },
   "outputs": [
    {
     "name": "stdout",
     "output_type": "stream",
     "text": [
      "Saltos tomados como 'pesos'\n",
      "Desde A a A saltos: 0 --> ['A']\n",
      "Desde A a C saltos: 2 --> ['A', 'B', 'C']\n",
      "Desde A a B saltos: 1 --> ['A', 'B']\n",
      "Desde A a E saltos: 1 --> ['A', 'E']\n",
      "Desde A a D saltos: 1 --> ['A', 'D']\n",
      "Desde C a C saltos: 0 --> ['C']\n",
      "Desde C a B saltos: 1 --> ['C', 'B']\n",
      "Desde C a E saltos: 2 --> ['C', 'D', 'E']\n",
      "Desde C a D saltos: 1 --> ['C', 'D']\n",
      "Desde B a B saltos: 0 --> ['B']\n",
      "Desde B a E saltos: 2 --> ['B', 'A', 'E']\n",
      "Desde B a D saltos: 1 --> ['B', 'D']\n",
      "Desde E a E saltos: 0 --> ['E']\n",
      "Desde E a D saltos: 1 --> ['E', 'D']\n",
      "Desde D a D saltos: 0 --> ['D']\n"
     ]
    },
    {
     "data": {
      "image/png": "[encoded data removed]",
      "text/plain": [
       "<matplotlib.figure.Figure at 0x4ae8e80>"
      ]
     },
     "metadata": {},
     "output_type": "display_data"
    }
   ],
   "source": [
    "g = randomGraph(5, 7, 1, 5)\n",
    "gB = convertBidirectional(g)\n",
    "print \"Saltos tomados como 'pesos'\"\n",
    "AllBfsEdges(g)\n",
    "plotGraph(gB)"
   ]
  },
  {
   "cell_type": "code",
   "execution_count": 169,
   "metadata": {
    "collapsed": false
   },
   "outputs": [],
   "source": [
    "def BellmanFordEdges(G,start):\n",
    "    \n",
    "    D = {} # dictionary of final distances\n",
    "    for v in G:\n",
    "        D[v] = float('inf')\n",
    "    D[start] = 0\n",
    "    \n",
    "    P = {} # dictionary of predecessors\n",
    "    \n",
    "    for i in range(len(G)-1):\n",
    "        for u in G:\n",
    "            for v in G[u]:   \n",
    "                newDv = D[u] + 1\n",
    "                if newDv < D[v]:\n",
    "                    P[v] = u\n",
    "                    D[v] = newDv\n",
    "    \n",
    "    for u in G:\n",
    "        for v in G[u]:   \n",
    "            newDv = D[u] + 1\n",
    "            if newDv < D[v]: print(\"Negative cicle\",u,v)\n",
    "                \n",
    "    return D,P"
   ]
  },
  {
   "cell_type": "code",
   "execution_count": 170,
   "metadata": {
    "collapsed": false
   },
   "outputs": [],
   "source": [
    "def AllBellamnFordEdges(graph):\n",
    "    resX = []\n",
    "    resPath = []\n",
    "    for x in graph:\n",
    "        path = BellmanFordEdges(graph,x)\n",
    "        resX.append(x)\n",
    "        resPath.append(path)\n",
    "    return dict(zip(resX, resPath))"
   ]
  },
  {
   "cell_type": "markdown",
   "metadata": {},
   "source": [
    "Grafo Direccionado"
   ]
  },
  {
   "cell_type": "code",
   "execution_count": 124,
   "metadata": {
    "collapsed": false
   },
   "outputs": [
    {
     "name": "stdout",
     "output_type": "stream",
     "text": [
      "Saltos tomados como 'pesos'\n",
      "Pesos Desde A {'A': 0, 'C': 2, 'B': 1, 'E': 1, 'D': 1}\n",
      "Ruta desde A {'C': 'B', 'B': 'A', 'E': 'A', 'D': 'A'}\n",
      "Pesos Desde C {'A': 2, 'C': 0, 'B': 1, 'E': 2, 'D': 1}\n",
      "Ruta desde C {'A': 'B', 'B': 'C', 'E': 'D', 'D': 'C'}\n",
      "Pesos Desde B {'A': 1, 'C': 1, 'B': 0, 'E': 2, 'D': 1}\n",
      "Ruta desde B {'A': 'B', 'C': 'B', 'E': 'D', 'D': 'B'}\n",
      "Pesos Desde E {'A': 1, 'C': 2, 'B': 2, 'E': 0, 'D': 1}\n",
      "Ruta desde E {'A': 'E', 'C': 'D', 'B': 'D', 'D': 'E'}\n",
      "Pesos Desde D {'A': 1, 'C': 1, 'B': 1, 'E': 1, 'D': 0}\n",
      "Ruta desde D {'A': 'D', 'C': 'D', 'B': 'D', 'E': 'D'}\n"
     ]
    },
    {
     "data": {
      "image/png": "[encoded data removed]",
      "text/plain": [
       "<matplotlib.figure.Figure at 0xa0aac50>"
      ]
     },
     "metadata": {},
     "output_type": "display_data"
    }
   ],
   "source": [
    "gB = AllBellamnFordEdges(g)\n",
    "print \"Saltos tomados como 'pesos'\"\n",
    "graphToText(gB)\n",
    "plotGraph(g)"
   ]
  },
  {
   "cell_type": "markdown",
   "metadata": {},
   "source": [
    "Grafo Bidireccional"
   ]
  },
  {
   "cell_type": "code",
   "execution_count": 130,
   "metadata": {
    "collapsed": false
   },
   "outputs": [
    {
     "name": "stdout",
     "output_type": "stream",
     "text": [
      "Saltos tomados como 'pesos'\n",
      "Pesos Desde A {'A': 0, 'C': 2, 'B': 1, 'E': 1, 'D': 1}\n",
      "Ruta desde A {'C': 'B', 'B': 'A', 'E': 'A', 'D': 'A'}\n",
      "Pesos Desde C {'A': 2, 'C': 0, 'B': 1, 'E': 2, 'D': 1}\n",
      "Ruta desde C {'A': 'B', 'B': 'C', 'E': 'D', 'D': 'C'}\n",
      "Pesos Desde B {'A': 1, 'C': 1, 'B': 0, 'E': 2, 'D': 1}\n",
      "Ruta desde B {'A': 'B', 'C': 'B', 'E': 'D', 'D': 'B'}\n",
      "Pesos Desde E {'A': 1, 'C': 2, 'B': 2, 'E': 0, 'D': 1}\n",
      "Ruta desde E {'A': 'E', 'C': 'D', 'B': 'D', 'D': 'E'}\n",
      "Pesos Desde D {'A': 1, 'C': 1, 'B': 1, 'E': 1, 'D': 0}\n",
      "Ruta desde D {'A': 'D', 'C': 'D', 'B': 'D', 'E': 'D'}\n"
     ]
    },
    {
     "data": {
      "image/png": "[encoded data removed]",
      "text/plain": [
       "<matplotlib.figure.Figure at 0xa44c198>"
      ]
     },
     "metadata": {},
     "output_type": "display_data"
    }
   ],
   "source": [
    "g = convertBidirectional(g)\n",
    "gB = AllBellamnFordEdges(g)\n",
    "print \"Saltos tomados como 'pesos'\"\n",
    "graphToText(gB)\n",
    "plotGraph(g)"
   ]
  },
  {
   "cell_type": "markdown",
   "metadata": {
    "collapsed": false
   },
   "source": [
    "# Punto 5"
   ]
  },
  {
   "cell_type": "code",
   "execution_count": 176,
   "metadata": {
    "collapsed": true
   },
   "outputs": [],
   "source": [
    "def exper_graph(n):\n",
    "    timeDijsktra = []\n",
    "    timeBellman = []\n",
    "    timeFloyd = []\n",
    "    timeBfs = []\n",
    "    for i in range(1,n+1):\n",
    "        e = (i*(i-1)/2)-(i*30/100)\n",
    "        graph = convertBidirectional(randomGraph(i, e, 1, 5))\n",
    "        \n",
    "        tic = time.clock()\n",
    "        AllDijkstra(graph)\n",
    "        toc = time.clock()\n",
    "        timeDijsktra.append(toc - tic)\n",
    "        \n",
    "        tic = time.clock()\n",
    "        AllBellamnFord(graph)\n",
    "        toc = time.clock()\n",
    "        timeBellman.append(toc - tic)\n",
    "        \n",
    "        tic = time.clock()\n",
    "        FloydWarshall(graphToMatrix(graph))\n",
    "        toc = time.clock()\n",
    "        timeFloyd.append(toc - tic)\n",
    "        \n",
    "        tic = time.clock()\n",
    "        AllBfsNPEdges(graph)\n",
    "        toc = time.clock()\n",
    "        timeBfs.append(toc - tic)\n",
    "        \n",
    "        \n",
    "    results = [timeDijsktra, timeBellman, timeFloyd, timeBfs]\n",
    "    \n",
    "    return results"
   ]
  },
  {
   "cell_type": "code",
   "execution_count": 179,
   "metadata": {
    "collapsed": false
   },
   "outputs": [
    {
     "data": {
      "text/plain": [
       "[<matplotlib.lines.Line2D at 0xb774208>,\n",
       " <matplotlib.lines.Line2D at 0xb7745f8>,\n",
       " <matplotlib.lines.Line2D at 0xa44c630>,\n",
       " <matplotlib.lines.Line2D at 0xa44cc18>]"
      ]
     },
     "execution_count": 179,
     "metadata": {},
     "output_type": "execute_result"
    },
    {
     "data": {
      "image/png": "[encoded data removed]",
      "text/plain": [
       "<matplotlib.figure.Figure at 0x9c8a9e8>"
      ]
     },
     "metadata": {},
     "output_type": "display_data"
    }
   ],
   "source": [
    "plt.clf()\n",
    "x = np.arange(50)\n",
    "res = exper_graph(50)\n",
    "D = np.array(res[0])            #-> Arreglo con los tiempos de Dijkstra (Negro)\n",
    "B = np.array(res[1])            #-> Arreglo con los tiempos de Bellman Ford (Rojo)\n",
    "F = np.array(res[2])            #-> Arreglo con los tiempos de Floyd Warshall (Azul)\n",
    "Bf = np.array(res[3])            #-> Arreglo con los tiempos de BFS (Verde)\n",
    "\n",
    "plt.plot(x, D, 'k', B, 'r', F, 'b', Bf, 'g')"
   ]
  },
  {
   "cell_type": "markdown",
   "metadata": {
    "collapsed": false
   },
   "source": [
    "# Punto 6"
   ]
  },
  {
   "cell_type": "code",
   "execution_count": 180,
   "metadata": {
    "collapsed": false
   },
   "outputs": [],
   "source": [
    "def exper_graph(n):\n",
    "    timeDijsktra = []\n",
    "    timeBellman = []\n",
    "    timeFloyd = []\n",
    "    timeBfs = []\n",
    "    for i in range(1,n+1):\n",
    "        e = (i*(i-1)/2)-((i*(i-1)/2)*60/100)\n",
    "        graph = convertBidirectional(randomGraph(i, e, 1, 5))\n",
    "        \n",
    "        tic = time.clock()\n",
    "        AllDijkstra(graph)\n",
    "        toc = time.clock()\n",
    "        timeDijsktra.append(toc - tic)\n",
    "        \n",
    "        tic = time.clock()\n",
    "        AllBellamnFord(graph)\n",
    "        toc = time.clock()\n",
    "        timeBellman.append(toc - tic)\n",
    "        \n",
    "        tic = time.clock()\n",
    "        FloydWarshall(graphToMatrix(graph))\n",
    "        toc = time.clock()\n",
    "        timeFloyd.append(toc - tic)\n",
    "        \n",
    "        tic = time.clock()\n",
    "        AllBfsNPEdges(graph)\n",
    "        toc = time.clock()\n",
    "        timeBfs.append(toc - tic)\n",
    "        \n",
    "        \n",
    "    results = [timeDijsktra, timeBellman, timeFloyd, timeBfs]\n",
    "    \n",
    "    return results"
   ]
  },
  {
   "cell_type": "code",
   "execution_count": 182,
   "metadata": {
    "collapsed": false
   },
   "outputs": [
    {
     "data": {
      "text/plain": [
       "[<matplotlib.lines.Line2D at 0xa579da0>,\n",
       " <matplotlib.lines.Line2D at 0xa579e48>,\n",
       " <matplotlib.lines.Line2D at 0xa57f550>,\n",
       " <matplotlib.lines.Line2D at 0xa57f9b0>]"
      ]
     },
     "execution_count": 182,
     "metadata": {},
     "output_type": "execute_result"
    },
    {
     "data": {
      "image/png": "[encoded data removed]",
      "text/plain": [
       "<matplotlib.figure.Figure at 0x9f85f98>"
      ]
     },
     "metadata": {},
     "output_type": "display_data"
    }
   ],
   "source": [
    "plt.clf()\n",
    "x = np.arange(50)\n",
    "res = exper_graph(50)\n",
    "D = np.array(res[0])            #-> Arreglo con los tiempos de Dijkstra (Negro)\n",
    "B = np.array(res[1])            #-> Arreglo con los tiempos de Bellman Ford (Rojo)\n",
    "F = np.array(res[2])            #-> Arreglo con los tiempos de Floyd Warshall (Azul)\n",
    "Bf = np.array(res[3])            #-> Arreglo con los tiempos de BFS (Verde)\n",
    "\n",
    "plt.plot(x, D, 'k', B, 'r', F, 'b', Bf, 'g')"
   ]
  }
 ],
 "metadata": {
  "anaconda-cloud": {},
  "kernelspec": {
   "display_name": "Python 2",
   "language": "python",
   "name": "python2"
  },
  "language_info": {
   "codemirror_mode": {
    "name": "ipython",
    "version": 2
   },
   "file_extension": ".py",
   "mimetype": "text/x-python",
   "name": "python",
   "nbconvert_exporter": "python",
   "pygments_lexer": "ipython2",
   "version": "2.7.13"
  }
 },
 "nbformat": 4,
 "nbformat_minor": 0
}
