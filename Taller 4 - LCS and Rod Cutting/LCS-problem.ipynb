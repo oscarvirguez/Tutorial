{
 "cells": [
  {
   "cell_type": "markdown",
   "metadata": {
    "slideshow": {
     "slide_type": "slide"
    }
   },
   "source": [
    "<h1> Problema de la Subsecuencia Común más Larga (SCL)</h1>"
   ]
  },
  {
   "cell_type": "markdown",
   "metadata": {
    "slideshow": {
     "slide_type": "slide"
    }
   },
   "source": [
    "<b>El problema:</b>\n",
    "\n",
    "Dadas dos secuencias $X[1..m]$ y $Y[1..n]$, encuentré la subsecuencia más larga que es comun tanto a la secuencia $X$ como a $Y$.\n",
    "\n",
    "<b> Ejemplo: </b>\n",
    "\n",
    "$X = ABCBDAB$\n",
    "\n",
    "$Y = BDCABA$"
   ]
  },
  {
   "cell_type": "code",
   "execution_count": null,
   "metadata": {
    "collapsed": true
   },
   "outputs": [],
   "source": []
  },
  {
   "cell_type": "markdown",
   "metadata": {},
   "source": [
    "<h2>Un primer enfoque:</h2>\n",
    "\n",
    "Verificar cada subsecuencia de $X[1..m]$ para ver si es también una subsecuencia de $Y[1..n]$\n",
    "\n",
    "El procedimiento verificar toma una subsecuencia $subx$ y recorre en orden cada posición en $Y$ buscando coincidencias"
   ]
  },
  {
   "cell_type": "code",
   "execution_count": 15,
   "metadata": {
    "collapsed": false
   },
   "outputs": [],
   "source": [
    "#Procedimiento verificar\n",
    "def verificar(subx, Y):\n",
    "    idx_subx = 0; tam_subx = 0;\n",
    "    if len(subx)>len(Y): return 0\n",
    "    for i in Y:\n",
    "        if subx[idx_subx] == i:\n",
    "            idx_subx+=1\n",
    "        if idx_subx == len(subx):\n",
    "            return 1\n",
    "    else:\n",
    "        return 0"
   ]
  },
  {
   "cell_type": "code",
   "execution_count": 16,
   "metadata": {
    "collapsed": false
   },
   "outputs": [
    {
     "data": {
      "text/plain": [
       "0"
      ]
     },
     "execution_count": 16,
     "metadata": {},
     "output_type": "execute_result"
    }
   ],
   "source": [
    "verificar('arc','adbdc')"
   ]
  },
  {
   "cell_type": "code",
   "execution_count": 17,
   "metadata": {
    "collapsed": false
   },
   "outputs": [],
   "source": [
    "import itertools\n",
    "\n",
    "def lcs1(X,Y):\n",
    "    #lst = list(itertools.product([0, 1], repeat=len(X)))\n",
    "    lgst = ''\n",
    "    for i in range(1,len(X)):\n",
    "        for j in list(itertools.combinations(X, i)):\n",
    "            if verificar(j,Y) == 1:\n",
    "                lgst = j\n",
    "    return ''.join(lgst)"
   ]
  },
  {
   "cell_type": "code",
   "execution_count": 18,
   "metadata": {
    "collapsed": false
   },
   "outputs": [
    {
     "data": {
      "text/plain": [
       "'BDAB'"
      ]
     },
     "execution_count": 18,
     "metadata": {},
     "output_type": "execute_result"
    }
   ],
   "source": [
    "lcs1('ABCBDAB','BDCABA')"
   ]
  },
  {
   "cell_type": "code",
   "execution_count": 19,
   "metadata": {
    "collapsed": true
   },
   "outputs": [],
   "source": [
    "#Análisis"
   ]
  },
  {
   "cell_type": "markdown",
   "metadata": {},
   "source": [
    "<h2>¿Por qué hacerlo mejor?</h2>"
   ]
  },
  {
   "cell_type": "markdown",
   "metadata": {},
   "source": [
    " <ul>\n",
    "  <li><a href=\"https://www.genome.gov/11006943/\">¿Que tan grande es el genoma humano?</a></li>\n",
    "  <li>El crecimiento exponencial hace parecer diminuto el cambio tecnológico. </li>\n",
    "  <li>Supongamos un gigantesco computador en paralelo con tantos procesadores como atomos tiene el universo y cada procesador tiene la potencia de un supercomputador y cada procesador trabaja la vida del universo</li>\n",
    "</ul> \n",
    "\n",
    " <table style=\"width:100%\">\n",
    "  \n",
    "  <tr>\n",
    "    <td><a href=\"https://en.wikipedia.org/wiki/Observable_universe#Matter_content_.E2.80.93_number_of_atoms\">Electrones en el universo</a></td>\n",
    "    <td>$10^{80}$</td>\n",
    "  </tr>\n",
    "  <tr>\n",
    "    <td><a href=\"https://en.wikipedia.org/wiki/Supercomputer\">FLOPS del más rápido supercomputador a junio de 2016</a></td>\n",
    "    <td>$10^{16}$</td>    \n",
    "  </tr>\n",
    "  <tr>\n",
    "    <td><a href=\"http://www.space.com/24054-how-old-is-the-universe.html\">Edad del universo en segundos</a></td>\n",
    "    <td>$10^{17}$</td>\n",
    "    \n",
    "  </tr>\n",
    "</table> \n",
    "\n",
    "\n",
    "Aún con este computador con capacidad irreal, resolver un problema donde una de las cadenas es de tamaño 1000 tomaría más de $3.4 x 10^{180}$ años.\n",
    "\n",
    "$$2^{1000} >> 10^{80}\\times 10^{16} \\times 10^{17}$$\n"
   ]
  },
  {
   "cell_type": "code",
   "execution_count": 20,
   "metadata": {
    "collapsed": false
   },
   "outputs": [
    {
     "data": {
      "text/plain": [
       "3397731504268985670181459440195338059872541894043422144354865513604613936849746710087513885133485090460409287536634788258457462219978164775489782335964794141278084657161412666609929L"
      ]
     },
     "execution_count": 20,
     "metadata": {},
     "output_type": "execute_result"
    }
   ],
   "source": [
    "(2**1000/10**113)/(365*24*3600)"
   ]
  },
  {
   "cell_type": "markdown",
   "metadata": {},
   "source": [
    "<h2>¿Cómo podemos hacerlo mejor?</h2>\n",
    "\n",
    "Simplificación:\n",
    "\n",
    " <ol type=\"I\">\n",
    "  <li>Encontrar la longitud de la subsecuencia común más larga $|SCL(x,y)|$ (Notación funcional)</li>\n",
    "  <li>Extender el algoritmo para encontrar SCL</li>\n",
    "</ol> \n",
    "\n",
    "Estrategía para encontrar la longitud de la subsecuencia común más larga $|SCL(x,y)|:\n",
    "\n",
    " <ul>\n",
    "  <li>Considere prefijos de X y Y</li>\n",
    "  <li>Definimos $c[i,j] = |SCL(X[1..i],Y[1..j])|$</li>\n",
    "  <li>Entonces $c[m,n]=|SCL(X,Y)|$</li>\n",
    "</ul> \n",
    "\n",
    "<i>Si $Z = SCL(X,Y)$ entonces algún prefijo de $Z$ es una SCL de un prefijo de $X$ y un prefijo de $Y$</i>\n",
    "\n",
    "<b>Subestructura óptima</b> <i>La solución óptima a un problema contiene las soluciones óptimas de los subproblemas</i>\n",
    "\n",
    "\n",
    "Teorema:\n",
    "$$\n",
    "c[i,j]= \n",
    "\\begin{cases}\n",
    "    c[i-1,j-1]+1,& \\text{si } X[i] = Y[j]\\\\\n",
    "    \\max\\{c[i,j-1],c[i-1,j] \\},              & \\text{dlc}\n",
    "\\end{cases}\n",
    "$$"
   ]
  },
  {
   "cell_type": "code",
   "execution_count": 21,
   "metadata": {
    "collapsed": true
   },
   "outputs": [],
   "source": [
    "def lcs2(x,y,i,j):\n",
    "    if i == 0 or j == 0:\n",
    "        return 0\n",
    "    if x[i-1]==y[j-1]:\n",
    "        return lcs2(x,y,i-1,j-1)+1\n",
    "    else:\n",
    "        return max(lcs2(x,y,i-1,j),lcs2(x,y,i,j-1))"
   ]
  },
  {
   "cell_type": "code",
   "execution_count": 22,
   "metadata": {
    "collapsed": false
   },
   "outputs": [
    {
     "data": {
      "text/plain": [
       "3"
      ]
     },
     "execution_count": 22,
     "metadata": {},
     "output_type": "execute_result"
    }
   ],
   "source": [
    "lcs2('ABC','AWBDC',3,5)"
   ]
  },
  {
   "cell_type": "code",
   "execution_count": 23,
   "metadata": {
    "collapsed": true
   },
   "outputs": [],
   "source": [
    "#Análisis"
   ]
  },
  {
   "cell_type": "markdown",
   "metadata": {},
   "source": [
    "<b>Sobreposición de los subproblemas</b><i>Una solución recursiva contiene una cantidad de distintos subproblemas repetidos varias veces</i>\n",
    "\n",
    "El espacio de subproblemas de SCL contiene $m\\times n$ distintos subproblemas.\n",
    "\n",
    "<h2>¿Cómo podemos hacerlo mejor?</h2>\n",
    "\n",
    "Memorizar las soluciones a los subproblemas"
   ]
  },
  {
   "cell_type": "code",
   "execution_count": 24,
   "metadata": {
    "collapsed": false
   },
   "outputs": [],
   "source": [
    "import numpy as np\n",
    "\n",
    "global C\n",
    "\n",
    "def lcs(X,Y):\n",
    "    global C\n",
    "    C = np.ones((len(X)+1,len(Y)+1))*-1\n",
    "    lcs3(X,Y,len(X),len(Y))\n",
    "    return C[len(X),len(Y)], C\n",
    "    \n",
    "\n",
    "def lcs3(x,y,i,j):\n",
    "    global C\n",
    "    if C[i,j] == -1:\n",
    "        if i == 0 or j == 0:\n",
    "            C[i,j] = 0\n",
    "        else:\n",
    "            if x[i-1]==y[j-1]:\n",
    "                C[i,j] = lcs3(x,y,i-1,j-1)+1\n",
    "            else:\n",
    "                C[i,j] = max(lcs3(x,y,i-1,j),lcs3(x,y,i,j-1))\n",
    "                \n",
    "    return C[i,j]"
   ]
  },
  {
   "cell_type": "code",
   "execution_count": 25,
   "metadata": {
    "collapsed": false
   },
   "outputs": [],
   "source": [
    "len_lcs, lcs_mat = lcs('ABC','AWBDC')"
   ]
  },
  {
   "cell_type": "code",
   "execution_count": 26,
   "metadata": {
    "collapsed": false
   },
   "outputs": [
    {
     "name": "stdout",
     "output_type": "stream",
     "text": [
      "[[ 0. -1.  0.  0.  0. -1.]\n",
      " [-1.  1.  1.  1.  1. -1.]\n",
      " [-1. -1. -1.  2.  2. -1.]\n",
      " [-1. -1. -1. -1. -1.  3.]]\n"
     ]
    }
   ],
   "source": [
    "print lcs_mat"
   ]
  },
  {
   "cell_type": "markdown",
   "metadata": {},
   "source": [
    "# Punto 1\n",
    "Implemente un método que retorne la subsecuencia común más larga (SCL) apartir de la matriz C construida por el algoritmo de PD que calcula la longitud de la SCL."
   ]
  },
  {
   "cell_type": "code",
   "execution_count": 27,
   "metadata": {
    "collapsed": true
   },
   "outputs": [],
   "source": [
    "def LCSletters(C, X, Y):\n",
    "    cont = 1\n",
    "    res = []  \n",
    "    for i in xrange(1, len(X)+1):\n",
    "        for j in xrange(1, len(Y)+1):\n",
    "            if (C[i,j] == cont):\n",
    "                res.append(X[i-1])\n",
    "                cont+=1\n",
    "    return res"
   ]
  },
  {
   "cell_type": "code",
   "execution_count": 28,
   "metadata": {
    "collapsed": false
   },
   "outputs": [
    {
     "name": "stdout",
     "output_type": "stream",
     "text": [
      "['A', 'B', 'C']\n"
     ]
    }
   ],
   "source": [
    "c1 = 'ABC'\n",
    "c2 = 'AWBDC'\n",
    "print LCSletters(lcs(c1, c2)[1], c1, c2)"
   ]
  },
  {
   "cell_type": "code",
   "execution_count": 14,
   "metadata": {
    "collapsed": true
   },
   "outputs": [],
   "source": [
    "#Análisis"
   ]
  },
  {
   "cell_type": "markdown",
   "metadata": {},
   "source": [
    "<h3>¿Cómo reconstruir la subsecuencia común más larga?</h3>"
   ]
  },
  {
   "cell_type": "markdown",
   "metadata": {},
   "source": [
    "<h2>Comparemos los algoritmos</h2>"
   ]
  },
  {
   "cell_type": "code",
   "execution_count": 2,
   "metadata": {
    "collapsed": true
   },
   "outputs": [],
   "source": [
    "%matplotlib inline\n",
    "\n",
    "import matplotlib\n",
    "import numpy as np\n",
    "import matplotlib.pyplot as plt\n",
    "import matplotlib.image as mpimg\n",
    "import lcs\n",
    "import time"
   ]
  },
  {
   "cell_type": "code",
   "execution_count": 12,
   "metadata": {
    "collapsed": false
   },
   "outputs": [],
   "source": [
    "alph = r'AGTC'\n",
    "lst_lcs1 = []\n",
    "lst_lcs2 = []\n",
    "lst_lcs3 = []\n",
    "for i in range(2,100,10):\n",
    "    X = lcs.id_generator(i, 'AGTC')\n",
    "    Y = lcs.id_generator(i, 'AGTC')\n",
    "    tic = time.clock()#get start time\n",
    "    A = lcs.lcs1(X,Y)\n",
    "    toc = time.clock()#get final time\n",
    "    lst_lcs1.append(toc - tic) \n",
    "    tic = time.clock()#get start time\n",
    "    b = lcs.lcs2(X,Y,len(X),len(Y))\n",
    "    toc = time.clock()#get final time\n",
    "    lst_lcs2.append(toc - tic) \n",
    "    tic = time.clock()#get start time\n",
    "    clen, cmat = lcs.lcs(X,Y)\n",
    "    toc = time.clock()#get final time\n",
    "    lst_lcs3.append(toc - tic)"
   ]
  },
  {
   "cell_type": "code",
   "execution_count": 68,
   "metadata": {
    "collapsed": false
   },
   "outputs": [
    {
     "data": {
      "image/png": "[encoded data removed]",
      "text/plain": [
       "<matplotlib.figure.Figure at 0x7f5c50969190>"
      ]
     },
     "metadata": {},
     "output_type": "display_data"
    }
   ],
   "source": [
    "f, axarr = plt.subplots(3, 2)\n",
    "axarr[0,0].plot(range(2,30,10),lst_lcs1,'-ob',label='lcs1')\n",
    "axarr[0,0].legend(loc=2)\n",
    "axarr[0,1].plot(range(2,30,10),np.array(range(2,30,10))*2.**np.array(range(2,30,10)),'--b',label=r'$n2^m$')\n",
    "axarr[0,1].legend(loc=2)\n",
    "axarr[1,0].plot(range(2,30,10),lst_lcs2,'-og',label='lcs2')\n",
    "axarr[1,0].legend(loc=2)\n",
    "axarr[1,1].plot(range(2,30,10),np.array(range(2,30,10))*2.**(2*np.array(range(2,30,10))),'--g',label='$2^{n+m}$')\n",
    "axarr[1,1].legend(loc=2)\n",
    "axarr[2,0].plot(range(2,100,10),lst_lcs3,'-or',label='lcs3')\n",
    "axarr[2,0].legend(loc=2)\n",
    "axarr[2,1].plot(range(2,100,10),np.array(range(2,100,10))**2,'--r',label='nm')\n",
    "axarr[2,1].legend(loc=2)\n",
    "f.set_size_inches(12,9)\n",
    "f.tight_layout()"
   ]
  }
 ],
 "metadata": {
  "kernelspec": {
   "display_name": "Python 2",
   "language": "python",
   "name": "python2"
  },
  "language_info": {
   "codemirror_mode": {
    "name": "ipython",
    "version": 2
   },
   "file_extension": ".py",
   "mimetype": "text/x-python",
   "name": "python",
   "nbconvert_exporter": "python",
   "pygments_lexer": "ipython2",
   "version": "2.7.13"
  }
 },
 "nbformat": 4,
 "nbformat_minor": 0
}
