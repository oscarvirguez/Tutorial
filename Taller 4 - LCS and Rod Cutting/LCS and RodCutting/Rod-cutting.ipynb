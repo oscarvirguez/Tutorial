{
 "cells": [
  {
   "cell_type": "code",
   "execution_count": 1,
   "metadata": {
    "collapsed": true
   },
   "outputs": [],
   "source": [
    "import math\n",
    "import numpy as np\n",
    "import pylab as pl\n",
    "%matplotlib inline"
   ]
  },
  {
   "cell_type": "code",
   "execution_count": 2,
   "metadata": {
    "collapsed": true
   },
   "outputs": [],
   "source": [
    "#![title](images/pre-image.png)(Honeine and Richard,2011)"
   ]
  },
  {
   "cell_type": "markdown",
   "metadata": {},
   "source": [
    "<h2>Subestructura óptima</h2>\n",
    "Recompensa:\n",
    "$$r_i = \\max_{1\\leq i\\leq n}(p_i+r_{n-i})$$"
   ]
  },
  {
   "cell_type": "markdown",
   "metadata": {},
   "source": [
    "Implementación simple de arriba hacia abajo (top-down)"
   ]
  },
  {
   "cell_type": "code",
   "execution_count": 3,
   "metadata": {
    "collapsed": false
   },
   "outputs": [],
   "source": [
    "def cut_rodR(p, n):\n",
    "    if n==0:\n",
    "        return 0\n",
    "    q = float('-inf')\n",
    "    for i in range(n):\n",
    "        #print i\n",
    "        q = max(q, p[i] + cut_rodR(p, n-1-i))\n",
    "    return q"
   ]
  },
  {
   "cell_type": "code",
   "execution_count": 4,
   "metadata": {
    "collapsed": true
   },
   "outputs": [],
   "source": [
    "p = [1,5,8,9,10,17,17,20,24,30]"
   ]
  },
  {
   "cell_type": "code",
   "execution_count": 5,
   "metadata": {
    "collapsed": false
   },
   "outputs": [
    {
     "name": "stdout",
     "output_type": "stream",
     "text": [
      "22\n"
     ]
    }
   ],
   "source": [
    "sol = cut_rodR(p,8)\n",
    "print sol"
   ]
  },
  {
   "cell_type": "markdown",
   "metadata": {},
   "source": [
    "$$T(n) = 2^n$$"
   ]
  },
  {
   "cell_type": "markdown",
   "metadata": {
    "collapsed": true
   },
   "source": [
    "Implementación de arriba hacia abajo con memorización (memoization)"
   ]
  },
  {
   "cell_type": "code",
   "execution_count": 6,
   "metadata": {
    "collapsed": false
   },
   "outputs": [],
   "source": [
    "def memo_cut_rodTD(p, n):\n",
    "    r = [-1] * (n+1)\n",
    "    return memo_cut_rodTD_aux(p,n,r)\n",
    "\n",
    "def memo_cut_rodTD_aux(p,n,r):\n",
    "    if r[n] >= 0:\n",
    "        return r[n]\n",
    "    if n == 0:\n",
    "        q = 0\n",
    "    else:\n",
    "        q = float('-inf')\n",
    "        for i in range(1,n+1):\n",
    "            q = max(q, p[i-1]+memo_cut_rodTD_aux(p,n-i,r))\n",
    "\n",
    "    r[n]=q\n",
    "    return q"
   ]
  },
  {
   "cell_type": "code",
   "execution_count": 7,
   "metadata": {
    "collapsed": false
   },
   "outputs": [
    {
     "name": "stdout",
     "output_type": "stream",
     "text": [
      "30\n"
     ]
    }
   ],
   "source": [
    "sol = memo_cut_rodTD(p,10)\n",
    "print sol"
   ]
  },
  {
   "cell_type": "markdown",
   "metadata": {},
   "source": [
    "Implementación abajo hacia arriba (bottom-up) con memorización"
   ]
  },
  {
   "cell_type": "code",
   "execution_count": 8,
   "metadata": {
    "collapsed": false
   },
   "outputs": [],
   "source": [
    "def memo_cut_rodBU(p,n):\n",
    "    r = [0] * (n+1)\n",
    "    r[0] = 0\n",
    "    for j in range(1,n+1):\n",
    "        q = float('-inf')\n",
    "        for i in range(1,j+1):            \n",
    "            q = max(q, p[i-1]+r[j-i])\n",
    "        r[j] = q\n",
    "    return r[n]"
   ]
  },
  {
   "cell_type": "code",
   "execution_count": 9,
   "metadata": {
    "collapsed": false,
    "scrolled": false
   },
   "outputs": [
    {
     "name": "stdout",
     "output_type": "stream",
     "text": [
      "57\n"
     ]
    }
   ],
   "source": [
    "p = [1,5,8,9,10,17,17,20,24,2,31,35,38,39,40,47,47,50,54,2]\n",
    "sol = memo_cut_rodBU(p,20)\n",
    "print sol"
   ]
  },
  {
   "cell_type": "markdown",
   "metadata": {},
   "source": [
    "# Punto 2\n",
    "\n",
    "Para el problema del corte de la barilla (Notebook):"
   ]
  },
  {
   "cell_type": "markdown",
   "metadata": {},
   "source": [
    "1 ) Implemente un método para determinar los cortes que se deben realizar a partir de la solución de PD que encuentra el valor de la solución óptima."
   ]
  },
  {
   "cell_type": "code",
   "execution_count": 10,
   "metadata": {
    "collapsed": true
   },
   "outputs": [],
   "source": [
    "import math\n",
    "import numpy as np\n",
    "import matplotlib.pyplot as pl\n",
    "import time\n",
    "import random as rnd\n",
    "%matplotlib inline"
   ]
  },
  {
   "cell_type": "code",
   "execution_count": 11,
   "metadata": {
    "collapsed": false
   },
   "outputs": [],
   "source": [
    "def memo_cut_rodCutsBU(p,n):\n",
    "    r = [0] * (n+1)\n",
    "    r[0] = 0\n",
    "    c = [-1] * (n+1)\n",
    "    c[0] = -1\n",
    "    for j in range(1,n+1):\n",
    "        q = float('-inf')\n",
    "        for i in range(1,j+1):\n",
    "            p1 = i-1\n",
    "            p2 = j-i\n",
    "            temp = p[p1]+r[p2]\n",
    "            if (q < temp):\n",
    "                listC = []\n",
    "                listC.append(p1+1)\n",
    "                if(c[p2] != -1):\n",
    "                    listC = listC + c[p2]\n",
    "                q = temp\n",
    "        r[j] = q\n",
    "        c[j] = listC  \n",
    "    return r[n], c[n]"
   ]
  },
  {
   "cell_type": "code",
   "execution_count": 12,
   "metadata": {
    "collapsed": false
   },
   "outputs": [
    {
     "name": "stdout",
     "output_type": "stream",
     "text": [
      "Se deben hacer los siguientes cortes [10, 10] Para un beneficio máximo de 60\n"
     ]
    }
   ],
   "source": [
    "p = [1,5,8,9,10,17,17,20,24,30,31,35,38,39,40,47,47,50,54,60,61,65,68,69,70,77,77,80,84,90,91,95,98,99,100,107,107,110,114,120,121,125,128,129,130,137,137,140,144,150]\n",
    "n = 20\n",
    "sol, cut = memo_cut_rodCutsBU(p,n)\n",
    "print \"Se deben hacer los siguientes cortes\", cut, \"Para un beneficio máximo de\", sol"
   ]
  },
  {
   "cell_type": "markdown",
   "metadata": {},
   "source": [
    "2 ) Realice una comparación experimental sistemática de los algoritmos para diferentes valores  de p y de n."
   ]
  },
  {
   "cell_type": "code",
   "execution_count": 13,
   "metadata": {
    "collapsed": true
   },
   "outputs": [],
   "source": [
    "class Counter:\n",
    "    '''\n",
    "    Class Counter\n",
    "    Implements a step counter, which is used to compute the number of basic operations performed in\n",
    "    a particular call to a function.\n",
    "    '''\n",
    "    def __init__(self):\n",
    "        self.steps = 0\n",
    "\n",
    "    def reset(self):\n",
    "        self.steps = 0\n",
    "\n",
    "    def count(self):\n",
    "        self.steps += 1\n",
    "\n",
    "    def print_steps(self):\n",
    "        print \"Number of steps =\", self.steps"
   ]
  },
  {
   "cell_type": "code",
   "execution_count": 14,
   "metadata": {
    "collapsed": true
   },
   "outputs": [],
   "source": [
    "def cut_rodRExper(p, n, acct):\n",
    "    if n==0:\n",
    "        acct.count()\n",
    "        return 0\n",
    "    q = float('-inf'); acct.count()\n",
    "    for i in range(n):\n",
    "        acct.count()\n",
    "        #print i\n",
    "        q = max(q, p[i] + cut_rodR(p, n-1-i)); acct.count()\n",
    "    return q\n",
    "\n",
    "\n",
    "def memo_cut_rodBUExper(p,n,acct):\n",
    "    r = [0] * (n+1); acct.count()\n",
    "    r[0] = 0; acct.count()\n",
    "    for j in range(1,n+1):\n",
    "        acct.count()\n",
    "        q = float('-inf'); acct.count()\n",
    "        for i in range(1,j+1): \n",
    "            acct.count()\n",
    "            q = max(q, p[i-1]+r[j-i]); acct.count()\n",
    "        r[j] = q; acct.count()\n",
    "    return r[n]"
   ]
  },
  {
   "cell_type": "code",
   "execution_count": 15,
   "metadata": {
    "collapsed": false
   },
   "outputs": [
    {
     "name": "stdout",
     "output_type": "stream",
     "text": [
      "[[1, 3, 5, 7, 9, 11, 13, 15, 17], [3.4399999999999997e-06, 1.04e-05, 8.599999999999999e-06, 1.268e-05, 2.087999999999999e-05, 3.732e-05, 6.855999999999998e-05, 0.00021684000000000002, 0.00028816000000000003]]\n",
      "[[2, 7, 14, 23, 34, 47, 62, 79, 98], [2.643999999999997e-05, 4.380000000000009e-05, 1.2480000000000043e-05, 1.775999999999991e-05, 2.392000000000019e-05, 0.00012144, 9.196000000000009e-05, 4.888000000000006e-05, 0.00029115999999999994]]\n"
     ]
    }
   ],
   "source": [
    "def exper_cut_rodR(n):\n",
    "    steps = []\n",
    "    timeP = []\n",
    "    acct = Counter()\n",
    "    for i in range(1, n):\n",
    "        l = range(i)\n",
    "        rnd.shuffle(l)\n",
    "        acct.reset()\n",
    "        tic = time.clock()\n",
    "        cut_rodRExper(l, i-1, acct)\n",
    "        toc = time.clock()\n",
    "        timeP.append(toc - tic)\n",
    "        steps.append(acct.steps)\n",
    "        \n",
    "    results = [steps, timeP]\n",
    "    return results\n",
    "\n",
    "\n",
    "def exper_cut_rodBUExper(n):\n",
    "    steps = []\n",
    "    timeP = []\n",
    "    acct = Counter()\n",
    "    for i in range(1, n):\n",
    "        l = range(i)\n",
    "        rnd.shuffle(l)\n",
    "        acct.reset()\n",
    "        tic = time.clock()\n",
    "        memo_cut_rodBUExper(l, i-1, acct)\n",
    "        toc = time.clock()\n",
    "        timeP.append(toc - tic)\n",
    "        steps.append(acct.steps)\n",
    "        \n",
    "    results = [steps, timeP]\n",
    "    return results\n",
    "\n",
    "\n",
    "print exper_cut_rodR(10)\n",
    "print exper_cut_rodBUExper(10)"
   ]
  },
  {
   "cell_type": "code",
   "execution_count": 16,
   "metadata": {
    "collapsed": false
   },
   "outputs": [
    {
     "data": {
      "text/plain": [
       "[<matplotlib.lines.Line2D at 0x7935438>,\n",
       " <matplotlib.lines.Line2D at 0x7945d30>]"
      ]
     },
     "execution_count": 16,
     "metadata": {},
     "output_type": "execute_result"
    },
    {
     "data": {
      "image/png": "[encoded data removed]",
      "text/plain": [
       "<matplotlib.figure.Figure at 0x78450f0>"
      ]
     },
     "metadata": {},
     "output_type": "display_data"
    }
   ],
   "source": [
    "pl.figure(1)\n",
    "x = np.arange(9)\n",
    "res = exper_cut_rodR(10)\n",
    "p = np.array(res[0])                #-> Arreglo con la cantidad de procesos realizados para cada arreglo (Negro)\n",
    "t = np.array(res[1]) * 1e6      #-> Arreglo de tiempos de ejecucion en el ordenamiento de cada arreglo (Rojo)\n",
    "\n",
    "pl.subplot(211)\n",
    "pl.ylabel('cut_rod')\n",
    "pl.ylim([0, 300])\n",
    "pl.plot(x, p, 'k.', t, 'r.')\n",
    "\n",
    "\n",
    "\n",
    "x = np.arange(9)\n",
    "res = exper_cut_rodBUExper(10)\n",
    "p = np.array(res[0])                #-> Arreglo con la cantidad de procesos realizados para cada arreglo (Negro)\n",
    "t = np.array(res[1]) * 1e6          #-> Arreglo de tiempos de ejecucion en el ordenamiento de cada arreglo (Rojo)\n",
    "\n",
    "pl.subplot(212)\n",
    "pl.ylabel('cut_rodBU')\n",
    "pl.ylim([0, 300])\n",
    "pl.plot(x, p, 'k.', t, 'r.')"
   ]
  },
  {
   "cell_type": "markdown",
   "metadata": {},
   "source": [
    "# PUNTO 3\n",
    "\n",
    "Implemente, describa y analice un algoritmo de PD para calcular la distancia de edición entre dos cadenas. (Cormen, problem 15-5)"
   ]
  },
  {
   "cell_type": "markdown",
   "metadata": {
    "collapsed": true
   },
   "source": [
    "Este algoritmo tiene una complejidad de $O(n^2)$, En el, se usan tres posibles cambios a realizar, los cuales son sustictucion, cuando una letra puede ser cambiada por otra, isercion, cuando una letra debe ser añadida a la cadena y eliminacion cuando existen letras sobrantes, el algoritmo se basa en una matriz de $(n+1)$X$(m+1)$ de enteros, siendo estas las longitudes de cada palabra a comparar, la primera fila y columna son iniciadas con una secuencia de valores $1, 2, 3, 4,..., n$ y $1, 2, 3, 4,..., m$ respectivamente, despues de esto se empieza a llenar el resto de la matriz comparando caracter con caracter y sumando los costos de los 3 distintos cambios tomando en todos los casos el valor minimo, una vez la matriz ha sido completada, la distancia entre las dos palabras será la ultima casilla de la matriz."
   ]
  },
  {
   "cell_type": "code",
   "execution_count": 17,
   "metadata": {
    "collapsed": false
   },
   "outputs": [],
   "source": [
    "def distancia(c1, c2):\n",
    "    cost = 0\n",
    "    m=len(c1)\n",
    "    n=len(c2)\n",
    "    mx = np.empty((m+1, n+1), dtype=np.int)\n",
    "\n",
    "    for i in range(m+1):\n",
    "        mx[i,0] = i\n",
    "        \n",
    "    for j in range(n+1):\n",
    "        mx[0,j]=j\n",
    "        \n",
    "    for i in range(1, m+1):\n",
    "        for j in range(1, n+1):\n",
    "            if c1[i-1] == c2[j-1]:\n",
    "                cost = 0\n",
    "            else:\n",
    "                cost = 1\n",
    "            mx[i,j] = min(min(mx[i-1, j]+1, mx[i, j-1]+1), mx[i-1, j-1]+cost)\n",
    "            \n",
    "    return mx[i,j]"
   ]
  },
  {
   "cell_type": "code",
   "execution_count": 18,
   "metadata": {
    "collapsed": false
   },
   "outputs": [
    {
     "name": "stdout",
     "output_type": "stream",
     "text": [
      "1\n"
     ]
    }
   ],
   "source": [
    "c1 = \"Tarro\"\n",
    "c2 = \"Carro\"\n",
    "print distancia(c1, c2)"
   ]
  },
  {
   "cell_type": "markdown",
   "metadata": {},
   "source": [
    "# Punto 4\n",
    "En el rio atrato hay n embarcaderos, en cada uno de ellos se puede alquilar un bote para realizar un viaje rio abajo a otro embarcadero. Existe una tabla de tarifas que indica el costo del viaje del embarcadero i al j, para i, j = 1,2,...,n  (i<j), puede pasar que un viaje de i a j sea más caro que una serie de viajes sucesivos intermedios, no hay un costo asociado a cambiar de bote en algún embarcadero. El problema consiste en diseñar un algoritmo de PD que determine el costo mínimo para cada par de puntos i,j."
   ]
  },
  {
   "cell_type": "code",
   "execution_count": 19,
   "metadata": {
    "collapsed": false
   },
   "outputs": [],
   "source": [
    "def rio(src, dest, n, mat):\n",
    "    for i in range(1, n):\n",
    "        T[i,i] = 0\n",
    "    \n",
    "    for i in range(1, n+1):\n",
    "        for j in range(1, n+1):\n",
    "            T[i,j] = minim(i, j, n, mat, T)\n",
    "    \n",
    "    return T[n,n]\n",
    "\n",
    "\n",
    "def minim(src, dest, n, mat, T):\n",
    "    aux = float('inf')\n",
    "    for i in range(src+1, n+1):\n",
    "        aux = min(aux, mat[src,i] + T[i,dest])\n",
    "    \n",
    "    return aux"
   ]
  }
 ],
 "metadata": {
  "kernelspec": {
   "display_name": "Python 2",
   "language": "python",
   "name": "python2"
  },
  "language_info": {
   "codemirror_mode": {
    "name": "ipython",
    "version": 2
   },
   "file_extension": ".py",
   "mimetype": "text/x-python",
   "name": "python",
   "nbconvert_exporter": "python",
   "pygments_lexer": "ipython2",
   "version": "2.7.13"
  }
 },
 "nbformat": 4,
 "nbformat_minor": 0
}
