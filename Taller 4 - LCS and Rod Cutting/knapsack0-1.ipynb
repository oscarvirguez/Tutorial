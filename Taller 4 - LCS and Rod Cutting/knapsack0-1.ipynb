{
 "cells": [
  {
   "cell_type": "markdown",
   "metadata": {},
   "source": [
    "<h1> Problema de la mochila 0/1</h1>\n",
    "\n",
    "<ul>\n",
    "<li>Dado un conjunto N de n elementos, se debe seleccionar un subconjunto $S \\subseteq N$ de elementos para ser transportados.</li>\n",
    "<li>Cada $i$-esimo elemento tiene un valor $v_i$ y un peso $w_i$ , donde $v_i$ y $w_i$ son enteros.</li>\n",
    "<li>No se puede exceder la capacidad de carga $W$.</li>\n",
    "<li>No se puede tomar un objeto parcialmente o tomar más de una vez el mismo objeto.</li>\n",
    "<li>El objetivo es seleccionar los elementos a transportar maximizando el valor sin exceder la capacidad de carga $W$.</li>\n",
    "</ul>\n",
    "\n",
    "\n",
    "\n"
   ]
  },
  {
   "cell_type": "code",
   "execution_count": 16,
   "metadata": {
    "collapsed": true
   },
   "outputs": [],
   "source": [
    "v = [11, 6, 6]\n",
    "w = [5, 3, 3]\n",
    "W = 6"
   ]
  },
  {
   "cell_type": "markdown",
   "metadata": {},
   "source": [
    "<h2>Sub-estructura óptima</h2>\n",
    "<ul>\n",
    "<li>Considere que la carga de valor maximo tiene a lo mucho un peso $W$.</li>\n",
    "<li>Si nosotros retiramos el elemento $j$, la carga restante debe ser la de valor máximo con un peso menor o igual a $W − w_j$ que puede ser transportada de los elementos $S − \\{j\\}$</li>\n",
    "</ul>"
   ]
  },
  {
   "cell_type": "markdown",
   "metadata": {},
   "source": [
    "<h2>Solución</h2>\n",
    "<ul>\n",
    "<li>Sea i el último elemento numerado en una solución $S$ para una capacidad de carga $W$ seleccionando los elementos $1, 2, \\ldots , n$.</li>\n",
    "<li>Entonces $S' = S − \\{i\\}$ será una solución óptima al problema con una capacidad de carga $W − w_i$ y los elementos\n",
    "$1, 2, \\ldots , i − 1$</li>\n",
    "<li>El valor de la solución $S$ es $v_i$ mas el valor de la solución del subproblema $S'$</li>\n",
    "</ul>\n",
    "\n",
    "Esto se puede expresar en la siguiente recursión. Definamos $c[i, w]$ como el valor de la solución para\n",
    "$1, \\ldots , i$ y peso máximo $w$, i.e.\n",
    "\n",
    "$$\n",
    "c[i,w]= \n",
    "\\begin{cases}\n",
    "    0 & \\text{si } i = 0 \\text{ o } w = 0\\\\\n",
    "    c[i-1, w] & \\text{si } w_i > w\\\\\n",
    "    \\max\\{v_i + c[i-1,w-w_i],c[i-1,w] \\} & \\text{si } i > 0 \\text{ y } w\\geq w_i\n",
    "\\end{cases}\n",
    "$$"
   ]
  },
  {
   "cell_type": "markdown",
   "metadata": {},
   "source": [
    "<h2>Algoritmo de programación dinámica</h2>"
   ]
  },
  {
   "cell_type": "code",
   "execution_count": 40,
   "metadata": {
    "collapsed": true
   },
   "outputs": [],
   "source": [
    "import numpy as np\n",
    "\n",
    "def knapsack01(v,w,n,W):\n",
    "    c = np.ones((n+1,W+1))*-1\n",
    "    c[0,:] = [0]\n",
    "    for i in range(1,n+1):\n",
    "        c[i,0]=0\n",
    "        for wj in range(1,W+1):\n",
    "            if w[i-1] <= wj:\n",
    "                if v[i-1] + c[i-1,wj-w[i-1]] > c[i-1,wj]:\n",
    "                    c[i,wj] = v[i-1]+c[i-1,wj-w[i-1]]\n",
    "                else:\n",
    "                    c[i,wj] = c[i-1,wj]\n",
    "            else:\n",
    "                c[i,wj] = c[i-1,wj]\n",
    "    return c[n,W]\n",
    "                "
   ]
  },
  {
   "cell_type": "code",
   "execution_count": 41,
   "metadata": {
    "collapsed": false
   },
   "outputs": [
    {
     "name": "stdout",
     "output_type": "stream",
     "text": [
      "12.0\n"
     ]
    }
   ],
   "source": [
    "print knapsack01(v,w,3,W)"
   ]
  },
  {
   "cell_type": "code",
   "execution_count": null,
   "metadata": {
    "collapsed": true
   },
   "outputs": [],
   "source": []
  }
 ],
 "metadata": {
  "kernelspec": {
   "display_name": "Python 2",
   "language": "python",
   "name": "python2"
  },
  "language_info": {
   "codemirror_mode": {
    "name": "ipython",
    "version": 2
   },
   "file_extension": ".py",
   "mimetype": "text/x-python",
   "name": "python",
   "nbconvert_exporter": "python",
   "pygments_lexer": "ipython2",
   "version": "2.7.13"
  }
 },
 "nbformat": 4,
 "nbformat_minor": 0
}
