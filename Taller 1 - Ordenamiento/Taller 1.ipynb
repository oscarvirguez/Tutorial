{
 "cells": [
  {
   "cell_type": "markdown",
   "metadata": {},
   "source": [
    "<h1>Analizando algoritmos de ordenamiento</h1>"
   ]
  },
  {
   "cell_type": "code",
   "execution_count": 1,
   "metadata": {
    "collapsed": false
   },
   "outputs": [],
   "source": [
    "import math\n",
    "import numpy as np\n",
    "import matplotlib.pyplot as pl\n",
    "import time\n",
    "%matplotlib inline"
   ]
  },
  {
   "cell_type": "markdown",
   "metadata": {},
   "source": [
    "<h2>Problema de ordenamiento</h2>\n",
    "\n",
    "Input:  $A[1..n] = <a_1,a_2\\ldots, a_n>$\n",
    "\n",
    "Output: $A'[1..n] = <a'_1,a'_2\\ldots, a'_n> : a'_1\\leq a'_2 \\leq \\ldots \\leq  a'_n$"
   ]
  },
  {
   "cell_type": "markdown",
   "metadata": {},
   "source": [
    "<h3> Ordenamiento por inserción </h3>"
   ]
  },
  {
   "cell_type": "code",
   "execution_count": 2,
   "metadata": {
    "collapsed": true
   },
   "outputs": [],
   "source": [
    "def insertion_sort(A):\n",
    "    j = 1\n",
    "    while j < len(A):\n",
    "        key = A[j]\n",
    "        i = j - 1\n",
    "        while (i >= 0) and (A[i] > key):\n",
    "            A[i + 1] = A[i]\n",
    "            i = i -1\n",
    "        A[i + 1] = key\n",
    "        j = j + 1"
   ]
  },
  {
   "cell_type": "code",
   "execution_count": 3,
   "metadata": {
    "collapsed": false
   },
   "outputs": [
    {
     "name": "stdout",
     "output_type": "stream",
     "text": [
      "[2 8 1 7 9 0 4 5 6 3]\n",
      "[0 1 2 3 4 5 6 7 8 9]\n"
     ]
    }
   ],
   "source": [
    "B = np.random.permutation(range(0,10))\n",
    "print B\n",
    "insertion_sort(B)\n",
    "print B"
   ]
  },
  {
   "cell_type": "markdown",
   "metadata": {},
   "source": [
    "<h4>Correctitud</h4>\n",
    "\n",
    "<b>Invariante:</b> Al comienzo de cada iteración del ciclo externo el subarreglo $A[0..j-1]$ consiste de los elementos originalmente en $A[0..j-1]$ pero ordenados."
   ]
  },
  {
   "cell_type": "code",
   "execution_count": 4,
   "metadata": {
    "collapsed": true
   },
   "outputs": [],
   "source": [
    "def invariant(A, original_A):\n",
    "    l1 = list(A)\n",
    "    l2 = list(original_A)\n",
    "    l2.sort()\n",
    "    return l1 == l2"
   ]
  },
  {
   "cell_type": "code",
   "execution_count": 5,
   "metadata": {
    "collapsed": false
   },
   "outputs": [
    {
     "name": "stdout",
     "output_type": "stream",
     "text": [
      "True\n",
      "False\n"
     ]
    }
   ],
   "source": [
    "print invariant([1, 2, 3, 4], [4, 3, 2, 1])\n",
    "print invariant([1, 2, 3, 4], [5, 3, 2, 1])"
   ]
  },
  {
   "cell_type": "markdown",
   "metadata": {},
   "source": [
    "Algoritmo de ordenamiento por inserción incluyendo evaluación de la invariante (inicialización, mantenimiento, terminación)"
   ]
  },
  {
   "cell_type": "code",
   "execution_count": 6,
   "metadata": {
    "collapsed": true
   },
   "outputs": [],
   "source": [
    "def right_insertion_sort(A):\n",
    "    original_A = list(A)\n",
    "    j = 1\n",
    "    assert invariant(A[0:j], original_A[0:j])\n",
    "    while j < len(A):\n",
    "        assert invariant(A[0:j], original_A[0:j])\n",
    "        key = A[j]\n",
    "        i = j - 1\n",
    "        while (i >= 0) and (A[i] > key):\n",
    "            A[i + 1] = A[i]\n",
    "            i = i -1        \n",
    "        A[i + 1] = key\n",
    "        j = j + 1\n",
    "    assert invariant(A[0:j], original_A[0:j])"
   ]
  },
  {
   "cell_type": "code",
   "execution_count": 7,
   "metadata": {
    "collapsed": false
   },
   "outputs": [
    {
     "name": "stdout",
     "output_type": "stream",
     "text": [
      "[1, 2, 3, 4, 5, 6, 7, 8, 9]\n"
     ]
    }
   ],
   "source": [
    "B = [5, 4, 6, 3, 7, 2, 8, 1, 9]\n",
    "right_insertion_sort(B)\n",
    "print B"
   ]
  },
  {
   "cell_type": "markdown",
   "metadata": {},
   "source": [
    "La siguiente función incluye un error, por lo tanto la aserción para comprobar el invariante de ciclo falla. Esto genera una excepción que es capturada para imprimir un mensaje y el estado de las variables."
   ]
  },
  {
   "cell_type": "code",
   "execution_count": 8,
   "metadata": {
    "collapsed": true
   },
   "outputs": [],
   "source": [
    "def wrong_insertion_sort(A):\n",
    "    original_A = list(A)\n",
    "    j = 1\n",
    "    try:\n",
    "        assert invariant(A[0:j], original_A[0:j])\n",
    "        while j < len(A):\n",
    "            assert invariant(A[0:j], original_A[0:j])\n",
    "            key = A[j]\n",
    "            i = j - 1\n",
    "            while (i >= 0) and (A[i] < key):\n",
    "                A[i + 1] = A[i]\n",
    "                i = i - 1        \n",
    "            A[i + 1] = key\n",
    "            j = j + 1\n",
    "        assert invariant(A[0:j], original_A[0:j])\n",
    "    except  AssertionError:\n",
    "        print \"Error en el invariante de ciclo!\"\n",
    "        print \"j=\", j\n",
    "        print \"i=\", i\n",
    "        print \"A=\", A\n",
    "        print \"Original A=\", original_A"
   ]
  },
  {
   "cell_type": "code",
   "execution_count": 9,
   "metadata": {
    "collapsed": false
   },
   "outputs": [
    {
     "name": "stdout",
     "output_type": "stream",
     "text": [
      "Error en el invariante de ciclo!\n",
      "j= 2\n",
      "i= 0\n",
      "A= [5, 4, 6, 3, 7, 2, 8, 1, 9]\n",
      "Original A= [5, 4, 6, 3, 7, 2, 8, 1, 9]\n"
     ]
    }
   ],
   "source": [
    "B = [5, 4, 6, 3, 7, 2, 8, 1, 9]\n",
    "wrong_insertion_sort(B)"
   ]
  },
  {
   "cell_type": "markdown",
   "metadata": {},
   "source": [
    "<h4> Análisis del tiempo de ejecución</h4>"
   ]
  },
  {
   "cell_type": "code",
   "execution_count": 10,
   "metadata": {
    "collapsed": true
   },
   "outputs": [],
   "source": [
    "class Counter:\n",
    "    '''\n",
    "    Class Counter\n",
    "    Implements a step counter, which is used to compute the number of basic operations performed in\n",
    "    a particular call to a function.\n",
    "    '''\n",
    "    def __init__(self):\n",
    "        self.steps = 0\n",
    "\n",
    "    def reset(self):\n",
    "        self.steps = 0\n",
    "\n",
    "    def count(self):\n",
    "        self.steps += 1\n",
    "\n",
    "    def print_steps(self):\n",
    "        print \"Number of steps =\", self.steps\n",
    "        \n",
    "def acct_insertion_sort(A, acct):\n",
    "    j = 1; acct.count()\n",
    "    acct.count()\n",
    "    while j < len(A):\n",
    "        acct.count()\n",
    "        key = A[j]; acct.count()\n",
    "        i = j - 1; acct.count()\n",
    "        acct.count()\n",
    "        while (i >= 0) and (A[i] > key):\n",
    "            acct.count()\n",
    "            A[i + 1] = A[i]; acct.count()\n",
    "            i = i -1; acct.count()\n",
    "        A[i + 1] = key; acct.count()\n",
    "        j = j + 1; acct.count()"
   ]
  },
  {
   "cell_type": "code",
   "execution_count": 11,
   "metadata": {
    "collapsed": false
   },
   "outputs": [
    {
     "name": "stdout",
     "output_type": "stream",
     "text": [
      "('Arreglo desordenado: ', [8, 3, 9, 1, 0, 4, 5, 6, 7, 2])\n",
      "Number of steps = 125\n",
      "('Arreglo desordenado: ', [0, 1, 2, 3, 4, 5, 6, 7, 8, 9])\n"
     ]
    }
   ],
   "source": [
    "B = np.random.permutation(range(0,10))\n",
    "print (\"Arreglo desordenado: \", B.tolist())\n",
    "acct = Counter()\n",
    "acct_insertion_sort(B, acct)\n",
    "acct.print_steps()\n",
    "print (\"Arreglo desordenado: \", B.tolist())"
   ]
  },
  {
   "cell_type": "markdown",
   "metadata": {},
   "source": [
    "<h4>Análisis experimental</h4>\n",
    "Ahora vamos a analizar el comportamiento del algoritmo cuando el tamaño de la entrada varía. La siguiente función genera arreglos al azar de tamaño 1 a n, llama la función acct_insertion_sort(l, acct) y contabiliza el número de pasos."
   ]
  },
  {
   "cell_type": "code",
   "execution_count": 12,
   "metadata": {
    "collapsed": true
   },
   "outputs": [],
   "source": [
    "import random as rnd\n",
    "\n",
    "def exper_analysisInsert(n):\n",
    "    steps = []\n",
    "    timeP = []\n",
    "    t_n = []\n",
    "    acct = Counter()\n",
    "    for i in range(n):\n",
    "        l = range(i)\n",
    "        rnd.shuffle(l)\n",
    "        acct.reset()\n",
    "        tic = time.clock()\n",
    "        acct_insertion_sort(l, acct)\n",
    "        toc = time.clock()\n",
    "        timeP.append(toc - tic)\n",
    "        steps.append(acct.steps)\n",
    "        t_n.append(math.pow(i, 2))\n",
    "        \n",
    "    results = [steps, timeP, t_n]\n",
    "    return results"
   ]
  },
  {
   "cell_type": "code",
   "execution_count": 13,
   "metadata": {
    "collapsed": false
   },
   "outputs": [
    {
     "name": "stdout",
     "output_type": "stream",
     "text": [
      "[[2, 2, 8, 20, 32, 44, 59, 62, 92, 98], [2.765427728706799e-06, 1.1851833123029148e-06, 5.530855457413602e-06, 1.1061710914827198e-05, 1.698762747634178e-05, 1.817281078864468e-05, 1.7382688580442737e-05, 1.7777749684543708e-05, 2.686415507886604e-05, 2.8444399495269928e-05], [0.0, 1.0, 4.0, 9.0, 16.0, 25.0, 36.0, 49.0, 64.0, 81.0]]\n"
     ]
    }
   ],
   "source": [
    "print exper_analysisInsert(10)"
   ]
  },
  {
   "cell_type": "code",
   "execution_count": 14,
   "metadata": {
    "collapsed": false
   },
   "outputs": [
    {
     "data": {
      "text/plain": [
       "[<matplotlib.lines.Line2D at 0x75d4b00>,\n",
       " <matplotlib.lines.Line2D at 0x75d4be0>,\n",
       " <matplotlib.lines.Line2D at 0x75eb160>]"
      ]
     },
     "execution_count": 14,
     "metadata": {},
     "output_type": "execute_result"
    },
    {
     "data": {
      "image/png": "[encoded data removed]",
      "text/plain": [
       "<matplotlib.figure.Figure at 0x73dfef0>"
      ]
     },
     "metadata": {},
     "output_type": "display_data"
    }
   ],
   "source": [
    "pl.clf()\n",
    "x = np.arange(100)\n",
    "res = exper_analysisInsert(100)\n",
    "p = np.array(res[0])                #-> Arreglo con la cantidad de procesos realizados para cada arreglo (Negro)\n",
    "t = np.array(res[1]) * 1000000      #-> Arreglo de tiempos de ejecucion en el ordenamiento de cada arreglo (Rojo)\n",
    "n = np.array(res[2])                #-> Puntos de la complejidad en el peor de los casos del algoritmo (Azul)\n",
    "\n",
    "pl.plot(x, p, 'k.', t, 'r.', n, '')"
   ]
  },
  {
   "cell_type": "markdown",
   "metadata": {},
   "source": [
    "#Actividad\n",
    " <ol>\n",
    "  <li>En una sola gráfica represente el número de operaciones, tiempo y T(n) que el algoritmo de ordenamiento por inserción requiere para ordenar arreglos de tamaño n (varie n) en el peor de los casos.</li>\n",
    "  <li>Replique los ejercicios realizados en este taller para el algoritmo de ordenamiento por mezclas (merge sort)</li>\n",
    "  <li>Replique los ejercicios realizados en este taller para el algoritmo de ordenamiento quick-sort</li>\n",
    "</ol> "
   ]
  },
  {
   "cell_type": "markdown",
   "metadata": {
    "collapsed": true
   },
   "source": [
    "<h3> Ordenamiento QuickSort</h3>\n",
    "\n",
    "<h4>Correctitud</h4>\n",
    "\n",
    "<b>Invariante:</b> Exactamente antes de cambiar al pivote, este no puede ser mayo que los numeros a su izquierda del arreglo."
   ]
  },
  {
   "cell_type": "code",
   "execution_count": 15,
   "metadata": {
    "collapsed": false
   },
   "outputs": [],
   "source": [
    "def invariantQuick(alist, pivotPos):\n",
    "    for i in range(0, pivotPos):\n",
    "        if(alist[i] > alist[pivotPos]):\n",
    "            return False\n",
    "    return True"
   ]
  },
  {
   "cell_type": "markdown",
   "metadata": {},
   "source": [
    "Aplicación de la invariante en el algoritmo correcto"
   ]
  },
  {
   "cell_type": "code",
   "execution_count": 16,
   "metadata": {
    "collapsed": true
   },
   "outputs": [],
   "source": [
    "def quickSortRight(B):\n",
    "    quickSortBegRight(B, 0, len(B)-1)\n",
    "\n",
    "def quickSortBegRight(B, first, last):\n",
    "    if first < last:\n",
    "        pivot = procedureRight(B, first, last)\n",
    "        quickSortBegRight(B, first, pivot-1)\n",
    "        quickSortBegRight(B, pivot+1, last)\n",
    "    return B\n",
    "\n",
    "def procedureRight(B, first, last):\n",
    "    pivot = B[first]\n",
    "    left = first+1\n",
    "    right = last\n",
    "    done = False\n",
    "    while not done:\n",
    "        while left <= right and B[left] <= pivot:\n",
    "            left = left + 1\n",
    "        while B[right] >= pivot and right >=left:\n",
    "            right = right -1\n",
    "        if right < left:\n",
    "            done= True\n",
    "        else:\n",
    "            temp=B[left]\n",
    "            B[left]=B[right]\n",
    "            B[right]=temp\n",
    "            \n",
    "    temp=B[first]\n",
    "    B[first]=B[right]\n",
    "    B[right]=temp\n",
    "    assert invariantQuick(B, first)\n",
    "    return right"
   ]
  },
  {
   "cell_type": "code",
   "execution_count": 17,
   "metadata": {
    "collapsed": false
   },
   "outputs": [
    {
     "name": "stdout",
     "output_type": "stream",
     "text": [
      "[1, 2, 3, 4, 5, 6, 7, 8, 9]\n"
     ]
    }
   ],
   "source": [
    "B = [5, 4, 6, 3, 7, 2, 8, 1, 9]\n",
    "quickSortRight(B)\n",
    "print B"
   ]
  },
  {
   "cell_type": "markdown",
   "metadata": {},
   "source": [
    "El siguiente algoritmo de ordenamiento Quick presenta un error (ordena de mayor a menor), lo cual hace que el invariante sea falso lanzando y capturando una excepción además de mostrara el arreglo en el momento del fallo."
   ]
  },
  {
   "cell_type": "code",
   "execution_count": 18,
   "metadata": {
    "collapsed": false
   },
   "outputs": [],
   "source": [
    "def quickSortWrong(B): \n",
    "    quickSortBegWrong(B, 0, len(B)-1)\n",
    "    \n",
    "def quickSortBegWrong(B, first, last):\n",
    "    try:\n",
    "        if first < last:\n",
    "            pivot = procedureWrong(B, first, last)\n",
    "            quickSortBegWrong(B, first, pivot-1)\n",
    "            quickSortBegWrong(B, pivot+1, last)\n",
    "            \n",
    "        return B\n",
    "    \n",
    "    except:\n",
    "        print \"Error...\"\n",
    "def procedureWrong(B, first, last):\n",
    "    try:\n",
    "        pivot = B[first]\n",
    "        right = first+1\n",
    "        left = last\n",
    "        done = False\n",
    "        while not done:\n",
    "            while left <= right and B[left] <= pivot:\n",
    "                left = left + 1\n",
    "            while B[right] >= pivot and right >=left:\n",
    "                right = right -1\n",
    "            if right < left:\n",
    "                done= True\n",
    "            else:\n",
    "                temp=B[left]\n",
    "                B[left]=B[right]\n",
    "                B[right]=temp\n",
    "\n",
    "        temp=B[first]\n",
    "        B[first]=B[right]\n",
    "        B[right]=temp\n",
    "        assert invariantQuick(B, first)\n",
    "        \n",
    "        return int(right)\n",
    "    \n",
    "    except  AssertionError:\n",
    "        print \"Error en el invariante de ciclo!\"\n",
    "        print \"Pivote\", pivot\n",
    "        \n"
   ]
  },
  {
   "cell_type": "code",
   "execution_count": 19,
   "metadata": {
    "collapsed": false
   },
   "outputs": [
    {
     "name": "stdout",
     "output_type": "stream",
     "text": [
      "Error en el invariante de ciclo!\n",
      "Pivote 6\n",
      "Error...\n"
     ]
    }
   ],
   "source": [
    "B = [4, 5, 6, 3, 7, 2, 8, 1, 9]\n",
    "quickSortWrong(B)"
   ]
  },
  {
   "cell_type": "code",
   "execution_count": 20,
   "metadata": {
    "collapsed": true
   },
   "outputs": [],
   "source": [
    "def quickSort(alist, acct):\n",
    "    quickSortBeg(alist, 0, len(alist)-1, acct)\n",
    "\n",
    "def quickSortBeg(alist, first, last, acct):\n",
    "    if first < last:\n",
    "        acct.count()\n",
    "        pivot = procedure(alist, first, last, acct); acct.count()\n",
    "        quickSortBeg(alist, first, pivot-1, acct)\n",
    "        quickSortBeg(alist, pivot+1, last, acct)\n",
    "    return alist\n",
    "\n",
    "def procedure(alist, first, last, acct):\n",
    "    pivot = alist[first]; acct.count()\n",
    "    left = first+1; acct.count()\n",
    "    right = last; acct.count()\n",
    "    done = False; acct.count()\n",
    "    while not done:\n",
    "        acct.count()\n",
    "        while left <= right and alist[left] <= pivot:\n",
    "            acct.count()\n",
    "            left = left + 1; acct.count()\n",
    "        while alist[right] >= pivot and right >=left:\n",
    "            acct.count()\n",
    "            right = right -1; acct.count()\n",
    "        if right < left:\n",
    "            acct.count()\n",
    "            done= True; acct.count()\n",
    "        else:\n",
    "            temp=alist[left]; acct.count()\n",
    "            alist[left]=alist[right]; acct.count()\n",
    "            alist[right]=temp; acct.count()\n",
    "            \n",
    "    temp=alist[first]; acct.count()\n",
    "    alist[first]=alist[right]; acct.count()\n",
    "    alist[right]=temp; acct.count()\n",
    "    return right"
   ]
  },
  {
   "cell_type": "code",
   "execution_count": 21,
   "metadata": {
    "collapsed": false
   },
   "outputs": [
    {
     "name": "stdout",
     "output_type": "stream",
     "text": [
      "Arreglo desordenado:  [2, 4, 1, 5, 7, 0, 8, 6, 3, 9]\n",
      "Number of steps = 122\n",
      "Arreglo ordenado:  [0, 1, 2, 3, 4, 5, 6, 7, 8, 9]\n"
     ]
    }
   ],
   "source": [
    "B = np.random.permutation(range(0,10))\n",
    "print \"Arreglo desordenado: \", B.tolist()\n",
    "acct = Counter()\n",
    "quickSort(B, acct)\n",
    "acct.print_steps()\n",
    "print \"Arreglo ordenado: \", B.tolist()"
   ]
  },
  {
   "cell_type": "markdown",
   "metadata": {},
   "source": [
    "<h4>Análisis</h4>\n",
    "Realiza la prueba del algoritmo n veces y guarda la cantidad de pasos realizados, los valores de su T(n) en el peor de los casos y el tiempo de ejecución"
   ]
  },
  {
   "cell_type": "code",
   "execution_count": 22,
   "metadata": {
    "collapsed": true
   },
   "outputs": [],
   "source": [
    "import random as rnd\n",
    "\n",
    "def exper_analysisQuick(n):\n",
    "    steps = []\n",
    "    timeP = []\n",
    "    t_n = []\n",
    "    acct = Counter()\n",
    "    for i in range(n):\n",
    "        l = range(i)\n",
    "        rnd.shuffle(l)\n",
    "        acct.reset()\n",
    "        tic = time.clock()\n",
    "        quickSort(l, acct)\n",
    "        toc = time.clock()\n",
    "        timeP.append(toc - tic)\n",
    "        steps.append(acct.steps)\n",
    "        t_n.append(math.pow(i, 2))\n",
    "        \n",
    "    results = [steps, timeP, t_n]\n",
    "    return results"
   ]
  },
  {
   "cell_type": "code",
   "execution_count": 23,
   "metadata": {
    "collapsed": false
   },
   "outputs": [
    {
     "name": "stdout",
     "output_type": "stream",
     "text": [
      "[[0, 0, 14, 16, 48, 54, 74, 78, 88, 106], [1.9753055204851933e-06, 7.901222081052595e-07, 8.691344290268077e-06, 7.506160977888143e-06, 1.9753055205073977e-05, 2.21234218296118e-05, 3.081476611987988e-05, 3.160488832798514e-05, 3.911104930587328e-05, 4.5036965867550904e-05], [0.0, 1.0, 4.0, 9.0, 16.0, 25.0, 36.0, 49.0, 64.0, 81.0]]\n"
     ]
    }
   ],
   "source": [
    "print exper_analysisQuick(10)"
   ]
  },
  {
   "cell_type": "code",
   "execution_count": 24,
   "metadata": {
    "collapsed": false
   },
   "outputs": [
    {
     "data": {
      "text/plain": [
       "[<matplotlib.lines.Line2D at 0x7667da0>,\n",
       " <matplotlib.lines.Line2D at 0x7667e80>,\n",
       " <matplotlib.lines.Line2D at 0x76794e0>]"
      ]
     },
     "execution_count": 24,
     "metadata": {},
     "output_type": "execute_result"
    },
    {
     "data": {
      "image/png": "[encoded data removed]",
      "text/plain": [
       "<matplotlib.figure.Figure at 0x751c630>"
      ]
     },
     "metadata": {},
     "output_type": "display_data"
    }
   ],
   "source": [
    "pl.clf()\n",
    "x = np.arange(100)\n",
    "res = exper_analysisQuick(100)\n",
    "p = np.array(res[0])                #-> Arreglo con la cantidad de procesos realizados para cada arreglo (Negro)\n",
    "t = np.array(res[1]) * 1000000      #-> Arreglo de tiempos de ejecucion en el ordenamiento de cada arreglo (Rojo)\n",
    "n = np.array(res[2])                #-> Puntos de la complejidad en el peor de los casos del algoritmo (Azul)\n",
    "\n",
    "pl.plot(x, p, 'k.', t, 'r.', n, '')"
   ]
  },
  {
   "cell_type": "markdown",
   "metadata": {},
   "source": [
    "<h3> Ordenamiento MergeSort</h3>"
   ]
  },
  {
   "cell_type": "markdown",
   "metadata": {},
   "source": [
    "<h4>Correctitud</h4>\n",
    "\n",
    "<b>Invariante:</b> Una vez llegado al caso base, los subarreglos generados deberán estar ordenados."
   ]
  },
  {
   "cell_type": "code",
   "execution_count": 25,
   "metadata": {
    "collapsed": true
   },
   "outputs": [],
   "source": [
    "def invariantMerge(subA):\n",
    "    l1 = list(subA)\n",
    "    l2 = list(subA)\n",
    "    l2.sort()\n",
    "    return l1 == l2"
   ]
  },
  {
   "cell_type": "code",
   "execution_count": 26,
   "metadata": {
    "collapsed": false
   },
   "outputs": [
    {
     "name": "stdout",
     "output_type": "stream",
     "text": [
      "True\n",
      "False\n"
     ]
    }
   ],
   "source": [
    "print invariantMerge([1, 2, 3, 4])\n",
    "print invariantMerge([1, 3, 2, 4])"
   ]
  },
  {
   "cell_type": "markdown",
   "metadata": {},
   "source": [
    "Aplicacion de la invariante en el algoritmo correcto"
   ]
  },
  {
   "cell_type": "code",
   "execution_count": 27,
   "metadata": {
    "collapsed": true
   },
   "outputs": [],
   "source": [
    "def mergeSortRight(B):\n",
    "    if (len(B)>1):\n",
    "        mid = len(B)//2\n",
    "        lefthalf = B[:mid]\n",
    "        righthalf = B[mid:]\n",
    "\n",
    "        mergeSortRight(lefthalf)\n",
    "        mergeSortRight(righthalf)\n",
    "\n",
    "        i=0\n",
    "        j=0\n",
    "        k=0\n",
    "        while (i < len(lefthalf) and j < len(righthalf)):\n",
    "            if (lefthalf[i] < righthalf[j]):\n",
    "                B[k]=lefthalf[i]\n",
    "                assert invariantMerge(B[0:k])\n",
    "                i=i+1\n",
    "            else:\n",
    "                B[k]=righthalf[j]\n",
    "                assert invariantMerge(B[0:k])\n",
    "                j=j+1\n",
    "            k=k+1\n",
    "        while (i < len(lefthalf)):\n",
    "            B[k]=lefthalf[i]\n",
    "            assert invariantMerge(B[0:k])\n",
    "            i=i+1\n",
    "            k=k+1\n",
    "\n",
    "        while (j < len(righthalf)):\n",
    "            B[k]=righthalf[j]\n",
    "            assert invariantMerge(B[0:k])\n",
    "            j=j+1\n",
    "            k=k+1"
   ]
  },
  {
   "cell_type": "code",
   "execution_count": 28,
   "metadata": {
    "collapsed": false
   },
   "outputs": [
    {
     "name": "stdout",
     "output_type": "stream",
     "text": [
      "[1, 2, 3, 4, 5, 6, 7, 8, 9]\n"
     ]
    }
   ],
   "source": [
    "B = [5, 4, 6, 3, 7, 2, 8, 1, 9]\n",
    "mergeSortRight(B)\n",
    "print B"
   ]
  },
  {
   "cell_type": "markdown",
   "metadata": {},
   "source": [
    "El siguiente algoritmo de ordenamiento Merge presenta un error (ordena de mayor a menor), lo cual hace que el invariante sea falso lanzando y capturando una excepción además de mostrara el arreglo en el momento del fallo."
   ]
  },
  {
   "cell_type": "code",
   "execution_count": 29,
   "metadata": {
    "collapsed": false
   },
   "outputs": [],
   "source": [
    "def mergeSortWrong(B):\n",
    "    try:\n",
    "        if (len(B)>1):\n",
    "            mid = len(B)//2\n",
    "            lefthalf = B[:mid]\n",
    "            righthalf = B[mid:]\n",
    "\n",
    "            mergeSortRight(lefthalf)\n",
    "            mergeSortRight(righthalf)\n",
    "\n",
    "            i=0\n",
    "            j=0\n",
    "            k=0\n",
    "            while (i < len(lefthalf) and j < len(righthalf)):\n",
    "                if (lefthalf[i] < righthalf[j]):\n",
    "                    B[k]=righthalf[i]\n",
    "                    assert invariantMerge(B[0:k])\n",
    "                    i=i+1\n",
    "                else:\n",
    "                    B[k]=lefthalf[j]\n",
    "                    assert invariantMerge(B[0:k])\n",
    "                    j=j+1\n",
    "                k=k+1\n",
    "            while (i < len(lefthalf)):\n",
    "                B[k]=righthalf[i]\n",
    "                assert invariantMerge(B[0:k])\n",
    "                i=i+1\n",
    "                k=k+1\n",
    "\n",
    "            while (j < len(righthalf)):\n",
    "                B[k]=lefthalf[j]\n",
    "                assert invariantMerge(B[0:k])\n",
    "                j=j+1\n",
    "                k=k+1           \n",
    "    except  AssertionError:\n",
    "        print \"Error en el invariante de ciclo!\"\n",
    "        print \"Sub Arreglo error: \", B[0:k]"
   ]
  },
  {
   "cell_type": "code",
   "execution_count": 30,
   "metadata": {
    "collapsed": false
   },
   "outputs": [
    {
     "name": "stdout",
     "output_type": "stream",
     "text": [
      "Error en el invariante de ciclo!\n",
      "Sub Arreglo error:  [3, 4, 1]\n"
     ]
    }
   ],
   "source": [
    "B = [5, 4, 6, 3, 7, 2, 8, 1, 9]\n",
    "mergeSortWrong(B)"
   ]
  },
  {
   "cell_type": "markdown",
   "metadata": {},
   "source": [
    "<h4>Análisis en tiempo de ejecución</h4>"
   ]
  },
  {
   "cell_type": "code",
   "execution_count": 31,
   "metadata": {
    "collapsed": true
   },
   "outputs": [],
   "source": [
    "def mergeSort(B, acct):\n",
    "    if (len(B)>1):\n",
    "        mid = len(B)//2; acct.count()\n",
    "        lefthalf = B[:mid]; acct.count()\n",
    "        righthalf = B[mid:]; acct.count()\n",
    "\n",
    "        mergeSort(lefthalf, acct)\n",
    "        mergeSort(righthalf, acct)\n",
    "\n",
    "        i=0; acct.count()\n",
    "        j=0; acct.count()\n",
    "        k=0; acct.count()\n",
    "        while (i < len(lefthalf) and j < len(righthalf)):\n",
    "            acct.count()\n",
    "            if (lefthalf[i] < righthalf[j]):\n",
    "                acct.count()\n",
    "                B[k]=lefthalf[i]; acct.count()\n",
    "                i=i+1; acct.count()\n",
    "            else:\n",
    "                acct.count()\n",
    "                B[k]=righthalf[j]; acct.count()\n",
    "                j=j+1; acct.count()\n",
    "            k=k+1; acct.count()\n",
    "        while (i < len(lefthalf)):\n",
    "            acct.count()\n",
    "            B[k]=lefthalf[i]; acct.count()\n",
    "            i=i+1; acct.count()\n",
    "            k=k+1; acct.count()\n",
    "\n",
    "        while (j < len(righthalf)):\n",
    "            acct.count()\n",
    "            B[k]=righthalf[j]; acct.count()\n",
    "            j=j+1; acct.count()\n",
    "            k=k+1; acct.count()"
   ]
  },
  {
   "cell_type": "code",
   "execution_count": 32,
   "metadata": {
    "collapsed": false
   },
   "outputs": [
    {
     "name": "stdout",
     "output_type": "stream",
     "text": [
      "Arreglo desordenado:  [6, 1, 8, 4, 7, 0, 9, 3, 2, 5]\n",
      "Number of steps = 214\n",
      "Arreglo ordenado:  [0, 1, 2, 3, 4, 5, 6, 7, 8, 9]\n"
     ]
    }
   ],
   "source": [
    "B = list(np.random.permutation(range(0,10)))\n",
    "print \"Arreglo desordenado: \", B\n",
    "acct = Counter()\n",
    "mergeSort(B, acct)\n",
    "acct.print_steps()\n",
    "print \"Arreglo ordenado: \", B"
   ]
  },
  {
   "cell_type": "markdown",
   "metadata": {},
   "source": [
    "<h4>Análisis</h4>\n",
    "Realiza la prueba del algoritmo n veces y guarda la cantidad de pasos realizados, los valores de su T(n) en el peor de los casos y el tiempo de ejecución"
   ]
  },
  {
   "cell_type": "code",
   "execution_count": 33,
   "metadata": {
    "collapsed": true
   },
   "outputs": [],
   "source": [
    "import random as rnd\n",
    "\n",
    "def exper_analysisMerge(n):\n",
    "    steps = []\n",
    "    timeP = []\n",
    "    t_n = []\n",
    "    acct = Counter()\n",
    "    for i in range(n):\n",
    "        l = range(i)\n",
    "        rnd.shuffle(l)\n",
    "        acct.reset()\n",
    "        tic = time.clock()\n",
    "        mergeSort(l, acct)\n",
    "        toc = time.clock()\n",
    "        timeP.append(toc - tic)\n",
    "        steps.append(acct.steps)\n",
    "        if(i > 0):\n",
    "            t_n.append((i)*math.log(i))\n",
    "        \n",
    "    results = [steps, timeP, t_n]\n",
    "    return results"
   ]
  },
  {
   "cell_type": "code",
   "execution_count": 34,
   "metadata": {
    "collapsed": false
   },
   "outputs": [
    {
     "name": "stdout",
     "output_type": "stream",
     "text": [
      "[[0, 0, 15, 35, 54, 80, 103, 129, 153, 181], [2.3703666247598676e-06, 3.9506110427467434e-07, 9.481466498151292e-06, 1.619750526815622e-05, 2.646909397485686e-05, 3.713574378538809e-05, 5.4123371261649567e-05, 5.53085545740295e-05, 5.451843236592424e-05, 5.096288242922853e-05], [0.0, 1.3862943611198906, 3.295836866004329, 5.545177444479562, 8.047189562170502, 10.75055681536833, 13.621371043387192, 16.635532333438686, 19.775021196025975]]\n"
     ]
    }
   ],
   "source": [
    "print exper_analysisMerge(10)"
   ]
  },
  {
   "cell_type": "code",
   "execution_count": 35,
   "metadata": {
    "collapsed": false
   },
   "outputs": [
    {
     "data": {
      "text/plain": [
       "[<matplotlib.lines.Line2D at 0x78c9080>,\n",
       " <matplotlib.lines.Line2D at 0x78c9160>,\n",
       " <matplotlib.lines.Line2D at 0x78c9780>]"
      ]
     },
     "execution_count": 35,
     "metadata": {},
     "output_type": "execute_result"
    },
    {
     "data": {
      "image/png": "[encoded data removed]",
      "text/plain": [
       "<matplotlib.figure.Figure at 0x73dfa90>"
      ]
     },
     "metadata": {},
     "output_type": "display_data"
    }
   ],
   "source": [
    "pl.clf()\n",
    "x = np.arange(100)\n",
    "res = exper_analysisMerge(100)\n",
    "p = np.array(res[0])                #-> Arreglo con la cantidad de procesos realizados para cada arreglo (Negro)\n",
    "t = np.array(res[1]) * 1000000      #-> Arreglo de tiempos de ejecucion en el ordenamiento de cada arreglo (Rojo)\n",
    "n = np.array(res[2]) * 6            #-> Puntos de la complejidad en el peor de los casos del algoritmo (Azul)\n",
    "\n",
    "pl.plot(x, p, 'k.', t, 'r.', n, '')"
   ]
  }
 ],
 "metadata": {
  "anaconda-cloud": {},
  "kernelspec": {
   "display_name": "Python 2",
   "language": "python",
   "name": "python2"
  },
  "language_info": {
   "codemirror_mode": {
    "name": "ipython",
    "version": 2
   },
   "file_extension": ".py",
   "mimetype": "text/x-python",
   "name": "python",
   "nbconvert_exporter": "python",
   "pygments_lexer": "ipython2",
   "version": "2.7.13"
  }
 },
 "nbformat": 4,
 "nbformat_minor": 0
}
