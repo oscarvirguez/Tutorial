{
 "cells": [
  {
   "cell_type": "markdown",
   "metadata": {},
   "source": [
    "<h1>Análisis de problemas en grafos</h1>"
   ]
  },
  {
   "cell_type": "markdown",
   "metadata": {},
   "source": [
    "<h2>En el siguiente documento se abordarán soluciones a tres tipos de problemas diferentes que pueden ser representados mediante el uso de grafos, en relación con Distribución de Nodos, Cliques en Grafos y Árboles de Expansión.</h2>"
   ]
  },
  {
   "cell_type": "markdown",
   "metadata": {},
   "source": [
    "$1.$ <b>Suponga que se planea contruir una nueva cadena de tiendas en una ciudad dada, usted tiene identificado una serie de ubicaciones potenciales en diferentes barrios. Además asuma que la demanda de productos en cada barrio de la ciudad es conocida. Si usted quiere construir exactamente k tiendas,  ¿dónde debería localizarlas de forma que minimice la distancia promedio de los clientes? ¿Si en lugar usted dese construir una cantidad variable de tiendas, y el costo de construir una tienda en cada sitio es conocido, ¿dónde debería construir las tiendas de forma que minimice el costo total del construcción y la distancia promedio de los clientes?</b>"
   ]
  },
  {
   "cell_type": "markdown",
   "metadata": {
    "collapsed": true
   },
   "source": [
    "La primera parte del enunciado solicita crear $n$ cantidad de tiendas. Este algoritmo se basa en dos partes importantes, la primera es del uso de un algoritmo de \"Distancia más corta\" puede ser Dijkstra o FloydWarshall, en este caso, se vió mucho más coodo hacerlo por Warshall, la segunda es el cálculo de los nodos más factibles a crear la nueva tienda, se usa la libreria numpy para el manejo de matrices, en resumen el código primero calcula las menores distancias entre cada par de nodos, una vez sean obtenidas realiza la sumatoria horizontal por cada nodo y en el menor costo, será la primera localización de la tienda, el proceso es iterativo y se repite la cantidad de veces que se desee contruir una nueva tienda, una vez se asigna un nodo, este no se tiene en cuenta para una nueva asignación, con la diferencia que los valores de la matriz varían por las nuevas tiendas construidas para atender la demanda."
   ]
  },
  {
   "cell_type": "code",
   "execution_count": 1,
   "metadata": {
    "collapsed": true
   },
   "outputs": [],
   "source": [
    "#Librerías utilizadas\n",
    "import numpy as np\n",
    "import re\n",
    "import os.path\n",
    "import time"
   ]
  },
  {
   "cell_type": "code",
   "execution_count": 2,
   "metadata": {
    "collapsed": true
   },
   "outputs": [],
   "source": [
    "#Algoritmo para hallar la distancia mas corta entre cada par de nodos\n",
    "def FloydWarshall(W):\n",
    "    n = W.shape[0]\n",
    "    D_list = []#Save each D^{(k)} matrix\n",
    "    D_list.append(W[:,:])#D^{(0)}\n",
    "    for k in range(n):        \n",
    "        D_k = D_list[k][:,:]\n",
    "        for i in range(n):\n",
    "            for j in range(n):\n",
    "                D_k[i,j] = min(D_list[k][i,j], D_list[k][i,k]+D_list[k][k,j])        \n",
    "        D_list.append(np.copy(D_k))\n",
    "        \n",
    "    return D_k"
   ]
  },
  {
   "cell_type": "code",
   "execution_count": 3,
   "metadata": {
    "collapsed": true
   },
   "outputs": [],
   "source": [
    "#Función que recibe como parámetros la matriz de costos (mat), una lista de nodos con tiendas (add), \n",
    "#numero de la columna actual evaluada (col)\n",
    "#La funcion busca y retorna el costo mínimo en la matriz de costos entre un nodo con los demás\n",
    "def minVal(mat, add, col):\n",
    "    res = float(\"inf\")\n",
    "    for i in range(len(add)):\n",
    "        if(mat[add[i],col] < res):\n",
    "            res = mat[add[i],col]\n",
    "    \n",
    "    return res"
   ]
  },
  {
   "cell_type": "code",
   "execution_count": 4,
   "metadata": {
    "collapsed": true
   },
   "outputs": [],
   "source": [
    "#Función que recibe como parámetros un vector de nodos con tiendas (add) y un vector con los nombres de los nodos (names)\n",
    "#La función retorna una lista con los nombres de los nodos a crear nuevas tiendas\n",
    "def names(add, names):\n",
    "    namesAdd = []\n",
    "    for i in range(len(add)):\n",
    "        namesAdd.append(names[add[i]])\n",
    "        \n",
    "    return namesAdd"
   ]
  },
  {
   "cell_type": "code",
   "execution_count": 112,
   "metadata": {
    "collapsed": true
   },
   "outputs": [],
   "source": [
    "#Función que recibe como parámetros, la matriz final de costos (mat) y un arreglo con las posiciones de los nodos asignados \n",
    "#(add).\n",
    "#La función retorna la distancia promedio de los nodos no asignados.\n",
    "def averageDistance(mat, add):\n",
    "    allP =  range(len(mat))\n",
    "    notAssign = [i for i in allP if i not in add ]\n",
    "    dist = 0;\n",
    "    for i in notAssign:\n",
    "        dist += min(list(set(mat[i]) - set([mat[i][i]])))/len(notAssign)\n",
    "        \n",
    "    return dist"
   ]
  },
  {
   "cell_type": "code",
   "execution_count": 115,
   "metadata": {
    "collapsed": true
   },
   "outputs": [],
   "source": [
    "#Función que recibe como parámetros la matriz de costos (mat), una lista con la demanda de cada nodo (dem) y \n",
    "#un número de tiendas a construir (nPlants)\n",
    "#La función una vez obtiene los costos de distancia y demanda en general busca los valores mínimos y asigna las tiendas a los \n",
    "#nodos\n",
    "def addNPlants(mat, dem, nPlants):\n",
    "    add = [] #Vector donde almacena las tiendas asignadas\n",
    "    mat = FloydWarshall(mat) #Llamado a Warshall para obtener distancias\n",
    "    for i in range(len(mat)):\n",
    "        mat[:,i]*=dem[i] #Inclusion de la demanda a cada nodo\n",
    "    \n",
    "    for i in range(nPlants):\n",
    "        if (len(add) > 0) and (l not in add):\n",
    "            mat2 = mat\n",
    "            for j in range(np.shape(mat)[0]):\n",
    "                for k in range(np.shape(mat)[1]):\n",
    "                    mat2[j,k] = min(minVal(mat,add,k), mat[j,k]) #Actualiza costos de distancia y demanda dependiendo de \n",
    "                                                                 #las nuevas tiendas asignadas en iteraciones anteriores\n",
    "        cmin = float(\"inf\")\n",
    "        for l in range(np.shape(mat)[0]):\n",
    "            if l not in add:\n",
    "                temp = min(cmin, sum(mat[l])) #Selecciona el costo mínimo de toda la matriz actualizada para seleccionar \n",
    "                                              #el nuevo nodo para la creación de una nueva tienda\n",
    "                if temp < cmin:\n",
    "                    cmin = temp\n",
    "                    row = l\n",
    "        add.append(row)\n",
    "        \n",
    "    avgDistance = averageDistance(matOrigin, add)    \n",
    "    return add, avgDistance"
   ]
  },
  {
   "cell_type": "markdown",
   "metadata": {},
   "source": [
    "En el segundo requerimiento del enunciado se solicita crear una cantidad de tiendas desconoida que debe hallar el algoritmo minimizando costos de construccion y minimizando la distancia promedio general. El procedimiento es prácticamente igual al anterior, con la variacion de que ahora se tiene en cuenta el costo de construcción y que el algoritmo termina cuando al insertar una nueva tienda, en vez de minimizar costos, se aumentan con respecto a iteraciones anteriores"
   ]
  },
  {
   "cell_type": "code",
   "execution_count": 6,
   "metadata": {
    "collapsed": true
   },
   "outputs": [],
   "source": [
    "#Función que recibe como parámetros una lista de tiendas asignadas (add) y una lista de costos de construcción (cc)\n",
    "#La función retorna el acumulado de costos de construccion para cada nodo producto de la creación de tiendas anteriores\n",
    "def accumCost(add, cc):\n",
    "    suma = 0\n",
    "    for i in range(len(add)):\n",
    "        suma += cc[add[i]]\n",
    "    \n",
    "    return suma"
   ]
  },
  {
   "cell_type": "code",
   "execution_count": 7,
   "metadata": {
    "collapsed": true
   },
   "outputs": [],
   "source": [
    "#Función que recibe como parámetros la matriz de costos (mat), una lista con la demanda de cada nodo (dem) y \n",
    "#una lista con los costos de construcción de cada tienda (cc)\n",
    "#La función una vez obtiene los costos de distancia y demanda en general busca los valores mínimos teniendo \n",
    "#en cuenta los costos de contrucción y asigna las tiendas a los nodos\n",
    "def addAllPlants(mat, dem, cc, nPlants):\n",
    "    add = [] #Vector donde almacena las tiendas asignadas\n",
    "    mat = FloydWarshall(mat) #Llamado a Warshall para obtener distancias\n",
    "    for i in range(len(mat)):\n",
    "        mat[:,i]*=dem[i] #Inclusion de la demanda a cada nodo\n",
    "    \n",
    "    fwd = True\n",
    "    last = float(\"inf\")\n",
    "    totalCost = 0 #Contador de costo total\n",
    "    while fwd:\n",
    "        if (len(add) > 0) and (l not in add):\n",
    "            mat2 = mat\n",
    "            for j in range(np.shape(mat)[0]):\n",
    "                for k in range(np.shape(mat)[1]):\n",
    "                    mat2[j,k] = min(minVal(mat,add,k), mat[j,k]) #Actualiza costos de distancia y demanda dependiendo de \n",
    "                                                                 #las nuevas tiendas asignadas en iteraciones anteriores\n",
    "\n",
    "        cmin = float(\"inf\")\n",
    "        for l in range(np.shape(mat)[0]):\n",
    "            if l not in add:\n",
    "                temp = min(cmin, sum(mat[l])+accumCost(add,cc)+cc[l]) #Selecciona el costo mínimo de toda la matriz actualizada \n",
    "                                                                      #teniendo en cuenta el costo de construcción del nodo y el \n",
    "                                                                      #acumulado para seleccionar el nuevo nodo para la creación\n",
    "                                                                      #de una nueva tienda\n",
    "                if temp < cmin:\n",
    "                    cmin = temp\n",
    "                    row = l\n",
    "        if cmin > last or len(add) == nPlants:\n",
    "            fwd = False\n",
    "        else:\n",
    "            add.append(row)\n",
    "            last = cmin\n",
    "            totalCost += cmin #Aumento costo total\n",
    "            \n",
    "    return add, totalCost"
   ]
  },
  {
   "cell_type": "code",
   "execution_count": 8,
   "metadata": {
    "collapsed": true
   },
   "outputs": [],
   "source": [
    "#Función que recibe como parámetros una lista de lineas escaneadas en el archivo de texto (lines), una lista con \n",
    "#los valores de la demanda (dem) y una opción para el caso que se incluyan o no costos de construcción (option), esta función se\n",
    "#encarga de tokenizar cada linea y organizar la información de la manera adecuada para posteriormente llamar a la función de ADD\n",
    "#Retorna la lista de nodos a construir tiendas y los nombres de todos los nodos\n",
    "def fillData(lines, dem, option):\n",
    "    nPlants = int(lines[0]) #Número de tiendas a construir\n",
    "    mat = [] #Matriz de adyacencia\n",
    "    cc = [] #lista de costos\n",
    "    nameNodes = [] #Lista de nombres de los nodos\n",
    "    for l in lines[1:]: #Lectura y tokenización de cada linea del archivo de texto\n",
    "        lSplit = re.split(r'\\t+', l)\n",
    "        nameNodes.append(lSplit[0])\n",
    "        lSplit.pop(0)\n",
    "        if option == \"_c\":\n",
    "            cc.append(lSplit[0])\n",
    "            lSplit.pop(0)\n",
    "        if len(mat) == 0:\n",
    "            mat = np.matrix([float(i) for i in lSplit])\n",
    "        else:\n",
    "            mat = np.concatenate((mat, np.matrix([float(i) for i in lSplit])), axis=0)\n",
    "            \n",
    "    if option == \"_c\": \n",
    "        cc = [float(i) for i in cc]\n",
    "        res = addAllPlants(mat, dem, cc, nPlants)\n",
    "    else:\n",
    "        res = addNPlants(mat, dem, nPlants)\n",
    "    \n",
    "    return res, nameNodes"
   ]
  },
  {
   "cell_type": "code",
   "execution_count": 9,
   "metadata": {
    "collapsed": true
   },
   "outputs": [],
   "source": [
    "#Lectura del archivo\n",
    "def readFile(textFile):\n",
    "    try:\n",
    "        infile = open(textFile, 'r')\n",
    "        lines = []\n",
    "        for line in infile:\n",
    "            lines.append(re.split(r'\\n+', line)[0])\n",
    "        infile.close()\n",
    "        \n",
    "        return lines\n",
    "    except IOError:\n",
    "        print \"Verifique que el nombre y ubicación del archivo!\""
   ]
  },
  {
   "cell_type": "code",
   "execution_count": 10,
   "metadata": {
    "collapsed": false
   },
   "outputs": [
    {
     "name": "stdout",
     "output_type": "stream",
     "text": [
      "Archivo 'output_LP.txt' generado en la raíz\n",
      "Tiempo del algoritmo:  0.00200454083412 secs.\n"
     ]
    }
   ],
   "source": [
    "#Inicio del programa\n",
    "file_name = \"lp_facilitylocation\\input_n5_k3_c\" #Nombre del archivo input\n",
    "lines = readFile(file_name)\n",
    "dem = np.ones(4) #Lista de demanda asociada a los nodos\n",
    "tic = time.clock()\n",
    "res, nameNodes = fillData(lines, dem, file_name[-2:]) #Llenado de información\n",
    "toc = time.clock()\n",
    "resNames = names(res[0], nameNodes)\n",
    "\n",
    "if not os.path.isfile(\"output_LP.txt\"):\n",
    "    f = open(\"output_LP.txt\",\"w\")\n",
    "    f.close\n",
    "with open(\"output_LP.txt\", \"r+\") as f:\n",
    "    old = f.read()\n",
    "    f.seek(0)\n",
    "    \n",
    "    if file_name[-2:] == \"_c\":\n",
    "        tit = \"Con un costo de: $ \"\n",
    "        f.write(\"---Con costos de construcción---\\n\")\n",
    "    else:\n",
    "        tit = \"Con una distancia promedio de: \"\n",
    "        f.write(\"---Sin costos de construcción---\\n\")\n",
    "        \n",
    "    f.write(\"Se deben construir tiendas en: \" + (''.join(e+\", \" for e in resNames))[:-2] + \"\\n\")\n",
    "    f.write(tit + str(res[1]) + \"\\n\")\n",
    "    f.write(\"Tiempo del algoritmo: \" + str(toc - tic) + \"secs.\" + \"\\n\\n\\n\" + old)\n",
    "    f.close\n",
    "\n",
    "print \"Archivo 'output_LP.txt' generado en la raíz\"\n",
    "print \"Tiempo del algoritmo: \", toc - tic, \"secs.\""
   ]
  },
  {
   "cell_type": "markdown",
   "metadata": {},
   "source": [
    "El algoritmo utilizado para solucionar los problemas de las tiendas fue el algoritmo ADD, el cual trabaja de una forma parecida a un algoritmo Greedy, tiene una complejidad de $O(n^3)$, ya que se basa en una matriz de distancias entre cada par de nodos en el grafo del cual tambien depende su costo en memoria, mas las listas y variables auxiliares. Los tiempos de ejecucion de cada entrada pueden encontrarse en el archivo 'output_LP.txt'."
   ]
  },
  {
   "cell_type": "markdown",
   "metadata": {},
   "source": [
    "$2.$ <b>Dado un grafo $G = (V, E)$ con $n$ vertices y $m$ aristas. (El grafo podría representar una red telefónica). Cada arista es coloreada azul o roja. Tambien esta dado un parámetro $k$ como parte de la entrada. Proponga un algoritmo que encuentre un árbol de expansión sobre $G$ con exactamente $k$ aristas azules, y exactamente $n-k-1$ aristas rojas.</b>"
   ]
  },
  {
   "cell_type": "markdown",
   "metadata": {},
   "source": [
    "   Para la implementación de este algoritmo se toma como base algún algoritmo ya existente con el que se puedan detectar árboles de expansión dentro de un grafo. Se decide usar específicamente el algoritmo de Kruskal, el cual encuentra dentro de un grafo ponderado, un árbol de expansión mínima. \n",
    "\n",
    "El algoritmo requiere ciertas modificaciones, por ejemplo, con respecto a los pesos, cuyo espacio en la etiqueta de la arista se duplica para incluir una etiqueta adicional que especifique si la arista es azul o roja.\n",
    "Además, se debe modificar la condición que permita establecer si una arista entra o no dentro del árbol de expansión para posteriormente unir sus vértices y agregarla; considerando también que: el color sea azul y queden aún aristas azules por incluir(verificado con un contador), ó el color de la arista sea rojo.Luego de agregar la arista se disminuye el número de aristas azules por ubicar en el caso en que esta sea azul.<br><br>\n",
    "Para asegurar la correctitud de este algoritmo se tienen 3 invariantes:\n",
    "<ul>A. En cada iteración del algoritmo, en la cual se agregue una arista al árbol de expansión mínima, el árbol resultante no debe contener ciclos. Esta invariante es heredada del algoritmo de Kruskal.</ul>\n",
    "<ul>B. Se debe tener antes de retornar el árbol de expansión completo, igual cantidad de aristas azules a las soliciitadas, lo cual verificará que también existan tantas aristas rojas como se requiera, en caso de que también se cumpla la tercera invariante.</ul>\n",
    "<ul>C. Se debe verificar antes de retornar el árbol de expansión, que la cantidad de aristas existentes sea igual a la cantidad de vértices del grafo inicial -1.</ul>\n",
    "<br>Debido a que este algoritmo parte del algoritmo de Kruskal, su complejidad cambia solo en los aspectos en los cuales el algoritmo presente diferencias. Las diferencias se darán en la comparación adicional del color de la arista al momento de decidir si esta se poda o no, lo cual no afectaría considerablemente su complejidad debido a que igualmente se podarán cuantas aristas sean necesarias para que el grafo resultante sea un árbol de expansión mínima. Por estas razones, para un grafo de $n$ vértices y $m$ aristas, la complejidad será de $O(m*log(n))$<br>\n",
    "<br>A continuación se presenta una implementación del algoritmo con la verificación de las invariantes previamente mencionadas, además se implementa una función para hacer las respectivas pruebas en dónde se lee un archivo de nombre \"input_mst\" que incluye tres líneas: cantidad de vértices del grafo, aristas azules requeridas y matriz triangular superior de adyacencia. En esta última función también se imprimen los resultados en pantalla y en un archivo llamado \"output_mst_1\"."
   ]
  },
  {
   "cell_type": "code",
   "execution_count": 11,
   "metadata": {
    "collapsed": false
   },
   "outputs": [],
   "source": [
    "parent = dict()\n",
    "rank = dict()\n",
    "\n",
    "def len_invariant(edges, i):\n",
    "    e=[]\n",
    "    for edge in edges:\n",
    "        peso, color, vertice1, vertice2 = edge\n",
    "        if not(vertice1 in e):\n",
    "            e.append(vertice1)\n",
    "        if not(vertice2 in e):\n",
    "            e.append(vertice2)\n",
    "    if(len(e)==(i+1)):\n",
    "        return True\n",
    "    else:\n",
    "        return False\n",
    "    \n",
    "def ciclo_invariant(g, inicio, c, rec):\n",
    "    if inicio in rec:\n",
    "        c[0]=True\n",
    "        return\n",
    "    rec.append(inicio)\n",
    "    for edge in g:\n",
    "        peso, color, vertice1, vertice2 = edge\n",
    "        if vertice1==inicio:\n",
    "            ciclo_invariant(g, vertice2, c, rec)\n",
    "        \n",
    "def find(vertice):\n",
    "    if parent[vertice] != vertice:\n",
    "        parent[vertice] = find(parent[vertice])\n",
    "    return parent[vertice]\n",
    "\n",
    "def union(vertice1, vertice2):\n",
    "    root1 = find(vertice1)\n",
    "    root2 = find(vertice2)\n",
    "    if root1 != root2:\n",
    "        if rank[root1] > rank[root2]:\n",
    "            parent[root2] = root1\n",
    "        else:\n",
    "            parent[root1] = root2\n",
    "            if rank[root1] == rank[root2]: rank[root2] += 1\n",
    "\n",
    "\n",
    "def k_rb(graph, k):#algoritmo que calcula el MST con número k de aristas azules\n",
    "    x=k\n",
    "    y=0\n",
    "    for vertice in graph['vertices']:\n",
    "        parent[vertice] = vertice\n",
    "        rank[vertice] = 0\n",
    "\n",
    "    st = set()\n",
    "    edges = list(graph['edges'])\n",
    "    edges.sort()\n",
    "    try: \n",
    "        for edge in edges:\n",
    "            peso, color, vertice1, vertice2 = edge\n",
    "            if find(vertice1) != find(vertice2) and ((color==\"B\" and k>0) or color==\"R\"):\n",
    "                union(vertice1, vertice2)\n",
    "                st.add(edge)\n",
    "                #verificar invariante de no ciclos\n",
    "                c=[]\n",
    "                c.append(False)\n",
    "                ciclo_invariant(st,vertice1,c,[])\n",
    "                assert not c[0]#verificación\n",
    "                #fin verificación\n",
    "                if color==\"B\":                    \n",
    "                    k=k-1\n",
    "                    y=y+1\n",
    "        #assert y==x# se tiene la cantidad correcta de nodos azules y nodos rojos\n",
    "        assert len_invariant(edges, len(st))# el árbol tiene la cantidad requerida de nodos\n",
    "        we=0\n",
    "        for vert in st:\n",
    "            peso, color, vertice1, vertice2 = vert\n",
    "            we=int(peso)+we\n",
    "        return we, st\n",
    "    except  AssertionError:\n",
    "        print \"No es posible crear árbol con requisitos solicitados\"\n",
    "        return set()\n",
    "\n",
    "def kruskal_rb():#esta función construye el grafo leyendo del archivo, llama al algoritmo, e imprime los resultados  \n",
    "    inf = open(\"input_mst\")#el archivo de entrada debe llamarse input_mst\n",
    "    p=[]\n",
    "    a=0\n",
    "    tam=\"\"\n",
    "    k=\"\"\n",
    "    linea=\"\"\n",
    "    for l in inf:\n",
    "        if a==0:\n",
    "            tam=l \n",
    "        elif a==1:\n",
    "            k=l\n",
    "        else:\n",
    "            linea=l\n",
    "            p.append(linea)        \n",
    "        a=a+1\n",
    "    inf.close()\n",
    "    ver=[]\n",
    "    cont=0\n",
    "    for i in range (int(tam)):\n",
    "        ver.append(str(cont))#crea vértices del grafo\n",
    "        cont=cont+1\n",
    "    #creación de aristas del grafo\n",
    "    ed=set()\n",
    "    val=[]\n",
    "    i=0\n",
    "    j=0\n",
    "    for l in p:\n",
    "        val= l.split(\"\\n\")[0].split(\"\\t\")\n",
    "        j=0\n",
    "        for x in val:\n",
    "            if x !='Inf' and x !='':\n",
    "                ar= x.split(\"/\")\n",
    "                ed.add((ar[0],ar[1],str(i),str(j+i)))#el valor \"+i\" sobra si la matriz no es diagonal superior\n",
    "            j=j+1\n",
    "        i=i+1\n",
    "\n",
    "    graph = {\n",
    "            'vertices': ver,\n",
    "            'edges': ed\n",
    "            }\n",
    "\n",
    "    peso, result= k_rb(graph, int(k))#aquí se llama el algoritmo que haya el MST\n",
    "    b=[]\n",
    "    r=[]\n",
    "    for res in result:\n",
    "        pes, color, vertice1, vertice2 = res\n",
    "        if color==\"B\":\n",
    "            b.append(\"(\"+vertice1+\",\"+vertice2+\")\")\n",
    "        else:\n",
    "            r.append(\"(\"+vertice1+\",\"+vertice2+\")\")\n",
    "    ouf = open (\"output_mst_1\", \"w\")\n",
    "    print \"Peso: \"+ str(peso)\n",
    "    ouf.write(str(peso)+\"\\n\")\n",
    "    print \"Aristas azules: \"+str(b)\n",
    "    ouf.write(str(b)+\"\\n\")\n",
    "    print \"Aristas rojas: \"+str(r)\n",
    "    ouf.write(str(r)+\"\\n\")\n",
    "    ouf.close()"
   ]
  },
  {
   "cell_type": "code",
   "execution_count": 12,
   "metadata": {
    "collapsed": false
   },
   "outputs": [
    {
     "name": "stdout",
     "output_type": "stream",
     "text": [
      "Peso: 21\n",
      "Aristas azules: ['(6,7)', '(0,4)', '(2,6)', '(1,3)']\n",
      "Aristas rojas: ['(1,5)', '(1,2)', '(0,2)']\n"
     ]
    }
   ],
   "source": [
    "kruskal_rb()#el archivo de entrada debe llamarse input_mst, y su resultado se llamará output_mst_1"
   ]
  },
  {
   "cell_type": "markdown",
   "metadata": {},
   "source": [
    "   Para una segunda implementación de este algoritmo se decide también tomar como base un algoritmo ya existente para hallar árboles de expansión mínima, en este caso en particular, el algoritmo de Prim. \n",
    "\n",
    "El algoritmo requiere ciertas modificaciones, por ejemplo, con respecto a los pesos, cuyo espacio en la etiqueta de la arista se duplica para incluir una etiqueta adicional que especifique si la arista es azul o roja.\n",
    "Además, se debe modificar la condición que permita establecer si una arista que cuente con un nodo no visitado, entrará o no dentro del árbol de expansión mínima; considerando también que: el color sea azul y queden aún aristas azules por incluir(verificado con un contador), ó el color de la arista sea rojo.Luego de agregar la arista se disminuye el número de aristas azules por ubicar en el caso en que esta sea azul.<br><br>\n",
    "Para asegurar la correctitud de este algoritmo se tienen 3 invariantes similarres a las requeridas por el algoritmo de Kruskal:\n",
    "<ul>A. En cada iteración del algoritmo, en la cual se agregue una arista al árbol de expansión mínima, el árbol resultante no debe contener ciclos. Esta invariante es heredada del algoritmo de Prim.</ul>\n",
    "<ul>B. Se debe tener antes de retornar el árbol de expansión completo, igual cantidad de aristas azules a las soliciitadas, lo cual verificará que también existan tantas aristas rojas como se requiera, en caso de que también se cumpla la tercera invariante.</ul>\n",
    "<ul>C. Se debe verificar antes de retornar el árbol de expansión, que la cantidad de aristas existentes sea igual a la cantidad de vértices del grafo inicial -1.</ul>\n",
    "<br>Debido a que este algoritmo parte del algoritmo de Prim, su complejidad cambia solo en los aspectos en los cuales el algoritmo presente diferencias. Las diferencias se darán en la comparación adicional del color de la arista al momento de decidir si esta se incluye o no dentro del árbol, lo cual no afectaría considerablemente su complejidad, debido a que igualmente se incluirán dentro del árbol la misma cantidad de aristas. Por estas razones, para un grafo de $n$ vértices, la complejidad será de $O(n2)$<br>\n",
    "<br>A continuación se presenta una implementación del algoritmo con la verificación de las invariantes previamente mencionadas, además se implementa una función para hacer las respectivas pruebas en dónde se lee un archivo de nombre \"input_mst\" que incluye tres líneas: cantidad de vértices del grafo, aristas azules requeridas y matriz triangular superior de adyacencia. En esta última función también se imprimen los resultados en pantalla y en un archivo llamado \"output_mst_2\"."
   ]
  },
  {
   "cell_type": "code",
   "execution_count": 13,
   "metadata": {
    "collapsed": true
   },
   "outputs": [],
   "source": [
    "from collections import defaultdict\n",
    "from heapq import *\n",
    "\n",
    "def len_invariant(edges, i):\n",
    "    e=[]\n",
    "    for edge in edges:\n",
    "        peso, color, vertice1, vertice2 = edge\n",
    "        if not(vertice1 in e):\n",
    "            e.append(vertice1)\n",
    "        if not(vertice2 in e):\n",
    "            e.append(vertice2)\n",
    "    if(len(e)==(i+1)):\n",
    "        return True\n",
    "    else:\n",
    "        return False\n",
    "    \n",
    "def ciclo_invariant(g, inicio, c, rec):\n",
    "    if inicio in rec:\n",
    "        c[0]=True\n",
    "        return\n",
    "    rec.append(inicio)\n",
    "    for edge in g:\n",
    "        peso, color, vertice1, vertice2 = edge\n",
    "        if vertice1==inicio:\n",
    "            ciclo_invariant(g, vertice2, c, rec)\n",
    "            \n",
    "def p_rb(graph ,k):\n",
    "    x=k\n",
    "    y=0\n",
    "    nodes=graph['vertices']\n",
    "    edges=graph['edges']\n",
    "    conn = defaultdict( list )\n",
    "    \n",
    "    for c,col,n1,n2 in edges:\n",
    "        conn[ n1 ].append( (c, n1, n2,col) )\n",
    "        conn[ n2 ].append( (c, n2, n1,col) )\n",
    " \n",
    "    st = []\n",
    "    used = set( nodes[ 0 ] )\n",
    "    usable_edges = conn[ nodes[0] ][:]\n",
    "    heapify( usable_edges )\n",
    "    try:\n",
    "        while usable_edges:\n",
    "            cost, n1, n2,col = heappop( usable_edges )\n",
    "            if n2 not in used and ((col==\"B\" and k>0) or col==\"R\"):\n",
    "                used.add( n2 )\n",
    "                st.append( (cost,col, n1, n2) )\n",
    "                #verificar invariante de no ciclos\n",
    "                c=[]\n",
    "                c.append(False)\n",
    "                ciclo_invariant(st,n1,c,[])\n",
    "                assert not c[0]#verificación\n",
    "                #fin verificación\n",
    "                if col==\"B\":                    \n",
    "                        k=k-1\n",
    "                        y=y+1\n",
    "                for e in conn[ n2 ]:\n",
    "                    if e[ 2 ] not in used:\n",
    "                        heappush( usable_edges, e )\n",
    "\n",
    "        assert y==x# se tiene la cantidad correcta de nodos azules y nodos rojos \n",
    "        assert len_invariant(edges, len(st))# el árbol tiene la cantidad requerida de nodos\n",
    "        p=0\n",
    "        for x in st:#calcular peso para retornar\n",
    "            peso,a,b,c = x\n",
    "            p=p+int(peso)\n",
    "\n",
    "        return p, st\n",
    "    except  AssertionError:\n",
    "        print \"No es posible crear árbol con requisitos solicitados\"\n",
    "        return set()\n",
    "    \n",
    "def prim_rb():#esta función construye el grafo leyendo del archivo, llama al algoritmo, e imprime los resultados  \n",
    "    inf = open(\"input_mst\")#el archivo de entrada debe llamarse input_mst\n",
    "    p=[]\n",
    "    a=0\n",
    "    tam=\"\"\n",
    "    k=\"\"\n",
    "    linea=\"\"\n",
    "    for l in inf:\n",
    "        if a==0:\n",
    "            tam=l \n",
    "        elif a==1:\n",
    "            k=l\n",
    "        else:\n",
    "            linea=l\n",
    "            p.append(linea)        \n",
    "        a=a+1\n",
    "    inf.close()\n",
    "    ver=[]\n",
    "    cont=0\n",
    "    for i in range (int(tam)):\n",
    "        ver.append(str(cont))#crea vértices del grafo\n",
    "        cont=cont+1\n",
    "    #creación de aristas del grafo\n",
    "    ed=set()\n",
    "    val=[]\n",
    "    i=0\n",
    "    j=0\n",
    "    for l in p:\n",
    "        val= l.split(\"\\n\")[0].split(\"\\t\")\n",
    "        j=0\n",
    "        for x in val:\n",
    "            if x !='Inf' and x !='':\n",
    "                ar= x.split(\"/\")\n",
    "                ed.add((ar[0],ar[1],str(i),str(j+i)))#el valor \"+i\" sobra si la matriz no es diagonal superior\n",
    "            j=j+1\n",
    "        i=i+1\n",
    "\n",
    "    graph = {\n",
    "            'vertices': ver,\n",
    "            'edges': ed\n",
    "            }\n",
    "    peso, result= p_rb(graph, int(k))#aquí se llama el algoritmo que haya el MST\n",
    "    b=[]\n",
    "    r=[]\n",
    "    for res in result:\n",
    "        pes, color, vertice1, vertice2 = res\n",
    "        if color==\"B\":\n",
    "            b.append(\"(\"+vertice1+\",\"+vertice2+\")\")\n",
    "        else:\n",
    "            r.append(\"(\"+vertice1+\",\"+vertice2+\")\")\n",
    "    ouf = open (\"output_mst_2\", \"w\")\n",
    "    print \"Peso: \"+ str(peso)\n",
    "    ouf.write(str(peso)+\"\\n\")\n",
    "    print \"Aristas azules: \"+str(b)\n",
    "    ouf.write(str(b)+\"\\n\")\n",
    "    print \"Aristas rojas: \"+str(r)\n",
    "    ouf.write(str(r)+\"\\n\")\n",
    "    ouf.close()"
   ]
  },
  {
   "cell_type": "code",
   "execution_count": 14,
   "metadata": {
    "collapsed": false
   },
   "outputs": [
    {
     "name": "stdout",
     "output_type": "stream",
     "text": [
      "Peso: 21\n",
      "Aristas azules: ['(0,4)', '(1,3)', '(2,6)', '(6,7)']\n",
      "Aristas rojas: ['(0,2)', '(2,1)', '(1,5)']\n"
     ]
    }
   ],
   "source": [
    "prim_rb()#el archivo de entrada debe llamarse input_mst, y su resultado se llamará output_mst_2"
   ]
  },
  {
   "cell_type": "markdown",
   "metadata": {},
   "source": [
    "Se puede notar en ambos algoritmos para solucionar el problema, que, aunque puedan obtener árboles diferentes (en entradas iguales), siempre se tendrá el mismo peso, garantizando la correctitud del árbol de expansión mínima y de la cantidad de aristas azules o rojas requeridas.\n",
    "A continuación se realizará una implementación de los algoritmos que omita las invariantes y que registre en cada caso el tiempo de ejecución del respectivo algoritmo."
   ]
  },
  {
   "cell_type": "code",
   "execution_count": 15,
   "metadata": {
    "collapsed": true
   },
   "outputs": [],
   "source": [
    "import random as rnd\n",
    "parent = dict()\n",
    "rank = dict()\n",
    "\n",
    "def find(vertice):\n",
    "    if parent[vertice] != vertice:\n",
    "        parent[vertice] = find(parent[vertice])\n",
    "    return parent[vertice]\n",
    "\n",
    "def union(vertice1, vertice2):\n",
    "    root1 = find(vertice1)\n",
    "    root2 = find(vertice2)\n",
    "    if root1 != root2:\n",
    "        if rank[root1] > rank[root2]:\n",
    "            parent[root2] = root1\n",
    "        else:\n",
    "            parent[root1] = root2\n",
    "            if rank[root1] == rank[root2]: rank[root2] += 1\n",
    "\n",
    "def acct_k_rb(graph, k, acct):#algoritmo que calcula el MST con número k de aristas azules\n",
    "    x=k;acct.count()\n",
    "    y=0;acct.count()\n",
    "    for vertice in graph['vertices']:\n",
    "        parent[vertice] = vertice;acct.count()\n",
    "        rank[vertice] = 0;acct.count()\n",
    "\n",
    "    st = set();acct.count()\n",
    "    edges = list(graph['edges']);acct.count()\n",
    "    edges.sort();acct.count()\n",
    "    try: \n",
    "        for edge in edges:\n",
    "            peso, color, vertice1, vertice2 = edge;acct.count()\n",
    "            if find(vertice1) != find(vertice2) and ((color==\"B\" and k>0) or color==\"R\"):\n",
    "                union(vertice1, vertice2);acct.count()\n",
    "                st.add(edge)  ;acct.count()\n",
    "                if color==\"B\":                    \n",
    "                    k=k-1;acct.count()\n",
    "                    y=y+1;acct.count()\n",
    "        we=0;acct.count()\n",
    "        for vert in st:\n",
    "            peso, color, vertice1, vertice2 = vert;acct.count()\n",
    "            we=int(peso)+we;acct.count()\n",
    "        return we, st;acct.count()\n",
    "    except:      \n",
    "        return set()\n",
    "    \n",
    "class Counter:\n",
    "    '''\n",
    "    Class Counter\n",
    "    Implements a step counter, which is used to compute the number of basic operations performed in\n",
    "    a particular call to a function.\n",
    "    '''\n",
    "    def __init__(self):\n",
    "        self.steps = 0\n",
    "\n",
    "    def reset(self):\n",
    "        self.steps = 0\n",
    "\n",
    "    def count(self):\n",
    "        self.steps += 1\n",
    "\n",
    "    def print_steps(self):\n",
    "        print \"Number of steps =\", self.steps\n",
    "        \n",
    "def k_exper_analysis(n):\n",
    "    results = []\n",
    "    tiempo=[]    \n",
    "    acct = Counter()\n",
    "    for i in range (3,n+3):\n",
    "        ver=[]\n",
    "        cont=0\n",
    "        for i in range (n):\n",
    "            ver.append(str(cont))#crea vértices del grafo\n",
    "            cont=cont+1\n",
    "            \n",
    "        ed=set(); \n",
    "        for i in range (n):\n",
    "            x=rnd.randint(0,10)\n",
    "            y='B'\n",
    "            if x<5:\n",
    "                y='R' \n",
    "            ed.add((rnd.randint(0,10),y,rnd.randint(0,n-1),rnd.randint(0,n-1)))\n",
    "            ed.add((rnd.randint(0,10),y,rnd.randint(0,n-1),rnd.randint(0,n-1)))\n",
    "        \n",
    "        graph = {\n",
    "            'vertices': ver,\n",
    "            'edges': ed\n",
    "            }\n",
    "                             \n",
    "        acct.reset\n",
    "        tic = time.clock()#get start time\n",
    "        acct_k_rb(graph,rnd.randint(0,n-1),acct)\n",
    "        toc = time.clock()#get final time\n",
    "        tiempo.append(toc-tic)\n",
    "        results.append(acct.steps)\n",
    "        \n",
    "    r= [tiempo, results]\n",
    "    \n",
    "    return r"
   ]
  },
  {
   "cell_type": "code",
   "execution_count": 16,
   "metadata": {
    "collapsed": false,
    "scrolled": true
   },
   "outputs": [
    {
     "data": {
      "text/plain": [
       "[<matplotlib.lines.Line2D at 0x7bf3e48>,\n",
       " <matplotlib.lines.Line2D at 0x7dd9550>]"
      ]
     },
     "execution_count": 16,
     "metadata": {},
     "output_type": "execute_result"
    },
    {
     "data": {
      "image/png": "[encoded data removed]",
      "text/plain": [
       "<matplotlib.figure.Figure at 0x6d497f0>"
      ]
     },
     "metadata": {},
     "output_type": "display_data"
    }
   ],
   "source": [
    "import pylab as pl\n",
    "%matplotlib inline\n",
    "\n",
    "pl.figure (1)\n",
    "x=np.arange(80)\n",
    "res=(k_exper_analysis(80))#Caso experimental para el algoritmo basado en Kruskal.\n",
    "p=np.array(res[1])\n",
    "t=np.array(res[0])*100\n",
    "pl.plot(x, p, 'k.', t, 'r.')"
   ]
  },
  {
   "cell_type": "code",
   "execution_count": 17,
   "metadata": {
    "collapsed": true
   },
   "outputs": [],
   "source": [
    "def acct_p_rb(graph ,k,acct):\n",
    "    x=k;acct.count()\n",
    "    y=0;acct.count()\n",
    "    nodes=graph['vertices'];acct.count()\n",
    "    edges=graph['edges'];acct.count()\n",
    "    conn = defaultdict( list );acct.count()\n",
    "    \n",
    "    for c,col,n1,n2 in edges:\n",
    "        conn[ n1 ].append( (c, n1, n2,col) );acct.count()\n",
    "        conn[ n2 ].append( (c, n2, n1,col) );acct.count()\n",
    " \n",
    "    st = [];acct.count()\n",
    "    used = set( nodes[ 0 ] );acct.count()\n",
    "    usable_edges = conn[ nodes[0] ][:];acct.count()\n",
    "    heapify( usable_edges );acct.count()\n",
    "    try:\n",
    "        while usable_edges:\n",
    "            cost, n1, n2,col = heappop( usable_edges );acct.count()\n",
    "            if n2 not in used and ((col==\"B\" and k>0) or col==\"R\"):\n",
    "                used.add( n2 );acct.count()\n",
    "                st.append( (cost,col, n1, n2) )  ;acct.count()   \n",
    "                if col==\"B\":                    \n",
    "                        k=k-1;acct.count()\n",
    "                        y=y+1;acct.count()\n",
    "                for e in conn[ n2 ]:\n",
    "                    if e[ 2 ] not in used:\n",
    "                        heappush( usable_edges, e );acct.count()\n",
    " \n",
    "        p=0;acct.count()\n",
    "        for x in st:#calcular peso para retornar\n",
    "            peso,a,b,c = x;acct.count()\n",
    "            p=p+int(peso);acct.count()\n",
    "\n",
    "        return p, st;acct.count()\n",
    "    except :      \n",
    "        return set()\n",
    "        \n",
    "def p_exper_analysis(n):\n",
    "    results = []\n",
    "    tiempo=[]    \n",
    "    acct = Counter()\n",
    "    for i in range (3,n+3):\n",
    "        ver=[]\n",
    "        cont=0\n",
    "        for i in range (n):\n",
    "            ver.append(str(cont))#crea vértices del grafo\n",
    "            cont=cont+1\n",
    "            \n",
    "        ed=set(); \n",
    "        for i in range (n):\n",
    "            x=rnd.randint(0,10)\n",
    "            y='B'\n",
    "            if x<5:\n",
    "                y='R' \n",
    "            ed.add((rnd.randint(0,10),y,rnd.randint(0,n-1),rnd.randint(0,n-1)))\n",
    "            ed.add((rnd.randint(0,10),y,rnd.randint(0,n-1),rnd.randint(0,n-1)))\n",
    "        \n",
    "        graph = {\n",
    "            'vertices': ver,\n",
    "            'edges': ed\n",
    "            }        \n",
    "\n",
    "        acct.reset\n",
    "        tic = time.clock()#get start time\n",
    "        acct_p_rb(graph,rnd.randint(0,n-1),acct)\n",
    "        toc = time.clock()#get final time\n",
    "        tiempo.append(toc-tic)\n",
    "        results.append(acct.steps)\n",
    "        \n",
    "    r= [tiempo, results]\n",
    "    \n",
    "    return r"
   ]
  },
  {
   "cell_type": "code",
   "execution_count": 18,
   "metadata": {
    "collapsed": false
   },
   "outputs": [
    {
     "data": {
      "text/plain": [
       "[<matplotlib.lines.Line2D at 0x80838d0>,\n",
       " <matplotlib.lines.Line2D at 0x80839b0>]"
      ]
     },
     "execution_count": 18,
     "metadata": {},
     "output_type": "execute_result"
    },
    {
     "data": {
      "image/png": "[encoded data removed]",
      "text/plain": [
       "<matplotlib.figure.Figure at 0x7ecab00>"
      ]
     },
     "metadata": {},
     "output_type": "display_data"
    }
   ],
   "source": [
    "import pylab as pl\n",
    "%matplotlib inline\n",
    "\n",
    "pl.figure (1)\n",
    "x=np.arange(80)\n",
    "res=(p_exper_analysis(80))#Caso experimental para el algoritmo basado en Prim.\n",
    "p=np.array(res[1])\n",
    "t=np.array(res[0])*100\n",
    "pl.plot(x, p, 'k.', t, 'r.')"
   ]
  },
  {
   "cell_type": "markdown",
   "metadata": {},
   "source": [
    "Se puede ver para ambos algoritmos un tiempo de ejecución muy bajo incluso para grafos de gran tamaño (más de diez véertices), sin embargo, se puede notar un gran aumento de la cantidad de pasos requeridos para lograr el propósito de los algoritmos. A continuación se mostrará una comparación en una misma gráfica de ambas implementaciones."
   ]
  },
  {
   "cell_type": "code",
   "execution_count": 19,
   "metadata": {
    "collapsed": false
   },
   "outputs": [
    {
     "data": {
      "text/plain": [
       "[<matplotlib.lines.Line2D at 0x80cd470>,\n",
       " <matplotlib.lines.Line2D at 0x80cd550>,\n",
       " <matplotlib.lines.Line2D at 0x80cdb70>,\n",
       " <matplotlib.lines.Line2D at 0x80da0f0>]"
      ]
     },
     "execution_count": 19,
     "metadata": {},
     "output_type": "execute_result"
    },
    {
     "data": {
      "image/png": "[encoded data removed]",
      "text/plain": [
       "<matplotlib.figure.Figure at 0x80a00b8>"
      ]
     },
     "metadata": {},
     "output_type": "display_data"
    }
   ],
   "source": [
    "import pylab as pl\n",
    "%matplotlib inline\n",
    "\n",
    "pl.figure (1)\n",
    "x=np.arange(60)\n",
    "res=(k_exper_analysis(60))#Caso experimental para el algoritmo basado en Kruskal.\n",
    "res2=(p_exper_analysis(60))#Caso experimental para el algoritmo basado en Prim.\n",
    "p=np.array(res[1])\n",
    "t=np.array(res[0])\n",
    "p2=np.array(res2[1])\n",
    "t2=np.array(res2[0])\n",
    "pl.plot(x, p, 'k.', t, 'k.', p2, 'r.', t2, 'r.')#Prim es el caso rojo y Kruskal el negro."
   ]
  },
  {
   "cell_type": "markdown",
   "metadata": {},
   "source": [
    "Considerando que en la anterior gráfica, la cantidad de pasos requerida por la implementación basada en el algoritmo de Prim es la línea roja, y la cantidad de pasos requerida por la implementación basada en el algoritmo de Kruskal es la línea negra, posemos evidenciar una eficiencia considerablemente mayor en la primera implementación para solucionar el problema, la implementación basada en Kruskal."
   ]
  },
  {
   "cell_type": "markdown",
   "metadata": {},
   "source": [
    "$3.$ <b>La distancia de Hamming $dist(u,v)$ entre dos vectores binarios $v = (v_1 , . . . , v_n )$ $and$ $w = (w_1 , . . . , w_n )$ es el número de índices $k$ tal que $v_k \\neq w_k$. Una pregunta fundamental en la teoría de la codificación es determinar el número: <br><br>\n",
    "<center>$A(n, d) =$ $max$ $|$ {$S ⊂ {0, 1}$ $n$ $|$ $dist(u, v) ≥ d$ $for$ $all$ $distinct$ $u, v ∈ S$} $|$</center><br>\n",
    "el máximo número de vectores binarios de longitud $n$ que uno puede encontrar tal que dos vectores diferentes tienen una distancia de Hamming $≥ d$.  Por ejemplo, $A(5, 4) = 2$. \n",
    "El grafo de Hamming $H(n, d) = (V, E)$ es el gráfo con $2$<sup>$n$</sup> vertices $V$ dados por cadenas binarias de longitud $n$. Nosotros tenemos $(u, v) ∈ E$ si y solo si $dist(u, v) ≥ d$. El número $A(n,d)$ coincide con el tamaño de un clique máximo en $H(n,d)$. Encuentre un algoritmo \"eficiente\"  para calcular el clique máximo en el grafo de Hamming (calcular el clique máximo es un problema NP-difícil).</b>"
   ]
  },
  {
   "cell_type": "markdown",
   "metadata": {
    "collapsed": true
   },
   "source": [
    "<h4>Librerias</h4>"
   ]
  },
  {
   "cell_type": "code",
   "execution_count": 40,
   "metadata": {
    "collapsed": true
   },
   "outputs": [],
   "source": [
    "import numpy as np\n",
    "import matplotlib.pyplot as plt\n",
    "import networkx as nx\n",
    "import random as rnd"
   ]
  },
  {
   "cell_type": "markdown",
   "metadata": {},
   "source": [
    "<h4>Construcción del Grafo</h4>"
   ]
  },
  {
   "cell_type": "markdown",
   "metadata": {},
   "source": [
    "La construcción del grafo de Hamming se hace de la siguiente manera:\n",
    "\n",
    "1. <i>Elegir la dimensión:</i> Esto significa que se escoge la cantidad de dígitos de los números binarios ($n$).\n",
    "2. <i>Sacar todas las posibles combinaciones:</i> Se debe sacar todas las posibles combinaciones de 1’s y 0’s (tabla de verdad) dentro de las dimensiones elegidas, es decir el total de combinaciones es $2^n$ (<u>Función \"true_table\"</u>).\n",
    "3. <i>Elegir la distancia mínima de Hamming:</i> Se decide que distancia de Hamming mínima para hacer las conexiones se desea tener ($d$).\n",
    "4. <i>Conectar los nodos:</i> Conectar los números binarios que tengan dicha distancia de Hamming (<u>Función \"construct_graph\"</u>)."
   ]
  },
  {
   "cell_type": "code",
   "execution_count": 35,
   "metadata": {
    "collapsed": true
   },
   "outputs": [],
   "source": [
    "def true_table(bits, acct): \n",
    "    vertices = []; acct.count()\n",
    "    for i in range(pow(2,bits)): \n",
    "        acct.count()\n",
    "        element=[0]*bits; acct.count() \n",
    "        for j in reversed(range(bits)): \n",
    "            acct.count()\n",
    "            if i<=1: \n",
    "                acct.count()\n",
    "                element[j]=i; acct.count() \n",
    "                if i==1:\n",
    "                    acct.count()\n",
    "                    i=0; acct.count() \n",
    "            else: \n",
    "                acct.count()\n",
    "                element[j]=i%2; acct.count() \n",
    "                i=i//2; acct.count() \n",
    "        vertices.append(element); acct.count()\n",
    "    return vertices\n",
    "\n",
    "def hamming(binary_1, binary_2, acct):\n",
    "    dif = 0; acct.count()\n",
    "    size1 = len(binary_1); acct.count()\n",
    "    size2 = len(binary_2); acct.count()\n",
    "    for i in range(0,size1):\n",
    "        acct.count()\n",
    "        if binary_1[i] != binary_2[i]:\n",
    "            acct.count()\n",
    "            dif += 1; acct.count()\n",
    "    return dif\n",
    "\n",
    "def graph_reltion(n, d, acct):\n",
    "    positions = []; acct.count()\n",
    "    size = 2**n; acct.count()\n",
    "    vertices = true_table(n, acct)\n",
    "    \n",
    "    for i in range(0, size):\n",
    "        acct.count()\n",
    "        for j in range(i+1, size):\n",
    "            acct.count()\n",
    "            dif = hamming(vertices[i],vertices[j], acct)\n",
    "            \n",
    "            if dif >= d:\n",
    "                acct.count()\n",
    "                aux = [i,j]; acct.count()\n",
    "                positions.append(aux); acct.count()\n",
    "                \n",
    "    return positions\n",
    "\n",
    "def construct_graph(n, d, acct):\n",
    "    graph = np.zeros((2**n,2**n), dtype=np.int); acct.count()\n",
    "    \n",
    "    positions = graph_reltion(n, d, acct)\n",
    "    count = 0; acct.count()\n",
    "    for i in range(0, len(positions)):\n",
    "        acct.count()\n",
    "        pos1 = positions[i][0]; acct.count()\n",
    "        pos2 = positions[i][1]; acct.count()\n",
    "        \n",
    "        graph[pos1, pos2] = 1; acct.count()\n",
    "        graph[pos2, pos1] = 1; acct.count()\n",
    "        \n",
    "        count +=1; acct.count()\n",
    "    return graph, count"
   ]
  },
  {
   "cell_type": "markdown",
   "metadata": {},
   "source": [
    "<h4>Clique Máximo</h4>"
   ]
  },
  {
   "cell_type": "markdown",
   "metadata": {},
   "source": [
    "Para hallar el clique máximo se utilizó el algoritmo de <i>Bron Kerbosch</i> el cual es un algoritmo recursivo backtracking, su complejidad es de $2^v$. Este algoritmo tiene los siguientes parámetros:\n",
    "<br>P: vértices.</br>\n",
    "<br>R: Algunos de los vértices de P ($P∪X$).</br>\n",
    "<br>X: Ninguno de los vértices de P.</br>\n",
    "<br>Donde P se inicializa con todos los vértices que tiene el grafo, R y X vacío.</br>\n",
    "<br>En cada llamada recursiva el algoritmo revisa los vértices de P en donde R se añade a los vértices(v), P y X sean los vecinos de N(v) para hacer llamada recursiva. Y después se elimina el vértice(v) de la lista P y se añade a la lista X para excluirlo."
   ]
  },
  {
   "cell_type": "code",
   "execution_count": 39,
   "metadata": {
    "collapsed": false
   },
   "outputs": [],
   "source": [
    "def N(graph, vertex, acct):\n",
    "    return [i for i, n_v in enumerate(graph[vertex]) if n_v]\n",
    "\n",
    "def bron_kerbosch(r, p, x, data, graph, acct):\n",
    "    if len(p) == 0 and len(x) == 0:\n",
    "        acct.count()\n",
    "        data.append(r); acct.count()\n",
    "    for vertex in p[:]:\n",
    "        acct.count()\n",
    "        r_new = r[:]; acct.count()\n",
    "        r_new.append(vertex); acct.count()\n",
    "        p_new = [val for val in p if val in N(graph, vertex, acct)]\n",
    "        x_new = [val for val in x if val in N(graph, vertex, acct)]\n",
    "        bron_kerbosch(r_new, p_new, x_new, data, graph, acct)\n",
    "        p.remove(vertex); acct.count()\n",
    "        x.append(vertex); acct.count()\n",
    "\n",
    "def maximum_clique(graph, n, acct):\n",
    "    r = []; acct.count()\n",
    "    x = []; acct.count()\n",
    "    data = []; acct.count()\n",
    "    p = range(2**n); acct.count()\n",
    "    bron_kerbosch(r, p, x, data, graph, acct)\n",
    "    vertices = true_table(n, acct)\n",
    "    \n",
    "    clique_list = []; acct.count()\n",
    "    for i in range(0, len(data)):\n",
    "        acct.count()\n",
    "        vertices_clique = []; acct.count()\n",
    "        for j in range(0, len(data[i])):\n",
    "            acct.count()\n",
    "            pos = data[i][j]; acct.count()\n",
    "            vertex = \"\".join(str(x) for x in vertices[pos])\n",
    "            vertices_clique.append(vertex); acct.count()\n",
    "        clique_list.append(vertices_clique); acct.count()\n",
    "    return clique_list"
   ]
  },
  {
   "cell_type": "markdown",
   "metadata": {},
   "source": [
    "<h4>Dibujar Grafo</h4>"
   ]
  },
  {
   "cell_type": "code",
   "execution_count": 23,
   "metadata": {
    "collapsed": true
   },
   "outputs": [],
   "source": [
    "def draw_graph(graph):\n",
    "    G = nx.from_numpy_matrix(np.array(graph), create_using=nx.MultiDiGraph())\n",
    "    pos = nx.circular_layout(G)\n",
    "    nx.draw_circular(G)\n",
    "    labels = {i : int(bin(i)[2:]) for i in G.nodes()}\n",
    "    nx.draw_networkx_labels(G, pos, labels, font_size=10)\n",
    "    plt.show()"
   ]
  },
  {
   "cell_type": "markdown",
   "metadata": {},
   "source": [
    "<h4>Analisis del Tiempo</h4>"
   ]
  },
  {
   "cell_type": "code",
   "execution_count": 109,
   "metadata": {
    "collapsed": false
   },
   "outputs": [],
   "source": [
    "def analys_cliqueMax(num):\n",
    "    steps = []\n",
    "    timeP = []\n",
    "    acct = Counter()\n",
    "    for i in range(1, num):\n",
    "        #n = rnd.randint(1,num)\n",
    "        d = rnd.randint(1,i)     \n",
    "        acct.reset()     \n",
    "        tic = time.clock()\n",
    "        graph, egh_num = construct_graph(i, d, acct)\n",
    "        maximum_clique(graph, i, acct)\n",
    "        toc = time.clock()\n",
    "        \n",
    "        timeP.append(toc - tic)\n",
    "        steps.append(acct.steps)\n",
    "        \n",
    "    results = [steps, timeP]\n",
    "    return results"
   ]
  },
  {
   "cell_type": "code",
   "execution_count": 110,
   "metadata": {
    "collapsed": false
   },
   "outputs": [
    {
     "data": {
      "text/plain": [
       "[<matplotlib.lines.Line2D at 0xdcbc128>,\n",
       " <matplotlib.lines.Line2D at 0xdcbc2e8>]"
      ]
     },
     "execution_count": 110,
     "metadata": {},
     "output_type": "execute_result"
    },
    {
     "data": {
      "image/png": "[encoded data removed]",
      "text/plain": [
       "<matplotlib.figure.Figure at 0xdc54390>"
      ]
     },
     "metadata": {},
     "output_type": "display_data"
    }
   ],
   "source": [
    "pl.clf()\n",
    "x = np.arange(5)\n",
    "res = analys_cliqueMax(6)\n",
    "p = np.array(res[0])               #Negro -> Cantidad de procesos\n",
    "t = np.array(res[1]) * 100000      #Rojo  -> Tiempo de ejecución\n",
    "\n",
    "pl.plot(x, p, 'k', t, 'r')"
   ]
  },
  {
   "cell_type": "markdown",
   "metadata": {},
   "source": [
    "<h4>Archivo de Texto</h4>"
   ]
  },
  {
   "cell_type": "code",
   "execution_count": 24,
   "metadata": {
    "collapsed": true
   },
   "outputs": [],
   "source": [
    "# NOTA: La primera línea corresponde a la cantidad de nodos (n)\n",
    "#       La segunda línea corresponde a la distancia de Hamming (d)\n",
    "def open_text(name):\n",
    "    myfile = open(name)\n",
    "    mytext = []\n",
    "    for line in myfile:\n",
    "        mytext.append(line)\n",
    "    myfile.close()\n",
    "    return mytext"
   ]
  },
  {
   "cell_type": "code",
   "execution_count": 25,
   "metadata": {
    "collapsed": true
   },
   "outputs": [],
   "source": [
    "def save_text(name, vertices, graph, clque_list):\n",
    "    file = open(name+'.txt', 'w') \n",
    "    file.write('VERTICES:'+'\\n') \n",
    "    file.write(('\\n'.join([''.join(['{:4}'.format(item) for item in row]) \n",
    "      for row in vertices]))+'\\n')\n",
    "    file.write('GRAFO EN MATRIZ:'+'\\n') \n",
    "    file.write('\\n'.join([''.join(['{:4}'.format(item) for item in row]) \n",
    "      for row in graph])+'\\n')\n",
    "    file.write('CLIQUE MACIMO:'+'\\n')     \n",
    "    file.write('\\n'.join([' '.join(['{:4}'.format(item) for item in row]) \n",
    "      for row in clique_list])+'\\n')\n",
    "    \n",
    "    file.close() "
   ]
  },
  {
   "cell_type": "markdown",
   "metadata": {},
   "source": [
    "<h4>Solución</h4>"
   ]
  },
  {
   "cell_type": "code",
   "execution_count": 33,
   "metadata": {
    "collapsed": true
   },
   "outputs": [],
   "source": [
    "acct = Counter()\n",
    "mytext = open_text('input_Clique.txt')\n",
    "n = int (mytext[0])\n",
    "d = int (mytext[1])\n",
    "\n",
    "graph, edg_num = construct_graph(n, d, acct)\n",
    "vertices = true_table(n, acct)\n",
    "clique_list = maximum_clique(graph, n, acct)"
   ]
  },
  {
   "cell_type": "code",
   "execution_count": 34,
   "metadata": {
    "collapsed": false
   },
   "outputs": [
    {
     "name": "stdout",
     "output_type": "stream",
     "text": [
      "Grafo:\n"
     ]
    },
    {
     "data": {
      "image/png": "[encoded data removed]",
      "text/plain": [
       "<matplotlib.figure.Figure at 0x9467eb8>"
      ]
     },
     "metadata": {},
     "output_type": "display_data"
    }
   ],
   "source": [
    "print \"Grafo:\"\n",
    "draw_graph(graph)"
   ]
  },
  {
   "cell_type": "code",
   "execution_count": null,
   "metadata": {
    "collapsed": true
   },
   "outputs": [],
   "source": [
    "save_text('output_Clique', vertices, graph, clique_list)"
   ]
  },
  {
   "cell_type": "markdown",
   "metadata": {},
   "source": [
    "<h4>Referencias</h4>"
   ]
  },
  {
   "cell_type": "markdown",
   "metadata": {},
   "source": [
    "http://www.solveet.com/exercises/Tabla-de-verdad-en-Binario/339/solution-2140\n",
    "\n",
    "http://stackoverflow.com/questions/13904636/implementing-bron-kerbosch-algorithm-in-python\n",
    "\n",
    "https://en.wikipedia.org/wiki/Bron%E2%80%93Kerbosch_algorithm\n",
    "\n",
    "Diapositiva \"Clase 2 - Localizacion en redes.pptx\" (Anexo)"
   ]
  }
 ],
 "metadata": {
  "kernelspec": {
   "display_name": "Python 2",
   "language": "python",
   "name": "python2"
  },
  "language_info": {
   "codemirror_mode": {
    "name": "ipython",
    "version": 2
   },
   "file_extension": ".py",
   "mimetype": "text/x-python",
   "name": "python",
   "nbconvert_exporter": "python",
   "pygments_lexer": "ipython2",
   "version": "2.7.13"
  }
 },
 "nbformat": 4,
 "nbformat_minor": 2
}
