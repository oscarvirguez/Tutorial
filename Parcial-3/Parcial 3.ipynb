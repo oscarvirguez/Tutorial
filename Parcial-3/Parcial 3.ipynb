{
 "cells": [
  {
   "cell_type": "markdown",
   "metadata": {},
   "source": [
    "# 1. \n",
    "<i>Describa un algoritmo que determine en tiempo $O(n2 lg n)$ si existen tres puntos colineales de un conjunto de $n$ puntos dados.</i>"
   ]
  },
  {
   "cell_type": "markdown",
   "metadata": {},
   "source": [
    "Para hallar la complejidad del algoritmo para determinar si 3 puntos son colineales o no, se debe examinar el tiempo de ejecución de las dos funciones necesarias, la primera llamada $threePointsCol$ tiene una complejidad $O(n^2 lg n)$ debido a que es una iteración en la que se comparan todas las posibles combinaciones de la lista de puntos, pero con la diferencia en que no se tienen en cuenta el orden de los puntos, ahorrando en gran parte el tiempo de ejecución, es decir, el algoritmo garantiza que si en una previa iteración se evalúa la combinación de puntos <b>$'x, y, z'$</b>, no se va a evaluar en alguna iteración posterior la combinación de puntos <b>$'y, z, x'$</b> o <b>$'z, x, y'$</b> ni ninguna que contenga estos tres mismos puntos, debido a que sea cual sea el orden de los puntos, siempre van a formar la misma recta.\n",
    "La segunda funcion del algoritmo llamada $isContained$ es la que calcula la recta y verifica si los 3 puntos se encuentran dentro de la misma, retornando un valor de $True$ en caso positivo o $False$ en el caso contrario, dicha función tiene una complejidad $O(1)$ debido al cálculo realizado."
   ]
  },
  {
   "cell_type": "code",
   "execution_count": 1,
   "metadata": {
    "collapsed": true
   },
   "outputs": [],
   "source": [
    "def isContained(x, y, z):\n",
    "    if (y[0]-x[0])*(z[1]-x[1]) - (y[1]-x[1])*(z[0]-x[0]) == 0:\n",
    "        return True\n",
    "    else:\n",
    "        return False"
   ]
  },
  {
   "cell_type": "code",
   "execution_count": 2,
   "metadata": {
    "collapsed": false
   },
   "outputs": [],
   "source": [
    "def threePointsCol(points):\n",
    "    for i in range(0, len(points)-2):\n",
    "        for j in range(i+1, len(points)-1):\n",
    "            for k in range(j+1, len(points)):\n",
    "                if isContained(points[i], points[j], points[k]):\n",
    "                    return 'Existen colineales de 3 puntos'\n",
    "    \n",
    "    return 'No existen colineales de 3 puntos'"
   ]
  },
  {
   "cell_type": "code",
   "execution_count": 3,
   "metadata": {
    "collapsed": false
   },
   "outputs": [
    {
     "name": "stdout",
     "output_type": "stream",
     "text": [
      "No existen colineales de 3 puntos\n"
     ]
    }
   ],
   "source": [
    "points = [[1,1], [5,5], [7,3], [-4,9], [8,3]]\n",
    "print threePointsCol(points)"
   ]
  },
  {
   "cell_type": "code",
   "execution_count": 4,
   "metadata": {
    "collapsed": false
   },
   "outputs": [
    {
     "name": "stdout",
     "output_type": "stream",
     "text": [
      "Existen colineales de 3 puntos\n"
     ]
    }
   ],
   "source": [
    "points = [[1,1], [5,5], [3,3], [-4,9], [8,3]]\n",
    "print threePointsCol(points)"
   ]
  },
  {
   "cell_type": "markdown",
   "metadata": {},
   "source": [
    "# 2.\n",
    "<i>Diseñe un algoritmo que en tiempo O(n lg n) pueda determinar si un poligono definido por una\n",
    "secuencia de n puntos es simple (sus segmentos no se intersectan entre si).</i>"
   ]
  },
  {
   "cell_type": "markdown",
   "metadata": {},
   "source": [
    "Igualmente, para calcular la complejidad de este algoritmo, se deben analizar las 3 funciones utilizadas, la primera llamada $isSimplePol$, almacena en una lista todos los puntos de las líneas del polígono para usarlos posteriormente, despues de esto, empieza a comparar cada par de líneas de forma parecida al ejercicio número 1, es decir sin tener en cuenta el orden de las líneas, de esta manera se disminuye la cantidad total de comparaciones porque al calcular $L1$ con $L2$, se evitará comparar $L2$ con $L1$ y así con cada par de líneas, teniendo una complejidad  en tiempo de ejecución de $O(n lg n)$.\n",
    "Éste algoritmo envía todas las combinaciones posibles diferentes a la función $isSimplePol$, y compara el punto intercepto con los puntos almacenados anteriormente, si dicho punto no se encuentra en los almacenados, (que son los extremos de cada línea dada) quiere decir que el polígono no es simple, pues tiene puntos interceptos adicionales a las esquinas del polígono.\n",
    "La función $isSimplePol$, hace uso de la función $intersection$, la cual cumple la responsabilidad de hallar el punto intercepto entre dos líneas dadas, retornando dicho punto en caso de que exista, o retornando $False$ en caso contrario, éste calculo se logra realizar con una complejidad en tiempo de ejecución de $O(1)$ debido a que no exige más de unos calculos matemáticos simples, del mismo modo que la función $calcLine$.\n",
    "\n",
    "Además de éstas 3 funciones, se está haciendo uso de la clase $Line$, la cual es usada para crear una tupla de puntos que conforman una línea, la clase tiene los metodos que facilitan obtener el ñrimer y segundo punto, las coordenadas de los puntos y además la ecuacion de la recta calculada con la función $calcLine$.\n",
    "\n",
    "Teniendo en cuenta lo descrito anteriormente, podemos concluir que el algoritmo tiene una complejidad en tiempo de ejecución de $O(n lg n)$"
   ]
  },
  {
   "cell_type": "code",
   "execution_count": 5,
   "metadata": {
    "collapsed": false
   },
   "outputs": [],
   "source": [
    "class Line:\n",
    "    def __init__(self, P1, P2):\n",
    "        self.p1 = P1\n",
    "        self.p2 = P2\n",
    "        self.line = calcLine(P1, P2)\n",
    "\n",
    "    def getP1(self):\n",
    "        return self.p1\n",
    "\n",
    "    def getP2(self):\n",
    "        return self.p2\n",
    "    \n",
    "    def getCoor(self):\n",
    "        return [self.p1, self.p2]\n",
    "\n",
    "    def getLine(self):\n",
    "        return self.line\n",
    "    \n",
    "\n",
    "def calcLine(p1, p2):\n",
    "    A = (p1[1] - p2[1])\n",
    "    B = (p2[0] - p1[0])\n",
    "    C = (p1[0]*p2[1] - p2[0]*p1[1])\n",
    "    return A, B, -C\n",
    "\n",
    "def intersection(L1, L2):\n",
    "    D  = L1[0] * L2[1] - L1[1] * L2[0]\n",
    "    Dx = L1[2] * L2[1] - L1[1] * L2[2]\n",
    "    Dy = L1[0] * L2[2] - L1[2] * L2[0]\n",
    "    if D != 0:\n",
    "        x = Dx / D\n",
    "        y = Dy / D\n",
    "        return [x,y]\n",
    "    else:\n",
    "        return False"
   ]
  },
  {
   "cell_type": "code",
   "execution_count": 6,
   "metadata": {
    "collapsed": false
   },
   "outputs": [],
   "source": [
    "def isSimplePol(lst):\n",
    "    points = []\n",
    "    for i in range(0, len(lst)):\n",
    "        if lst[i].getP1() not in points:\n",
    "            points.append(lst[i].getP1())\n",
    "        if lst[i].getP2() not in points:\n",
    "            points.append(lst[i].getP2())\n",
    "    \n",
    "    for i in range(0, len(lst)-1):\n",
    "        for j in range(i+1, len(lst)):\n",
    "                if False != intersection(lst[i].getLine(), lst[j].getLine()) not in points:\n",
    "                    return 'El polígono no es simple'\n",
    "                \n",
    "    return 'El polígono es simple'        "
   ]
  },
  {
   "cell_type": "code",
   "execution_count": 7,
   "metadata": {
    "collapsed": false
   },
   "outputs": [
    {
     "name": "stdout",
     "output_type": "stream",
     "text": [
      "El polígono no es simple\n"
     ]
    }
   ],
   "source": [
    "p1 = [1,3]\n",
    "p2 = [3,3]\n",
    "p3 = [1,1]\n",
    "p4 = [3,1]\n",
    "points = [p1, p2, p3, p4]\n",
    "\n",
    "line1 = Line(points[1], points[2])\n",
    "line2 = Line(points[0], points[3])\n",
    "line3 = Line(points[2], points[3])\n",
    "line4 = Line(points[0], points[1])\n",
    "\n",
    "lines = [line1, line2, line3, line4]\n",
    "print isSimplePol(lines)\n"
   ]
  },
  {
   "cell_type": "code",
   "execution_count": 8,
   "metadata": {
    "collapsed": false
   },
   "outputs": [
    {
     "name": "stdout",
     "output_type": "stream",
     "text": [
      "El polígono es simple\n"
     ]
    }
   ],
   "source": [
    "p1 = [1,3]\n",
    "p2 = [3,3]\n",
    "p3 = [1,1]\n",
    "p4 = [3,1]\n",
    "points = [p1, p2, p3, p4]\n",
    "\n",
    "line1 = Line(points[1], points[2])\n",
    "line2 = Line(points[2], points[3])\n",
    "line3 = Line(points[0], points[1])\n",
    "\n",
    "lines = [line1, line2, line3]\n",
    "print isSimplePol(lines)"
   ]
  }
 ],
 "metadata": {
  "kernelspec": {
   "display_name": "Python 2",
   "language": "python",
   "name": "python2"
  },
  "language_info": {
   "codemirror_mode": {
    "name": "ipython",
    "version": 2
   },
   "file_extension": ".py",
   "mimetype": "text/x-python",
   "name": "python",
   "nbconvert_exporter": "python",
   "pygments_lexer": "ipython2",
   "version": "2.7.13"
  }
 },
 "nbformat": 4,
 "nbformat_minor": 2
}
